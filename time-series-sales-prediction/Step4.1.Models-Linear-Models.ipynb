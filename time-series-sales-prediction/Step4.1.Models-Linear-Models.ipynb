{
 "cells": [
  {
   "cell_type": "markdown",
   "metadata": {},
   "source": [
    "# Sales Prediction for Time Series Data"
   ]
  },
  {
   "cell_type": "markdown",
   "metadata": {},
   "source": [
    "## Part 4: Models (Linear Models)"
   ]
  },
  {
   "cell_type": "markdown",
   "metadata": {},
   "source": [
    "For the linear models, the first step is to see which scaler performs the best.  After selecting the scaler, comparisons will be made between the linear regression with no regularization, ridge regression, and elastic net.\n",
    "\n",
    "Submissions are evaluated by root mean squared error (RMSE). True target values are clipped into [0,20] range."
   ]
  },
  {
   "cell_type": "code",
   "execution_count": 1,
   "metadata": {},
   "outputs": [],
   "source": [
    "import numpy as np\n",
    "import pandas as pd \n",
    "from sklearn import linear_model\n",
    "from sklearn.metrics import mean_squared_error\n",
    "from sklearn.model_selection import GridSearchCV\n",
    "from sklearn.externals import joblib\n",
    "import lightgbm as lgb\n",
    "import os\n",
    "import time \n",
    "import datetime\n",
    "import seaborn as sns\n",
    "import matplotlib.pyplot as plt\n",
    "import random\n",
    "import gc\n",
    "\n",
    "%matplotlib inline "
   ]
  },
  {
   "cell_type": "code",
   "execution_count": 2,
   "metadata": {},
   "outputs": [],
   "source": [
    "y_train = joblib.load('../data/y_train_lev_1.pkl')\n",
    "y_test = joblib.load('../data/y_val_lev_1.pkl')\n",
    "y_train_full = joblib.load('../data/y_train_full.pkl')"
   ]
  },
  {
   "cell_type": "code",
   "execution_count": 3,
   "metadata": {},
   "outputs": [],
   "source": [
    "def submission(model, X_test):\n",
    "    '''\n",
    "    make submission file\n",
    "    arguments:    model = model name \n",
    "                  X_test= X_test name\n",
    "    return: a file saved in directory with timestamp\n",
    "    '''\n",
    "    # model prediction\n",
    "    pred = model.predict(X_test)\n",
    "    print('mean before clipping: ', pred.mean())\n",
    "    pred = pred.clip(0,20)\n",
    "    print('mean after clipping: ', pred.mean())\n",
    "\n",
    "    # create prediction dataframe\n",
    "    ID = joblib.load('ID.pkl')\n",
    "    predDF = pd.DataFrame() \n",
    "    predDF['ID'] = ID\n",
    "    predDF['item_cnt_month'] = pred\n",
    "    print(predDF.head())\n",
    "\n",
    "    # write dataframe to csv\n",
    "    ts = time.time()\n",
    "    st = datetime.datetime.fromtimestamp(ts).strftime('%m%d_%H.%M')\n",
    "    print('submission_' + st + '.csv')\n",
    "    \n",
    "    predDF.to_csv(header=True, index=False, path_or_buf = 'submission_' + st + '.csv')\n",
    "    \n",
    "    return None"
   ]
  },
  {
   "cell_type": "code",
   "execution_count": 4,
   "metadata": {},
   "outputs": [],
   "source": [
    "def linearReg(X_train, y_train, X_test, y_test):\n",
    "    X_train = X_train.drop(['shop_id','item_id', 'item_category_id'], axis = 1)\n",
    "    X_test = X_test.drop(['shop_id','item_id', 'item_category_id'], axis = 1)\n",
    "    model = linear_model.LinearRegression()\n",
    "    model.fit(X_train.values, y_train)\n",
    "    pred = model.predict(X_test.values)\n",
    "    pred = pred.clip(0, 20)\n",
    "\n",
    "    MSETest = mean_squared_error(y_test, pred)\n",
    "    RMSETest = np.sqrt(MSETest)\n",
    "    \n",
    "    MSETrain = mean_squared_error(y_train, model.predict(X_train.values).clip(0, 20))\n",
    "    RMSETrain = np.sqrt(MSETrain)\n",
    "    \n",
    "    print('Train RMSE:', RMSETrain)\n",
    "    print('Test RMSE:', RMSETest)\n",
    "    print('')\n",
    "    print('y_test mean: ', y_test.mean())\n",
    "    print('prediction mean: ', pred.mean())\n",
    "    \n",
    "    return model"
   ]
  },
  {
   "cell_type": "markdown",
   "metadata": {},
   "source": [
    "### Compare different scalers"
   ]
  },
  {
   "cell_type": "markdown",
   "metadata": {},
   "source": [
    "Different scaler are used to train the linear model.    "
   ]
  },
  {
   "cell_type": "markdown",
   "metadata": {},
   "source": [
    "#### No Scaling"
   ]
  },
  {
   "cell_type": "code",
   "execution_count": 5,
   "metadata": {},
   "outputs": [],
   "source": [
    "X_train = pd.read_pickle('../data/X_train_lev_1_noScaler')\n",
    "X_test = pd.read_pickle('../data/X_test_lev_1_noScaler')"
   ]
  },
  {
   "cell_type": "code",
   "execution_count": 6,
   "metadata": {},
   "outputs": [
    {
     "name": "stdout",
     "output_type": "stream",
     "text": [
      "Train RMSE: 0.9041779879022737\n",
      "Test RMSE: 1.2955651310937322\n",
      "\n",
      "y_test mean:  0.33427927\n",
      "prediction mean:  0.27298765614518306\n"
     ]
    }
   ],
   "source": [
    "model = linearReg(X_train, y_train, X_test, y_test)"
   ]
  },
  {
   "cell_type": "code",
   "execution_count": 7,
   "metadata": {},
   "outputs": [
    {
     "name": "stdout",
     "output_type": "stream",
     "text": [
      "lr_no_scale_0201_15.05.pkl\n"
     ]
    }
   ],
   "source": [
    "st = datetime.datetime.fromtimestamp(time.time()).strftime('%m%d_%H.%M')\n",
    "joblib.dump(model, 'lr_no_scale_' + st + '.pkl')\n",
    "print('lr_no_scale_' + st + '.pkl')"
   ]
  },
  {
   "cell_type": "markdown",
   "metadata": {},
   "source": [
    "#### Standard Scaler"
   ]
  },
  {
   "cell_type": "code",
   "execution_count": 8,
   "metadata": {},
   "outputs": [],
   "source": [
    "X_train = pd.read_pickle('../data/X_train_lev_1_standardScaler')\n",
    "X_test = pd.read_pickle('../data/X_test_lev_1_standardScaler')"
   ]
  },
  {
   "cell_type": "code",
   "execution_count": 9,
   "metadata": {},
   "outputs": [
    {
     "name": "stdout",
     "output_type": "stream",
     "text": [
      "Train RMSE: 0.904214\n",
      "Test RMSE: 1.1546773\n",
      "\n",
      "y_test mean:  0.33427927\n",
      "prediction mean:  0.25371638\n"
     ]
    }
   ],
   "source": [
    "model = linearReg(X_train, y_train, X_test, y_test)"
   ]
  },
  {
   "cell_type": "code",
   "execution_count": 10,
   "metadata": {},
   "outputs": [
    {
     "name": "stdout",
     "output_type": "stream",
     "text": [
      "lr_standard_scale_0201_15.05.pkl\n"
     ]
    }
   ],
   "source": [
    "st = datetime.datetime.fromtimestamp(time.time()).strftime('%m%d_%H.%M')\n",
    "joblib.dump(model, 'lr_standard_scale_' + st + '.pkl')\n",
    "print('lr_standard_scale_' + st + '.pkl')"
   ]
  },
  {
   "cell_type": "markdown",
   "metadata": {},
   "source": [
    "#### RobustScaler"
   ]
  },
  {
   "cell_type": "code",
   "execution_count": 11,
   "metadata": {},
   "outputs": [],
   "source": [
    "X_train = pd.read_pickle('../data/X_train_lev_1_RobustScaler')\n",
    "X_test = pd.read_pickle('../data/X_test_lev_1_RobustScaler')"
   ]
  },
  {
   "cell_type": "code",
   "execution_count": 12,
   "metadata": {},
   "outputs": [
    {
     "name": "stdout",
     "output_type": "stream",
     "text": [
      "Train RMSE: 0.9041888\n",
      "Test RMSE: 1.1566713\n",
      "\n",
      "y_test mean:  0.33427927\n",
      "prediction mean:  0.24483177\n"
     ]
    }
   ],
   "source": [
    "model = linearReg(X_train, y_train, X_test, y_test)"
   ]
  },
  {
   "cell_type": "code",
   "execution_count": 13,
   "metadata": {},
   "outputs": [
    {
     "name": "stdout",
     "output_type": "stream",
     "text": [
      "lr_robust_scale_0201_15.05.pkl\n"
     ]
    }
   ],
   "source": [
    "st = datetime.datetime.fromtimestamp(time.time()).strftime('%m%d_%H.%M')\n",
    "joblib.dump(model, 'lr_robust_scale_' + st + '.pkl')\n",
    "print('lr_robust_scale_' + st + '.pkl')"
   ]
  },
  {
   "cell_type": "markdown",
   "metadata": {},
   "source": [
    "#### MinMax Scaler"
   ]
  },
  {
   "cell_type": "code",
   "execution_count": 14,
   "metadata": {},
   "outputs": [],
   "source": [
    "X_train = pd.read_pickle('../data/X_train_lev_1_MinMaxScaler')\n",
    "X_test = pd.read_pickle('../data/X_test_lev_1_MinMaxScaler')"
   ]
  },
  {
   "cell_type": "code",
   "execution_count": 15,
   "metadata": {},
   "outputs": [
    {
     "name": "stdout",
     "output_type": "stream",
     "text": [
      "Train RMSE: 0.9041996\n",
      "Test RMSE: 1.1542825\n",
      "\n",
      "y_test mean:  0.33427927\n",
      "prediction mean:  0.25732833\n"
     ]
    }
   ],
   "source": [
    "model = linearReg(X_train, y_train, X_test, y_test)"
   ]
  },
  {
   "cell_type": "code",
   "execution_count": 16,
   "metadata": {},
   "outputs": [
    {
     "name": "stdout",
     "output_type": "stream",
     "text": [
      "lr_minmax_scale_0201_15.06.pkl\n"
     ]
    }
   ],
   "source": [
    "st = datetime.datetime.fromtimestamp(time.time()).strftime('%m%d_%H.%M')\n",
    "joblib.dump(model, 'lr_minmax_scale_' + st + '.pkl')\n",
    "print('lr_minmax_scale_' + st + '.pkl')"
   ]
  },
  {
   "cell_type": "markdown",
   "metadata": {},
   "source": [
    "#### Quantile Scaler"
   ]
  },
  {
   "cell_type": "code",
   "execution_count": 17,
   "metadata": {},
   "outputs": [],
   "source": [
    "X_train = pd.read_pickle('../data/X_train_lev_1_QuantileScaler')\n",
    "X_test = pd.read_pickle('../data/X_test_lev_1_QuantileScaler')"
   ]
  },
  {
   "cell_type": "code",
   "execution_count": 18,
   "metadata": {},
   "outputs": [
    {
     "name": "stdout",
     "output_type": "stream",
     "text": [
      "Train RMSE: 1.014003\n",
      "Test RMSE: 1.2312081\n",
      "\n",
      "y_test mean:  0.33427927\n",
      "prediction mean:  0.31087527\n"
     ]
    }
   ],
   "source": [
    "model = linearReg(X_train, y_train, X_test, y_test)"
   ]
  },
  {
   "cell_type": "code",
   "execution_count": 19,
   "metadata": {},
   "outputs": [
    {
     "name": "stdout",
     "output_type": "stream",
     "text": [
      "lr_quantile_scale_0201_15.06.pkl\n"
     ]
    }
   ],
   "source": [
    "st = datetime.datetime.fromtimestamp(time.time()).strftime('%m%d_%H.%M')\n",
    "joblib.dump(model, 'lr_quantile_scale_' + st + '.pkl')\n",
    "print('lr_quantile_scale_' + st + '.pkl')"
   ]
  },
  {
   "cell_type": "markdown",
   "metadata": {},
   "source": [
    "### Compare with Ridge Regression and Elastic Net"
   ]
  },
  {
   "cell_type": "markdown",
   "metadata": {},
   "source": [
    "#### Ridge Regression - L2 regularization\n",
    "Alpha of 0 corresponds to linear regression.  "
   ]
  },
  {
   "cell_type": "code",
   "execution_count": 20,
   "metadata": {},
   "outputs": [],
   "source": [
    "X_train = pd.read_pickle('../data/X_train_lev_1_MinMaxScaler')\n",
    "X_test = pd.read_pickle('../data/X_test_lev_1_MinMaxScaler')\n",
    "X_train = X_train.drop(['shop_id','item_id', 'item_category_id'], axis = 1)\n",
    "X_test = X_test.drop(['shop_id','item_id', 'item_category_id'], axis = 1)"
   ]
  },
  {
   "cell_type": "code",
   "execution_count": 21,
   "metadata": {},
   "outputs": [
    {
     "name": "stdout",
     "output_type": "stream",
     "text": [
      "ridge_0_0201_15.06.pkl\n",
      "Alpha: 0 Train RMSE: 0.90642697 Test RMSE: 1.1543889\n",
      "ridge_1e-10_0201_15.06.pkl\n",
      "Alpha: 1e-10 Train RMSE: 0.9063489 Test RMSE: 1.3144988\n",
      "ridge_1e-05_0201_15.07.pkl\n",
      "Alpha: 1e-05 Train RMSE: 0.90634835 Test RMSE: 1.1547109\n",
      "ridge_0.001_0201_15.07.pkl\n",
      "Alpha: 0.001 Train RMSE: 0.9063636 Test RMSE: 1.1545651\n",
      "ridge_0.01_0201_15.07.pkl\n",
      "Alpha: 0.01 Train RMSE: 0.9065299 Test RMSE: 1.1544814\n",
      "ridge_0.5_0201_15.07.pkl\n",
      "Alpha: 0.5 Train RMSE: 0.92709523 Test RMSE: 1.1845108\n",
      "ridge_1_0201_15.07.pkl\n",
      "Alpha: 1 Train RMSE: 0.94325536 Test RMSE: 1.2006776\n",
      "ridge_10_0201_15.07.pkl\n",
      "Alpha: 10 Train RMSE: 1.0806948 Test RMSE: 1.3050978\n"
     ]
    }
   ],
   "source": [
    "ridgeResult = {}\n",
    "for alpha in [0, 1e-10, 1e-5, 1e-3, 1e-2, 0.5, 1, 10]:    \n",
    "    # define model\n",
    "    model = linear_model.Ridge(alpha = alpha, normalize = True)\n",
    "    model.fit(X_train.values, y_train)\n",
    "    \n",
    "    #make prediction\n",
    "    pred = model.predict(X_test.values)\n",
    "    pred = pred.clip(0, 20)\n",
    "\n",
    "    # calculate score\n",
    "    MSETest = mean_squared_error(y_test, pred)\n",
    "    RMSETest = np.sqrt(MSETest)\n",
    "    MSETrain = mean_squared_error(y_train, model.predict(X_train.values))\n",
    "    RMSETrain = np.sqrt(MSETrain)\n",
    "    \n",
    "    # save results\n",
    "    ridgeResult[alpha] = RMSETest\n",
    "    \n",
    "    st = datetime.datetime.fromtimestamp(time.time()).strftime('%m%d_%H.%M')\n",
    "    joblib.dump(model, 'ridge_' + str(alpha) + '_' + st + '.pkl')\n",
    "    \n",
    "    print('ridge_' + str(alpha) + '_' + st + '.pkl')\n",
    "    print('Alpha:', alpha, 'Train RMSE:', RMSETrain, 'Test RMSE:', RMSETest)\n",
    "    "
   ]
  },
  {
   "cell_type": "code",
   "execution_count": 22,
   "metadata": {},
   "outputs": [
    {
     "name": "stdout",
     "output_type": "stream",
     "text": [
      "The alpha with best RMSE:  0 RMSE: 1.1543889\n"
     ]
    }
   ],
   "source": [
    "print('The alpha with best RMSE: ', min(ridgeResult, key=ridgeResult.get), 'RMSE:', ridgeResult[min(ridgeResult, key=ridgeResult.get)])"
   ]
  },
  {
   "cell_type": "markdown",
   "metadata": {},
   "source": [
    "#### Elastic Net"
   ]
  },
  {
   "cell_type": "markdown",
   "metadata": {},
   "source": [
    "l1_ratio = 0 the penalty is an L2 penalty. \n",
    "<br> For l1_ratio = 1 it is an L1 penalty. \n",
    "<br>For 0 < l1_ratio < 1, the penalty is a combination of L1 and L2."
   ]
  },
  {
   "cell_type": "code",
   "execution_count": 23,
   "metadata": {},
   "outputs": [],
   "source": [
    "X_train = pd.read_pickle('../data/X_train_lev_1_MinMaxScaler')\n",
    "X_test = pd.read_pickle('../data/X_test_lev_1_MinMaxScaler')\n",
    "X_train = X_train.drop(['shop_id','item_id', 'item_category_id'], axis = 1)\n",
    "X_test = X_test.drop(['shop_id','item_id', 'item_category_id'], axis = 1)"
   ]
  },
  {
   "cell_type": "code",
   "execution_count": 24,
   "metadata": {},
   "outputs": [
    {
     "name": "stdout",
     "output_type": "stream",
     "text": [
      "elasticNet_0.01_0201_15.07.pkl\n",
      "l1_ratio: 0.01 Train RMSE: 1.2937804 Test RMSE: 1.4703438\n",
      "elasticNet_0.05_0201_15.07.pkl\n",
      "l1_ratio: 0.05 Train RMSE: 1.3061615 Test RMSE: 1.479641\n",
      "elasticNet_0.1_0201_15.07.pkl\n",
      "l1_ratio: 0.1 Train RMSE: 1.3065388 Test RMSE: 1.4799339\n",
      "elasticNet_0.5_0201_15.07.pkl\n",
      "l1_ratio: 0.5 Train RMSE: 1.3065388 Test RMSE: 1.4799339\n",
      "elasticNet_0.7_0201_15.07.pkl\n",
      "l1_ratio: 0.7 Train RMSE: 1.3065388 Test RMSE: 1.4799339\n",
      "elasticNet_0.9_0201_15.08.pkl\n",
      "l1_ratio: 0.9 Train RMSE: 1.3065388 Test RMSE: 1.4799339\n",
      "elasticNet_1_0201_15.08.pkl\n",
      "l1_ratio: 1 Train RMSE: 1.3065388 Test RMSE: 1.4799339\n"
     ]
    }
   ],
   "source": [
    "for l1_ratio in [0.01, 0.05, .1, .5, .7, .9, 1]:\n",
    "    model = linear_model.ElasticNet(alpha = 1,\n",
    "                                    l1_ratio = l1_ratio, \n",
    "                                    random_state = 123)\n",
    "    model.fit(X_train.values, y_train)\n",
    "    #make prediction\n",
    "    pred = model.predict(X_test.values)\n",
    "    pred = pred.clip(0, 20)\n",
    "\n",
    "    # calculate score\n",
    "    MSETest = mean_squared_error(y_test, pred)\n",
    "    RMSETest = np.sqrt(MSETest)\n",
    "    MSETrain = mean_squared_error(y_train, model.predict(X_train.values))\n",
    "    RMSETrain = np.sqrt(MSETrain)\n",
    "    \n",
    "    st = datetime.datetime.fromtimestamp(time.time()).strftime('%m%d_%H.%M')\n",
    "    joblib.dump(model, 'elasticNet_' + str(l1_ratio) + '_' + st + '.pkl')\n",
    "    \n",
    "    print('elasticNet_' + str(l1_ratio) + '_' + st + '.pkl')\n",
    "    print('l1_ratio:', l1_ratio, 'Train RMSE:', RMSETrain, 'Test RMSE:', RMSETest)"
   ]
  },
  {
   "cell_type": "markdown",
   "metadata": {},
   "source": [
    "#### Ridge model for the full training set"
   ]
  },
  {
   "cell_type": "code",
   "execution_count": 25,
   "metadata": {},
   "outputs": [],
   "source": [
    "X_train_full = pd.read_pickle('../data/X_train_MinMaxScaler')\n",
    "X_test_full = pd.read_pickle('../data/X_test_MinMaxScaler')\n",
    "X_train_full = X_train_full.drop(['shop_id','item_id', 'item_category_id'], axis = 1)\n",
    "X_test_full = X_test_full.drop(['shop_id','item_id', 'item_category_id'], axis = 1)"
   ]
  },
  {
   "cell_type": "code",
   "execution_count": 26,
   "metadata": {},
   "outputs": [],
   "source": [
    "for alpha in [min(ridgeResult, key=ridgeResult.get)]:\n",
    "    model = linear_model.Ridge(alpha = alpha, normalize = True, max_iter = 3000)\n",
    "    model.fit(X_train_full.values, y_train_full)"
   ]
  },
  {
   "cell_type": "code",
   "execution_count": 27,
   "metadata": {},
   "outputs": [
    {
     "data": {
      "text/plain": [
       "['ridge_full_0201_15.10.pkl']"
      ]
     },
     "execution_count": 27,
     "metadata": {},
     "output_type": "execute_result"
    }
   ],
   "source": [
    "st = datetime.datetime.fromtimestamp(time.time()).strftime('%m%d_%H.%M')\n",
    "joblib.dump(model, 'ridge_full_' + st + '.pkl')\n",
    "# ridge = joblib.load('ridge.pkl') "
   ]
  },
  {
   "cell_type": "code",
   "execution_count": 28,
   "metadata": {},
   "outputs": [
    {
     "name": "stdout",
     "output_type": "stream",
     "text": [
      "mean before clipping:  6470.0054\n",
      "mean after clipping:  0.301176\n",
      "   ID  item_cnt_month\n",
      "0   0        0.402344\n",
      "1   1        0.527344\n",
      "2   2        0.808594\n",
      "3   3        0.097656\n",
      "4   4        1.144531\n",
      "submission_0201_15.10.csv\n"
     ]
    }
   ],
   "source": [
    "submission(model, X_test_full)"
   ]
  },
  {
   "cell_type": "markdown",
   "metadata": {},
   "source": [
    "#### Linear model for the full dataset\n",
    "<br>The RMSE for this submission: 0.99202"
   ]
  },
  {
   "cell_type": "code",
   "execution_count": 33,
   "metadata": {},
   "outputs": [],
   "source": [
    "X_train_full = pd.read_pickle('../data/X_train_RobustScaler')\n",
    "X_test_full = pd.read_pickle('../data/X_test_RobustScaler')\n",
    "X_train_full = X_train_full.drop(['shop_id','item_id', 'item_category_id'], axis = 1)\n",
    "X_test_full = X_test_full.drop(['shop_id','item_id', 'item_category_id'], axis = 1)"
   ]
  },
  {
   "cell_type": "code",
   "execution_count": 34,
   "metadata": {},
   "outputs": [
    {
     "data": {
      "text/plain": [
       "LinearRegression(copy_X=True, fit_intercept=True, n_jobs=4, normalize=False)"
      ]
     },
     "execution_count": 34,
     "metadata": {},
     "output_type": "execute_result"
    }
   ],
   "source": [
    "model = linear_model.LinearRegression(n_jobs = 4)\n",
    "model.fit(X_train_full, y_train_full)"
   ]
  },
  {
   "cell_type": "code",
   "execution_count": 35,
   "metadata": {},
   "outputs": [
    {
     "data": {
      "text/plain": [
       "['lr_full_0201_21.06.pkl']"
      ]
     },
     "execution_count": 35,
     "metadata": {},
     "output_type": "execute_result"
    }
   ],
   "source": [
    "st = datetime.datetime.fromtimestamp(time.time()).strftime('%m%d_%H.%M')\n",
    "joblib.dump(model, 'lr_full_' + st + '.pkl')"
   ]
  },
  {
   "cell_type": "code",
   "execution_count": 36,
   "metadata": {},
   "outputs": [
    {
     "name": "stdout",
     "output_type": "stream",
     "text": [
      "mean before clipping:  0.2698322\n",
      "mean after clipping:  0.29283786\n",
      "   ID  item_cnt_month\n",
      "0   0        0.422253\n",
      "1   1        0.531743\n",
      "2   2        0.857724\n",
      "3   3        0.099128\n",
      "4   4        1.141984\n",
      "submission_0201_21.06.csv\n"
     ]
    }
   ],
   "source": [
    "submission(model, X_test_full)"
   ]
  }
 ],
 "metadata": {
  "kernelspec": {
   "display_name": "Python 3",
   "language": "python",
   "name": "python3"
  },
  "language_info": {
   "codemirror_mode": {
    "name": "ipython",
    "version": 3
   },
   "file_extension": ".py",
   "mimetype": "text/x-python",
   "name": "python",
   "nbconvert_exporter": "python",
   "pygments_lexer": "ipython3",
   "version": "3.5.4"
  }
 },
 "nbformat": 4,
 "nbformat_minor": 2
}
