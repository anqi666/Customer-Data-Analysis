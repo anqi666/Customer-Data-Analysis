{
 "cells": [
  {
   "cell_type": "markdown",
   "metadata": {},
   "source": [
    "# Sales Prediction for Time Series Data"
   ]
  },
  {
   "cell_type": "markdown",
   "metadata": {},
   "source": [
    "## Part 4: Models (Light GBM)"
   ]
  },
  {
   "cell_type": "code",
   "execution_count": 1,
   "metadata": {},
   "outputs": [],
   "source": [
    "import numpy as np\n",
    "import pandas as pd \n",
    "from sklearn import linear_model\n",
    "from sklearn.metrics import mean_squared_error\n",
    "from sklearn.model_selection import GridSearchCV\n",
    "from sklearn.externals import joblib\n",
    "import lightgbm as lgb\n",
    "import os\n",
    "import time \n",
    "import datetime\n",
    "import seaborn as sns\n",
    "import matplotlib.pyplot as plt\n",
    "import random\n",
    "import gc\n",
    "\n",
    "%matplotlib inline "
   ]
  },
  {
   "cell_type": "code",
   "execution_count": 2,
   "metadata": {},
   "outputs": [],
   "source": [
    "def submission(model, X_test):\n",
    "    '''\n",
    "    make submission file\n",
    "    arguments:    model = model name \n",
    "                  X_test= X_test name\n",
    "    return: a file saved in directory with timestamp\n",
    "    '''\n",
    "    # model prediction\n",
    "    pred = model.predict(X_test)\n",
    "    print('mean before clipping: ', pred.mean())\n",
    "    pred = pred.clip(0,20)\n",
    "    print('mean after clipping: ', pred.mean())\n",
    "\n",
    "    # create prediction dataframe\n",
    "    ID = joblib.load('ID.pkl')\n",
    "    predDF = pd.DataFrame() \n",
    "    predDF['ID'] = ID\n",
    "    predDF['item_cnt_month'] = pred\n",
    "    print(predDF.head())\n",
    "\n",
    "    # write dataframe to csv\n",
    "    ts = time.time()\n",
    "    st = datetime.datetime.fromtimestamp(ts).strftime('%m%d_%H.%M')\n",
    "    print('submission_' + st + '.csv')\n",
    "    \n",
    "    predDF.to_csv(header=True, index=False, path_or_buf = 'submission_' + st + '.csv')\n",
    "    \n",
    "    return None"
   ]
  },
  {
   "cell_type": "markdown",
   "metadata": {},
   "source": [
    "### Light GBM"
   ]
  },
  {
   "cell_type": "code",
   "execution_count": 3,
   "metadata": {},
   "outputs": [],
   "source": [
    "X_train = pd.read_pickle('../data/X_train_lev_1_RobustScalerTree')\n",
    "y_train = joblib.load('../data/y_train_lev_1.pkl')\n",
    "X_test = pd.read_pickle('../data/X_test_lev_1_RobustScalerTree')\n",
    "y_test = joblib.load('../data/y_val_lev_1.pkl')\n",
    "X_test_full = pd.read_pickle('../data/X_test_RobustScalerTree')\n",
    "X_train_full = pd.read_pickle('../data/X_train_RobustScalerTree')\n",
    "y_train_full = joblib.load('../data/y_train_full.pkl')"
   ]
  },
  {
   "cell_type": "code",
   "execution_count": 4,
   "metadata": {},
   "outputs": [],
   "source": [
    "X_train = X_train.drop(list(X_train.filter(like= 'shop_id_').columns), axis = 1)\n",
    "X_test = X_test.drop(list(X_test.filter(like='shop_id_').columns), axis = 1)"
   ]
  },
  {
   "cell_type": "code",
   "execution_count": 5,
   "metadata": {},
   "outputs": [],
   "source": [
    "train_data = lgb.Dataset(X_train, label= y_train)\n",
    "test_data = lgb.Dataset(X_test, label = y_test)"
   ]
  },
  {
   "cell_type": "code",
   "execution_count": 6,
   "metadata": {},
   "outputs": [],
   "source": [
    "def lgb_model(params):\n",
    "    lgb_model = lgb.train(params, train_data, valid_sets=[train_data, test_data], verbose_eval=25)\n",
    "    return lgb_model"
   ]
  },
  {
   "cell_type": "markdown",
   "metadata": {},
   "source": [
    "Set parameters"
   ]
  },
  {
   "cell_type": "code",
   "execution_count": 7,
   "metadata": {},
   "outputs": [],
   "source": [
    "params = {\n",
    "    'application':'regression',\n",
    "    'learning_rate':0.03,\n",
    "    'early_stopping_round':50,\n",
    "    'metric':'l2_root', #RMSE\n",
    "    'nthread':-1, \n",
    "    'train_metric': True,\n",
    "    'num_boost_round': 500\n",
    "}"
   ]
  },
  {
   "cell_type": "markdown",
   "metadata": {},
   "source": [
    "#### Baseline for 'boosting' = gbdt"
   ]
  },
  {
   "cell_type": "code",
   "execution_count": 8,
   "metadata": {},
   "outputs": [
    {
     "name": "stderr",
     "output_type": "stream",
     "text": [
      "C:\\Users\\kikimeow\\Anaconda3\\envs\\tf\\lib\\site-packages\\lightgbm\\engine.py:98: UserWarning: Found `num_boost_round` in params. Will use it instead of argument\n",
      "  warnings.warn(\"Found `{}` in params. Will use it instead of argument\".format(alias))\n",
      "C:\\Users\\kikimeow\\Anaconda3\\envs\\tf\\lib\\site-packages\\lightgbm\\engine.py:103: UserWarning: Found `early_stopping_round` in params. Will use it instead of argument\n",
      "  warnings.warn(\"Found `{}` in params. Will use it instead of argument\".format(alias))\n"
     ]
    },
    {
     "name": "stdout",
     "output_type": "stream",
     "text": [
      "Training until validation scores don't improve for 50 rounds.\n",
      "[25]\ttraining's rmse: 0.980943\tvalid_1's rmse: 1.19688\n",
      "[50]\ttraining's rmse: 0.875039\tvalid_1's rmse: 1.11219\n",
      "[75]\ttraining's rmse: 0.83398\tvalid_1's rmse: 1.08451\n",
      "[100]\ttraining's rmse: 0.812704\tvalid_1's rmse: 1.07357\n",
      "[125]\ttraining's rmse: 0.797748\tvalid_1's rmse: 1.06766\n",
      "[150]\ttraining's rmse: 0.786947\tvalid_1's rmse: 1.06286\n",
      "[175]\ttraining's rmse: 0.778849\tvalid_1's rmse: 1.06076\n",
      "[200]\ttraining's rmse: 0.772308\tvalid_1's rmse: 1.05767\n",
      "[225]\ttraining's rmse: 0.765993\tvalid_1's rmse: 1.0539\n",
      "[250]\ttraining's rmse: 0.760576\tvalid_1's rmse: 1.05256\n",
      "[275]\ttraining's rmse: 0.755969\tvalid_1's rmse: 1.04999\n",
      "[300]\ttraining's rmse: 0.751383\tvalid_1's rmse: 1.04821\n",
      "[325]\ttraining's rmse: 0.747336\tvalid_1's rmse: 1.04665\n",
      "[350]\ttraining's rmse: 0.743704\tvalid_1's rmse: 1.04652\n",
      "[375]\ttraining's rmse: 0.740628\tvalid_1's rmse: 1.04632\n",
      "[400]\ttraining's rmse: 0.736992\tvalid_1's rmse: 1.04496\n",
      "[425]\ttraining's rmse: 0.734182\tvalid_1's rmse: 1.04436\n",
      "[450]\ttraining's rmse: 0.731569\tvalid_1's rmse: 1.04416\n",
      "[475]\ttraining's rmse: 0.728736\tvalid_1's rmse: 1.04381\n",
      "[500]\ttraining's rmse: 0.726269\tvalid_1's rmse: 1.04401\n"
     ]
    }
   ],
   "source": [
    "model = lgb_model(params) "
   ]
  },
  {
   "cell_type": "markdown",
   "metadata": {},
   "source": [
    "#### Baseline for 'boosting' = dart"
   ]
  },
  {
   "cell_type": "code",
   "execution_count": 9,
   "metadata": {},
   "outputs": [],
   "source": [
    "params_1 = params.copy()\n",
    "params_1['boosting']='dart'"
   ]
  },
  {
   "cell_type": "code",
   "execution_count": 10,
   "metadata": {},
   "outputs": [
    {
     "name": "stdout",
     "output_type": "stream",
     "text": [
      "[25]\ttraining's rmse: 1.01242\tvalid_1's rmse: 1.2222\n",
      "[50]\ttraining's rmse: 0.95669\tvalid_1's rmse: 1.17809\n",
      "[75]\ttraining's rmse: 0.926141\tvalid_1's rmse: 1.15783\n",
      "[100]\ttraining's rmse: 0.920248\tvalid_1's rmse: 1.15539\n"
     ]
    }
   ],
   "source": [
    "model = lgb_model(params_1)"
   ]
  },
  {
   "cell_type": "markdown",
   "metadata": {},
   "source": [
    "#### Manual Tuning\n",
    "Try to speed up training by changing feature_fraction from 1, bagging_freq from 0, and bagging_fraction from 1.  \n",
    "<br>Result: Changing these parameters did not speed up training.  "
   ]
  },
  {
   "cell_type": "code",
   "execution_count": 11,
   "metadata": {},
   "outputs": [],
   "source": [
    "params_2 = params.copy()\n",
    "params_2['boosting']='dart'\n",
    "params_2['feature_fraction'] = 0.75\n",
    "params_2['bagging_freq'] = 1\n",
    "params_2['bagging_fraction'] = 0.75"
   ]
  },
  {
   "cell_type": "code",
   "execution_count": 12,
   "metadata": {},
   "outputs": [
    {
     "name": "stdout",
     "output_type": "stream",
     "text": [
      "[25]\ttraining's rmse: 1.0187\tvalid_1's rmse: 1.23118\n",
      "[50]\ttraining's rmse: 0.95925\tvalid_1's rmse: 1.18556\n",
      "[75]\ttraining's rmse: 0.926286\tvalid_1's rmse: 1.16141\n",
      "[100]\ttraining's rmse: 0.920836\tvalid_1's rmse: 1.15533\n"
     ]
    }
   ],
   "source": [
    "model = lgb_model(params_2)"
   ]
  },
  {
   "cell_type": "markdown",
   "metadata": {},
   "source": [
    "Try to speed up by increasing bagging_freq from 1 to 10.  \n",
    "Result: this did speed up training.  "
   ]
  },
  {
   "cell_type": "code",
   "execution_count": 13,
   "metadata": {},
   "outputs": [],
   "source": [
    "params_3 = params.copy()\n",
    "params_3['boosting']='dart'\n",
    "params_3['feature_fraction'] = 0.75\n",
    "params_3['bagging_freq'] = 10\n",
    "params_3['bagging_fraction'] = 0.75"
   ]
  },
  {
   "cell_type": "code",
   "execution_count": 14,
   "metadata": {},
   "outputs": [
    {
     "name": "stdout",
     "output_type": "stream",
     "text": [
      "[25]\ttraining's rmse: 1.01776\tvalid_1's rmse: 1.23386\n",
      "[50]\ttraining's rmse: 0.959701\tvalid_1's rmse: 1.18816\n",
      "[75]\ttraining's rmse: 0.926533\tvalid_1's rmse: 1.15987\n",
      "[100]\ttraining's rmse: 0.921105\tvalid_1's rmse: 1.1565\n"
     ]
    }
   ],
   "source": [
    "model = lgb_model(params_3)"
   ]
  },
  {
   "cell_type": "markdown",
   "metadata": {},
   "source": [
    "See what happens by chaing bagging_freq back from 10 to 1.  \n",
    "Result: this slows down training."
   ]
  },
  {
   "cell_type": "code",
   "execution_count": 15,
   "metadata": {},
   "outputs": [],
   "source": [
    "params_4 = params.copy()\n",
    "params_4['boosting']='dart'\n",
    "params_4['num_boost_round'] = 500\n",
    "params_4['learning_rate'] = 0.03\n",
    "params_4['feature_fraction'] = 0.75\n",
    "params_4['bagging_freq'] = 1\n",
    "params_4['bagging_fraction'] = 0.75"
   ]
  },
  {
   "cell_type": "code",
   "execution_count": 16,
   "metadata": {},
   "outputs": [
    {
     "name": "stderr",
     "output_type": "stream",
     "text": [
      "C:\\Users\\kikimeow\\Anaconda3\\envs\\tf\\lib\\site-packages\\lightgbm\\engine.py:98: UserWarning: Found `num_boost_round` in params. Will use it instead of argument\n",
      "  warnings.warn(\"Found `{}` in params. Will use it instead of argument\".format(alias))\n"
     ]
    },
    {
     "name": "stdout",
     "output_type": "stream",
     "text": [
      "[25]\ttraining's rmse: 1.0187\tvalid_1's rmse: 1.23118\n",
      "[50]\ttraining's rmse: 0.95925\tvalid_1's rmse: 1.18556\n",
      "[75]\ttraining's rmse: 0.926286\tvalid_1's rmse: 1.16141\n",
      "[100]\ttraining's rmse: 0.920836\tvalid_1's rmse: 1.15533\n",
      "[125]\ttraining's rmse: 0.909683\tvalid_1's rmse: 1.14806\n",
      "[150]\ttraining's rmse: 0.896396\tvalid_1's rmse: 1.13868\n",
      "[175]\ttraining's rmse: 0.87297\tvalid_1's rmse: 1.12152\n",
      "[200]\ttraining's rmse: 0.861237\tvalid_1's rmse: 1.11302\n",
      "[225]\ttraining's rmse: 0.854846\tvalid_1's rmse: 1.11027\n",
      "[250]\ttraining's rmse: 0.84068\tvalid_1's rmse: 1.09945\n",
      "[275]\ttraining's rmse: 0.828759\tvalid_1's rmse: 1.09074\n",
      "[300]\ttraining's rmse: 0.824597\tvalid_1's rmse: 1.08849\n",
      "[325]\ttraining's rmse: 0.820749\tvalid_1's rmse: 1.08727\n",
      "[350]\ttraining's rmse: 0.818404\tvalid_1's rmse: 1.08612\n",
      "[375]\ttraining's rmse: 0.811143\tvalid_1's rmse: 1.0813\n",
      "[400]\ttraining's rmse: 0.80295\tvalid_1's rmse: 1.07661\n",
      "[425]\ttraining's rmse: 0.799133\tvalid_1's rmse: 1.07534\n",
      "[450]\ttraining's rmse: 0.797666\tvalid_1's rmse: 1.07603\n",
      "[475]\ttraining's rmse: 0.796368\tvalid_1's rmse: 1.07618\n",
      "[500]\ttraining's rmse: 0.79586\tvalid_1's rmse: 1.07699\n"
     ]
    }
   ],
   "source": [
    "model = lgb_model(params_4)"
   ]
  },
  {
   "cell_type": "markdown",
   "metadata": {},
   "source": [
    "See if RMSE will improve by increasing num_leaves (number of leaves in one tree) from default of 31 to 128.  \n",
    "<br> Result: best iteration decreased"
   ]
  },
  {
   "cell_type": "code",
   "execution_count": 17,
   "metadata": {},
   "outputs": [],
   "source": [
    "params_5 = params.copy()\n",
    "params_5['boosting']='dart'\n",
    "params_5['feature_fraction'] = 0.75\n",
    "params_5['bagging_freq'] = 1\n",
    "params_5['bagging_fraction'] = 0.75\n",
    "params_5['num_leaves']= 2**7"
   ]
  },
  {
   "cell_type": "code",
   "execution_count": 18,
   "metadata": {},
   "outputs": [
    {
     "name": "stdout",
     "output_type": "stream",
     "text": [
      "[25]\ttraining's rmse: 0.980544\tvalid_1's rmse: 1.22589\n",
      "[50]\ttraining's rmse: 0.913573\tvalid_1's rmse: 1.18284\n",
      "[75]\ttraining's rmse: 0.875333\tvalid_1's rmse: 1.15896\n",
      "[100]\ttraining's rmse: 0.868977\tvalid_1's rmse: 1.15664\n"
     ]
    }
   ],
   "source": [
    "model = lgb_model(params_5)"
   ]
  },
  {
   "cell_type": "markdown",
   "metadata": {},
   "source": [
    "Increase num_leaves again from 128 to 256.\n",
    "<br> Result: similar result for both 128 and 256 num_leaves.  The difference between training and validation RMSE tightened slightly"
   ]
  },
  {
   "cell_type": "code",
   "execution_count": 19,
   "metadata": {},
   "outputs": [],
   "source": [
    "params_6 = params.copy()\n",
    "params_6['boosting']='dart'\n",
    "params_6['feature_fraction'] = 0.75\n",
    "params_6['bagging_freq'] = 1\n",
    "params_6['bagging_fraction'] = 0.75\n",
    "params_6['num_leaves']= 2**8"
   ]
  },
  {
   "cell_type": "code",
   "execution_count": 20,
   "metadata": {},
   "outputs": [
    {
     "name": "stdout",
     "output_type": "stream",
     "text": [
      "[25]\ttraining's rmse: 0.963346\tvalid_1's rmse: 1.22157\n",
      "[50]\ttraining's rmse: 0.891259\tvalid_1's rmse: 1.17839\n",
      "[75]\ttraining's rmse: 0.850221\tvalid_1's rmse: 1.1556\n",
      "[100]\ttraining's rmse: 0.843187\tvalid_1's rmse: 1.15118\n"
     ]
    }
   ],
   "source": [
    "model = lgb_model(params_6)"
   ]
  },
  {
   "cell_type": "markdown",
   "metadata": {},
   "source": [
    "See if over-fitting can be reduced by increasing 'min_data_in_leaf' from 20 to 128.\n",
    "<br> Result: model seem to be more genralized and validation RMSE improved."
   ]
  },
  {
   "cell_type": "code",
   "execution_count": 21,
   "metadata": {},
   "outputs": [],
   "source": [
    "params_7 = params.copy()\n",
    "params_7['boosting']='dart'\n",
    "params_7['feature_fraction'] = 0.75\n",
    "params_7['bagging_freq'] = 1\n",
    "params_7['bagging_fraction'] = 0.75\n",
    "params_7['num_leaves']= 2**8\n",
    "params_7['min_data_in_leaf']= 2**7"
   ]
  },
  {
   "cell_type": "code",
   "execution_count": 22,
   "metadata": {},
   "outputs": [
    {
     "name": "stdout",
     "output_type": "stream",
     "text": [
      "[25]\ttraining's rmse: 0.987151\tvalid_1's rmse: 1.21026\n",
      "[50]\ttraining's rmse: 0.922536\tvalid_1's rmse: 1.15323\n",
      "[75]\ttraining's rmse: 0.886212\tvalid_1's rmse: 1.12868\n",
      "[100]\ttraining's rmse: 0.879549\tvalid_1's rmse: 1.12441\n"
     ]
    }
   ],
   "source": [
    "model = lgb_model(params_7)"
   ]
  },
  {
   "cell_type": "markdown",
   "metadata": {},
   "source": [
    "Try if increasing drop rate from 0.1 to 0.3 will further improve the model.  \n",
    "<br> Result: The drop rate seem to add regularization"
   ]
  },
  {
   "cell_type": "code",
   "execution_count": 23,
   "metadata": {},
   "outputs": [],
   "source": [
    "params_8 = params.copy()\n",
    "params_8['boosting']='dart'\n",
    "params_8['num_boost_round'] = 500\n",
    "params_8['learning_rate'] = 0.03\n",
    "params_8['feature_fraction'] = 0.75\n",
    "params_8['bagging_freq'] = 1\n",
    "params_8['bagging_fraction'] = 0.75\n",
    "params_8['num_leaves']= 2**8\n",
    "params_8['min_data_in_leaf']= 2**7\n",
    "params_8['drop_rate']= 0.3"
   ]
  },
  {
   "cell_type": "code",
   "execution_count": 24,
   "metadata": {},
   "outputs": [
    {
     "name": "stderr",
     "output_type": "stream",
     "text": [
      "C:\\Users\\kikimeow\\Anaconda3\\envs\\tf\\lib\\site-packages\\lightgbm\\engine.py:98: UserWarning: Found `num_boost_round` in params. Will use it instead of argument\n",
      "  warnings.warn(\"Found `{}` in params. Will use it instead of argument\".format(alias))\n"
     ]
    },
    {
     "name": "stdout",
     "output_type": "stream",
     "text": [
      "[25]\ttraining's rmse: 1.02223\tvalid_1's rmse: 1.24113\n",
      "[50]\ttraining's rmse: 0.973733\tvalid_1's rmse: 1.19622\n",
      "[75]\ttraining's rmse: 0.924533\tvalid_1's rmse: 1.15839\n",
      "[100]\ttraining's rmse: 0.921811\tvalid_1's rmse: 1.16026\n",
      "[125]\ttraining's rmse: 0.903863\tvalid_1's rmse: 1.14833\n",
      "[150]\ttraining's rmse: 0.882261\tvalid_1's rmse: 1.13346\n",
      "[175]\ttraining's rmse: 0.847542\tvalid_1's rmse: 1.10597\n",
      "[200]\ttraining's rmse: 0.831284\tvalid_1's rmse: 1.09733\n",
      "[225]\ttraining's rmse: 0.821889\tvalid_1's rmse: 1.09117\n",
      "[250]\ttraining's rmse: 0.80136\tvalid_1's rmse: 1.07869\n",
      "[275]\ttraining's rmse: 0.783514\tvalid_1's rmse: 1.06276\n",
      "[300]\ttraining's rmse: 0.778179\tvalid_1's rmse: 1.06094\n",
      "[325]\ttraining's rmse: 0.772059\tvalid_1's rmse: 1.05769\n",
      "[350]\ttraining's rmse: 0.768184\tvalid_1's rmse: 1.05473\n",
      "[375]\ttraining's rmse: 0.758095\tvalid_1's rmse: 1.04642\n",
      "[400]\ttraining's rmse: 0.746261\tvalid_1's rmse: 1.04259\n",
      "[425]\ttraining's rmse: 0.739984\tvalid_1's rmse: 1.04289\n",
      "[450]\ttraining's rmse: 0.737404\tvalid_1's rmse: 1.04293\n",
      "[475]\ttraining's rmse: 0.736059\tvalid_1's rmse: 1.04392\n",
      "[500]\ttraining's rmse: 0.735868\tvalid_1's rmse: 1.04573\n"
     ]
    }
   ],
   "source": [
    "model = lgb_model(params_8)"
   ]
  },
  {
   "cell_type": "markdown",
   "metadata": {},
   "source": [
    "Try increasing min_data_in_leaf from 128 to 256.  "
   ]
  },
  {
   "cell_type": "code",
   "execution_count": 25,
   "metadata": {},
   "outputs": [],
   "source": [
    "params_9 = params.copy()\n",
    "params_9['boosting']='dart'\n",
    "params_9['num_boost_round'] = 500\n",
    "params_9['learning_rate'] = 0.03\n",
    "params_9['feature_fraction'] = 0.75\n",
    "params_9['bagging_freq'] = 1\n",
    "params_9['bagging_fraction'] = 0.75\n",
    "params_9['num_leaves']= 2**8\n",
    "params_9['min_data_in_leaf']= 2**8"
   ]
  },
  {
   "cell_type": "code",
   "execution_count": 26,
   "metadata": {},
   "outputs": [
    {
     "name": "stderr",
     "output_type": "stream",
     "text": [
      "C:\\Users\\kikimeow\\Anaconda3\\envs\\tf\\lib\\site-packages\\lightgbm\\engine.py:98: UserWarning: Found `num_boost_round` in params. Will use it instead of argument\n",
      "  warnings.warn(\"Found `{}` in params. Will use it instead of argument\".format(alias))\n"
     ]
    },
    {
     "name": "stdout",
     "output_type": "stream",
     "text": [
      "[25]\ttraining's rmse: 1.00182\tvalid_1's rmse: 1.20955\n",
      "[50]\ttraining's rmse: 0.941806\tvalid_1's rmse: 1.15929\n",
      "[75]\ttraining's rmse: 0.907667\tvalid_1's rmse: 1.13128\n",
      "[100]\ttraining's rmse: 0.901282\tvalid_1's rmse: 1.12706\n",
      "[125]\ttraining's rmse: 0.889253\tvalid_1's rmse: 1.11815\n",
      "[150]\ttraining's rmse: 0.874382\tvalid_1's rmse: 1.1117\n",
      "[175]\ttraining's rmse: 0.849727\tvalid_1's rmse: 1.09274\n",
      "[200]\ttraining's rmse: 0.836727\tvalid_1's rmse: 1.08632\n",
      "[225]\ttraining's rmse: 0.830303\tvalid_1's rmse: 1.08293\n",
      "[250]\ttraining's rmse: 0.814971\tvalid_1's rmse: 1.07468\n",
      "[275]\ttraining's rmse: 0.801412\tvalid_1's rmse: 1.06574\n",
      "[300]\ttraining's rmse: 0.79725\tvalid_1's rmse: 1.06397\n",
      "[325]\ttraining's rmse: 0.792566\tvalid_1's rmse: 1.06284\n",
      "[350]\ttraining's rmse: 0.789839\tvalid_1's rmse: 1.06087\n",
      "[375]\ttraining's rmse: 0.781728\tvalid_1's rmse: 1.05501\n",
      "[400]\ttraining's rmse: 0.772329\tvalid_1's rmse: 1.05229\n",
      "[425]\ttraining's rmse: 0.766986\tvalid_1's rmse: 1.0504\n",
      "[450]\ttraining's rmse: 0.764833\tvalid_1's rmse: 1.05131\n",
      "[475]\ttraining's rmse: 0.76347\tvalid_1's rmse: 1.05278\n",
      "[500]\ttraining's rmse: 0.762852\tvalid_1's rmse: 1.05432\n"
     ]
    }
   ],
   "source": [
    "model = lgb_model(params_9)"
   ]
  },
  {
   "cell_type": "markdown",
   "metadata": {},
   "source": [
    "How would the gbdt model perform with the same parameters?\n",
    "<br> Result: performance is comparable to model with drop-out."
   ]
  },
  {
   "cell_type": "code",
   "execution_count": 8,
   "metadata": {},
   "outputs": [],
   "source": [
    "params_10 = params.copy()\n",
    "params_10['boosting']='gbdt'\n",
    "params_10['num_boost_round'] = 1000\n",
    "params_10['learning_rate'] = 0.03\n",
    "params_10['feature_fraction'] = 0.75\n",
    "params_10['bagging_freq'] = 1\n",
    "params_10['bagging_fraction'] = 0.75\n",
    "params_10['num_leaves']= 2**8\n",
    "params_10['min_data_in_leaf']= 2**8"
   ]
  },
  {
   "cell_type": "code",
   "execution_count": 9,
   "metadata": {},
   "outputs": [
    {
     "name": "stderr",
     "output_type": "stream",
     "text": [
      "C:\\Users\\kikimeow\\Anaconda3\\envs\\tf\\lib\\site-packages\\lightgbm\\engine.py:98: UserWarning: Found `num_boost_round` in params. Will use it instead of argument\n",
      "  warnings.warn(\"Found `{}` in params. Will use it instead of argument\".format(alias))\n",
      "C:\\Users\\kikimeow\\Anaconda3\\envs\\tf\\lib\\site-packages\\lightgbm\\engine.py:103: UserWarning: Found `early_stopping_round` in params. Will use it instead of argument\n",
      "  warnings.warn(\"Found `{}` in params. Will use it instead of argument\".format(alias))\n"
     ]
    },
    {
     "name": "stdout",
     "output_type": "stream",
     "text": [
      "Training until validation scores don't improve for 50 rounds.\n",
      "[25]\ttraining's rmse: 0.968221\tvalid_1's rmse: 1.1803\n",
      "[50]\ttraining's rmse: 0.853591\tvalid_1's rmse: 1.08527\n",
      "[75]\ttraining's rmse: 0.808801\tvalid_1's rmse: 1.05265\n",
      "[100]\ttraining's rmse: 0.785914\tvalid_1's rmse: 1.04236\n",
      "[125]\ttraining's rmse: 0.769319\tvalid_1's rmse: 1.03668\n",
      "[150]\ttraining's rmse: 0.757082\tvalid_1's rmse: 1.03422\n",
      "[175]\ttraining's rmse: 0.746829\tvalid_1's rmse: 1.03196\n",
      "[200]\ttraining's rmse: 0.739181\tvalid_1's rmse: 1.03157\n",
      "[225]\ttraining's rmse: 0.732359\tvalid_1's rmse: 1.03138\n",
      "[250]\ttraining's rmse: 0.726931\tvalid_1's rmse: 1.03171\n",
      "Early stopping, best iteration is:\n",
      "[217]\ttraining's rmse: 0.734246\tvalid_1's rmse: 1.03119\n"
     ]
    }
   ],
   "source": [
    "model = lgb_model(params_10)"
   ]
  },
  {
   "cell_type": "markdown",
   "metadata": {},
   "source": [
    "Save the model"
   ]
  },
  {
   "cell_type": "code",
   "execution_count": 10,
   "metadata": {},
   "outputs": [
    {
     "name": "stdout",
     "output_type": "stream",
     "text": [
      "217\n"
     ]
    }
   ],
   "source": [
    "print(model.best_iteration)"
   ]
  },
  {
   "cell_type": "code",
   "execution_count": 11,
   "metadata": {},
   "outputs": [],
   "source": [
    "st = datetime.datetime.fromtimestamp(time.time()).strftime('%m%d_%H.%M')\n",
    "model.save_model('lgb_model_' + st + '.txt', num_iteration= model.best_iteration)\n",
    "lgb_model = model"
   ]
  },
  {
   "cell_type": "code",
   "execution_count": 12,
   "metadata": {},
   "outputs": [
    {
     "name": "stdout",
     "output_type": "stream",
     "text": [
      "lgb_model_0131_17.30.txt\n"
     ]
    }
   ],
   "source": [
    "print('lgb_model_' + st + '.txt')"
   ]
  },
  {
   "cell_type": "code",
   "execution_count": null,
   "metadata": {
    "collapsed": true
   },
   "outputs": [],
   "source": [
    "# To load the model\n",
    "# lgb_model = lgb.Booster(model_file=\"lgb_model.txt\") "
   ]
  },
  {
   "cell_type": "markdown",
   "metadata": {},
   "source": [
    "#### Feature Importance"
   ]
  },
  {
   "cell_type": "code",
   "execution_count": 31,
   "metadata": {},
   "outputs": [],
   "source": [
    "importance = lgb_model.feature_importance()\n",
    "names = lgb_model.feature_name()\n",
    "varImpDf = pd.DataFrame(importance, index= names)\n",
    "\n",
    "varImpDf.reset_index(inplace=True)\n",
    "varImpDf = varImpDf.sort_values([0], ascending = False).reset_index(drop = True)\n",
    "varImpDf= varImpDf.rename(columns={'index':'feature', 0:\"importance\"})"
   ]
  },
  {
   "cell_type": "code",
   "execution_count": 32,
   "metadata": {},
   "outputs": [
    {
     "data": {
      "text/plain": [
       "<matplotlib.axes._subplots.AxesSubplot at 0x1cf026963c8>"
      ]
     },
     "execution_count": 32,
     "metadata": {},
     "output_type": "execute_result"
    },
    {
     "data": {
      "image/png": "[encoded data removed]",
      "text/plain": [
       "<matplotlib.figure.Figure at 0x1cf007334a8>"
      ]
     },
     "metadata": {},
     "output_type": "display_data"
    }
   ],
   "source": [
    "plt.rcParams['figure.figsize'] = (15, 5)\n",
    "plt.subplot(1, 2, 1)\n",
    "sns.barplot(x=\"importance\", y=\"feature\", data=varImpDf.iloc[0:20,])\n",
    "plt.subplot(1, 2, 2)\n",
    "sns.barplot(x=\"importance\", y=\"feature\", data=varImpDf.iloc[21:40,])"
   ]
  },
  {
   "cell_type": "markdown",
   "metadata": {},
   "source": [
    "#### Full Set light GBM\n",
    "<br>The RMSE for this submission: 0.92476"
   ]
  },
  {
   "cell_type": "code",
   "execution_count": 14,
   "metadata": {},
   "outputs": [],
   "source": [
    "y_train_full = joblib.load('../data/y_train_full.pkl')"
   ]
  },
  {
   "cell_type": "code",
   "execution_count": 15,
   "metadata": {},
   "outputs": [],
   "source": [
    "train_data = lgb.Dataset(X_train_full, label= y_train_full)"
   ]
  },
  {
   "cell_type": "code",
   "execution_count": 16,
   "metadata": {},
   "outputs": [],
   "source": [
    "params_11 = params.copy()\n",
    "params_11['boosting']='gbdt'\n",
    "params_11['learning_rate'] = 0.03\n",
    "params_11['feature_fraction'] = 0.75\n",
    "params_11['bagging_freq'] = 1\n",
    "params_11['bagging_fraction'] = 0.75\n",
    "params_11['num_leaves']= 2**8\n",
    "params_11['min_data_in_leaf']= 2**7\n",
    "params_11['num_boost_round']= 100 #100 and 200 round returned the score of 0.94423"
   ]
  },
  {
   "cell_type": "code",
   "execution_count": 17,
   "metadata": {},
   "outputs": [
    {
     "name": "stderr",
     "output_type": "stream",
     "text": [
      "C:\\Users\\kikimeow\\Anaconda3\\envs\\tf\\lib\\site-packages\\lightgbm\\engine.py:98: UserWarning: Found `num_boost_round` in params. Will use it instead of argument\n",
      "  warnings.warn(\"Found `{}` in params. Will use it instead of argument\".format(alias))\n",
      "C:\\Users\\kikimeow\\Anaconda3\\envs\\tf\\lib\\site-packages\\lightgbm\\engine.py:103: UserWarning: Found `early_stopping_round` in params. Will use it instead of argument\n",
      "  warnings.warn(\"Found `{}` in params. Will use it instead of argument\".format(alias))\n"
     ]
    },
    {
     "name": "stdout",
     "output_type": "stream",
     "text": [
      "Training until validation scores don't improve for 50 rounds.\n",
      "[25]\ttraining's rmse: 0.925598\n",
      "[50]\ttraining's rmse: 0.836038\n",
      "[75]\ttraining's rmse: 0.79967\n",
      "[100]\ttraining's rmse: 0.780338\n"
     ]
    }
   ],
   "source": [
    "model = lgb.train(params_11, train_data, valid_sets=[train_data], verbose_eval=25)"
   ]
  },
  {
   "cell_type": "code",
   "execution_count": 20,
   "metadata": {},
   "outputs": [
    {
     "name": "stdout",
     "output_type": "stream",
     "text": [
      "lgb_model_full_0131_17.52.txt\n"
     ]
    }
   ],
   "source": [
    "st = datetime.datetime.fromtimestamp(time.time()).strftime('%m%d_%H.%M')\n",
    "model.save_model('lgb_model_full_' + st + '.txt')\n",
    "print('lgb_model_full_' + st + '.txt')"
   ]
  },
  {
   "cell_type": "code",
   "execution_count": 21,
   "metadata": {},
   "outputs": [
    {
     "name": "stdout",
     "output_type": "stream",
     "text": [
      "mean before clipping:  0.28181718124722316\n",
      "mean after clipping:  0.28183406221699625\n",
      "   ID  item_cnt_month\n",
      "0   0        0.515650\n",
      "1   1        0.464454\n",
      "2   2        0.726331\n",
      "3   3        0.408764\n",
      "4   4        1.583937\n",
      "submission_0131_17.52.csv\n"
     ]
    }
   ],
   "source": [
    "submission(model, X_test_full)"
   ]
  },
  {
   "cell_type": "markdown",
   "metadata": {},
   "source": [
    "This is for referencing the default parameters"
   ]
  },
  {
   "cell_type": "code",
   "execution_count": null,
   "metadata": {
    "collapsed": true
   },
   "outputs": [],
   "source": [
    "'''\n",
    "all_parameters = {'application': 'regression',\n",
    " 'bagging_fraction': [1.0],\n",
    " 'bagging_freq': [0],\n",
    " 'bagging_seed': [3],\n",
    " 'boosting': ['gbdt'],\n",
    " 'drop_rate': [0.1],\n",
    " 'drop_seed': [4],\n",
    " 'feature_fraction': [1.0],\n",
    " 'feature_fraction_seed': [3],\n",
    " 'is_training_metric': [True],\n",
    " 'lambda_l1': [0],\n",
    " 'lambda_l2': [0],\n",
    " 'learning_rate': [0.1],\n",
    " 'max_bin': 255,\n",
    " 'max_depth': [-1],\n",
    " 'max_drop': [50],\n",
    " 'metric': ['l2_root'],\n",
    " 'metric_freq': [10],\n",
    " 'min_data_in_leaf': [20],\n",
    " 'min_gain_to_split': [0],\n",
    " 'min_sum_hessian_in_leaf': [0.001],\n",
    " 'num_leaves': [31],\n",
    " 'skip_drop': [0.5],\n",
    " 'uniform_drop': [False],\n",
    " 'verbose': 1,\n",
    " 'xgboost_dart_mode': [False]}\n",
    " '''"
   ]
  }
 ],
 "metadata": {
  "kernelspec": {
   "display_name": "Python 3",
   "language": "python",
   "name": "python3"
  },
  "language_info": {
   "codemirror_mode": {
    "name": "ipython",
    "version": 3
   },
   "file_extension": ".py",
   "mimetype": "text/x-python",
   "name": "python",
   "nbconvert_exporter": "python",
   "pygments_lexer": "ipython3",
   "version": "3.5.4"
  }
 },
 "nbformat": 4,
 "nbformat_minor": 2
}
