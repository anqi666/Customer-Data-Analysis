{
 "cells": [
  {
   "cell_type": "markdown",
   "metadata": {},
   "source": [
    "# Sales Prediction for Time Series Data"
   ]
  },
  {
   "cell_type": "markdown",
   "metadata": {},
   "source": [
    "This notebook will generate features.  Since the data given is in the daily method, while the predictions are for monthly level, the first step is to aggregate daily data into monthly data.\n",
    "<br>\n",
    "The features generated include: \n",
    "1. date related features to capture seasonality.\n",
    "2. revenues with different groups of aggregation \n",
    "        shop_id + date_block_num\n",
    "        shop_id + date_block_num + category_id\n",
    "3. item count with different groups of aggregation\n",
    "        date_block_num\n",
    "        shop_id + date_block_num\n",
    "        shop_id + date_block_num + category_id\n",
    "4. cumulative item count for each item\n",
    "5. flag for new items\n",
    "6. price with different groups of aggregation\n",
    "        weighted mean price by item_id + date_block_num\n",
    "        average price by item_id + date_block_num\n",
    "        average price by item_id + date_block_num + store_id\n",
    "7. for each date_block_num, the rank of category revenue by shop_id\n",
    "8. for each date_block_num, the rank of shop_id by number of items sold\n",
    "9. for each date_block_num,, the rank of shop_id by revenue\n",
    "10. for each date_block_num, the price of an item for a store relative to (weighted, mean, median, max, min) price of all the stores.\n",
    "11. for each date_block_num, the revenue of an item_category for a shop relative to total revenue of the shop\n",
    "12. The percentage of the specific item sold by a shop_id in a month relative to \n",
    "        total items sold by the shop in a month \n",
    "        total items sold by the shop in a month for the 'category' of the specific item \n",
    "        total items sold for the specific 'item' in a month by ALL the shops\n",
    "        total items sold for the specific 'item' by ALL the shops cumulatively\n",
    "13. Lags of numeric features for the past 1-3 months, and 12-months.\n",
    "14. Difference between lag-1 and lag-2 numeric features.\n",
    "15. One hot encode 'month', 'year', 'item_category_id', 'shop_id'"
   ]
  },
  {
   "cell_type": "markdown",
   "metadata": {},
   "source": [
    "## Part 2: Feature Engineering\n"
   ]
  },
  {
   "cell_type": "markdown",
   "metadata": {},
   "source": [
    "### Import cleaned data"
   ]
  },
  {
   "cell_type": "code",
   "execution_count": 1,
   "metadata": {},
   "outputs": [],
   "source": [
    "import numpy as np\n",
    "import pandas as pd \n",
    "import sklearn\n",
    "import gc\n",
    "import seaborn as sns\n",
    "import matplotlib.pyplot as plt\n",
    "import os\n",
    "#import math\n",
    "from sklearn.preprocessing import OneHotEncoder, Imputer\n",
    "%matplotlib inline "
   ]
  },
  {
   "cell_type": "code",
   "execution_count": 2,
   "metadata": {},
   "outputs": [],
   "source": [
    "# %load helperFunctions.py\n",
    "def show_info(dfList):\n",
    "    '''print out information for a list of dataframes\n",
    "    Argument: list of dataframe names\n",
    "    Return: none\n",
    "    '''\n",
    "    for df in dfList:\n",
    "        name = df.name\n",
    "        print(name)\n",
    "        print(df.head())\n",
    "        \n",
    "        print(\"------Description of Dataset -------\" )\n",
    "        print(df.describe())\n",
    "\n",
    "        print(\"------Description of Dtypes --------\" )\n",
    "        print(df.dtypes)\n",
    "\n",
    "        print(\"------Grouping by Dtypes --------\" )\n",
    "        print(df.columns.to_series().groupby(df.dtypes).groups)               # group by data types\n",
    "\n",
    "        print(\"------count of unique values -------\" )\n",
    "        print(df.nunique())\n",
    "\n",
    "        print(\"------count of np.nan -------\" )\n",
    "        print(df.isnull().sum())\n",
    "\n",
    "        print(\"------zero variance numeric columns -------\" )\n",
    "        print(df.std()[df.std() == 0].index.values)\n",
    "    \n",
    "    return\n",
    "\n",
    "def downcast_dtypes(df):\n",
    "    '''\n",
    "        Changes column types in the dataframe: \n",
    "                \n",
    "                `float64` type to `float32`\n",
    "                `int64`   type to `int32`\n",
    "    '''\n",
    "    \n",
    "    # Select columns to downcast\n",
    "    float_cols = [c for c in df if df[c].dtype == \"float64\"]\n",
    "    int_cols =   [c for c in df if df[c].dtype == \"int64\"]\n",
    "    \n",
    "    # Downcast\n",
    "    df[float_cols] = df[float_cols].astype(np.float32)\n",
    "    df[int_cols]   = df[int_cols].astype(np.int32)\n",
    "    \n",
    "    return df\n",
    "\n",
    "# column comparison\n",
    "def col_comparison(df1, df2):\n",
    "    '''\n",
    "    compare two dataframes to see which columns are in both set, \n",
    "    in set1 only, and in set2 only\n",
    "    arguments: df1, df2\n",
    "    returns: samecols, df1only, df2only\n",
    "    '''\n",
    "    df1Cols = set(list(df1.columns.values))\n",
    "    df2Cols = set(list(df2.columns.values))\n",
    "    samecols = list(df1Cols.intersection(df2Cols))\n",
    "    df1only = list(df1Cols & set(df1Cols ^ df2Cols))\n",
    "    df2only = list(df2Cols & set(df1Cols ^ df2Cols))    \n",
    "    df1name =[x for x in globals() if globals()[x] is df1][0]\n",
    "    df2name =[x for x in globals() if globals()[x] is df2][0]    \n",
    "    print('------ columns in both sets -----')\n",
    "    print(samecols)\n",
    "    print('')\n",
    "    print('------ columns in %s only ----- ' % (df1name))\n",
    "    print(df1only)\n",
    "    print('')\n",
    "    print('------ columns in %s only ----- ' % (df2name))\n",
    "    print(df2only)\n",
    "    \n",
    "    return samecols, df1only, df2only\n",
    "  \n",
    "\n",
    "# define columns to add drop so train and test set matches\n",
    "def make_cols_match(train, test, y_name):\n",
    "    '''define columns to add drop so two datasets matches\n",
    "    Arguments: train, test, y_name (dataframe 1, dataframe 2, output variable y in quotes)\n",
    "    Returns: train, test\n",
    "    '''\n",
    "    print(\"---columns comparsion prior to change---\")\n",
    "    samecols, df1only, df2only = col_comparison(train, test)\n",
    "    train_y = train[y_name]\n",
    "\n",
    "    # remove columns only in train\n",
    "    train = remove_columns(train, df1only)\n",
    "    \n",
    "    # remove columns only in test\n",
    "    test = remove_columns(test, df2only)\n",
    "    \n",
    "    # append y_name to test and train\n",
    "    train[y_name] = train_y\n",
    "    test[y_name] = '0'\n",
    "\n",
    "    \n",
    "    return train, test\n",
    "\n",
    "# show near-zero variance numeric columns\n",
    "def nearZeroCols(df, threshold):\n",
    "    '''show near-zero variance numeric columns <= to a threshold\n",
    "    Arguments: df, threshold\n",
    "    Returns: array of column names<= threshold\n",
    "    '''\n",
    "    return df.std()[df.std() <= threshold].index.values\n",
    "\n",
    "# change data type\n",
    "def cast_dtype(df, cols, dtype):\n",
    "    ''' \n",
    "    change datatype of dataframe given column names\n",
    "    Arguments: df: dataframe, cols: list of column names [], dtype: data type to cast to i.e.: 'int64', 'float64', 'str'\n",
    "    Returns: dataframe\n",
    "    '''\n",
    "    df[cols] = df[cols].astype(dtype)\n",
    "    \n",
    "    return df  \n",
    "\n",
    "\n",
    "def cast_datetime(df, cols):\n",
    "    '''\n",
    "    change datatype of dataframe to datetime given column names\n",
    "    Arguments: df: dataframe, cols: column names in [' ', ' ']\n",
    "    Returns: dataframe\n",
    "    '''\n",
    "    df.loc[:, cols] = df.loc[:, cols].apply(pd.to_datetime, errors='coerce')\n",
    "    \n",
    "    return df\n",
    " \n",
    "\n",
    "# text processing\n",
    "def process_text(text):\n",
    "    '''\n",
    "    perform a variety of transformations to text\n",
    "    Argument: text\n",
    "    Returns: text\n",
    "    '''\n",
    "    text = text.replace(r'.0', '')                  # remove .0 from the end of strings\n",
    "    text = text.translate(str.maketrans('', '', string.punctuation)) # remove punctuation\n",
    "    text = text.lstrip('0')                         # strip leading 0\n",
    "    text = ' '.join(text.split())                   # strip multiple whitespaces into 1\n",
    "    text = text.strip()                             # strip whitespace\n",
    "    text = text.lower()                             # convert to lower case\n",
    "    \n",
    "    return text\n",
    "\n",
    "def textProcessing(df, cols):\n",
    "    '''\n",
    "    apply transformation of text to specified columns in a dataframe using function 'process_text'\n",
    "    Arguments: dataframe, list of column names to transform\n",
    "    Returns: dataframe'''\n",
    "    \n",
    "    if cols is None: \n",
    "        stringCols = df.loc[:, df.dtypes == object].columns\n",
    "        dateTimeCols = df.select_dtypes(include=['datetime64']).columns\n",
    "        cols = list(set(stringCols)-set(dateTimeCols))\n",
    "    \n",
    "    df.loc[:, cols] = df.loc[:, cols].applymap(lambda x: process_text(x))\n",
    "    \n",
    "    return df\n",
    "\n",
    "# remove selected columns\n",
    "def remove_columns(df, cols):\n",
    "    ''' remove list of columns given a dataframe.  Error will not rise if column names are not in the dataframe\n",
    "    Arguments: dataframe, list of column names\n",
    "    Returns: dataframe'''\n",
    "    \n",
    "    cols = list(set(cols).intersection(df.columns))  # to avoid error, delete the named columns in dataframe's columns\n",
    "    df = df.drop(cols, axis = 1)\n",
    "    return df\n",
    "\n",
    "# keep columns that are in both sets only\n",
    "def keep_columns_in_both_sets(df1, df2):\n",
    "    ''' given two dataframes, only keep columns that are in both dataframes\n",
    "    Arguments: dataframe1, dataframe2\n",
    "    Returns: dataframe1, dataframe2 '''\n",
    "    \n",
    "    cols = list(set(list(df1.columns.values)).intersection(list(df2.columns.values)))\n",
    "    df1 = df1.loc[:,cols]\n",
    "    df2 = df2.loc[:,cols]\n",
    "    return df1, df2\n",
    "\n",
    "# check for common form to signify missing observations, i.e. \"0\" or \"nan\" or \"blank\"\n",
    "def missing_obs_count_by_column(df, cols, stringlist):\n",
    "    ''' count the number of observations per columns (only string columns) in a dataframe\n",
    "    given a list of values to match to \n",
    "    \n",
    "    Arguments: dataframe, columns to search, strings to match\n",
    "    Returns: print out report'''\n",
    "    \n",
    "    if stringlist is None:    \n",
    "        stringlist = ['0', 'nan', '', 'missing', 'none', 'na']\n",
    "    \n",
    "    if cols is None:\n",
    "        stringCols = df.loc[:, df.dtypes == object].columns\n",
    "        dateTimeCols = df.select_dtypes(include=['datetime64']).columns\n",
    "        cols = list(set(stringCols)-set(dateTimeCols))\n",
    "\n",
    "    for string in stringlist:\n",
    "        print('-----' + string + '------')\n",
    "        print(np.sum(df.loc[:, cols].apply(lambda x: x == string)))\n",
    "    return \n",
    "\n",
    "\n",
    "# replace strings\n",
    "def replaceStrings(df, cols, pattern, replaceTo):\n",
    "    ''' given a datframe and columns, replace the values of the observations given a pattern to match, and value to replace to\n",
    "    Arguments: dataframe, columns, pattern to match, value to replace to\n",
    "    Retruns: dataframe\n",
    "    '''\n",
    "    for col in cols:\n",
    "        #df.loc[col] = df.loc[col].replace(pattern, replaceTo)\n",
    "        df[col] = df[col].replace(pattern, replaceTo)\n",
    "    return df\n",
    "\n",
    "\n",
    "# drop near-zero variance numeric columns\n",
    "def drop_features_based_on_std_threshold(df, threshold):\n",
    "    '''given a dataframe, and threshold, drop columns with standard deviations\n",
    "    that are under or equal to the threshold\n",
    "    Arguments: dataframe, threshold\n",
    "    Returns: dataframe '''\n",
    "    \n",
    "    uint8Cols = df.loc[:, df.dtypes == 'uint8'].columns\n",
    "    float64Cols = df.loc[:, df.dtypes == 'float64'].columns\n",
    "    cols = uint8Cols.append(float64Cols)\n",
    "    \n",
    "    stdCalc = df.loc[:,cols].apply(lambda x: np.std(x))\n",
    "    sparseFeatures = stdCalc[stdCalc <= threshold].index\n",
    "    \n",
    "    df = df.drop(sparseFeatures, axis = 1)\n",
    "    return df\n",
    "    \n",
    "    # This implementation is very slow\n",
    "    #df = df.drop(df.std()[df.std() <= threshold].index.values, axis=1)\n",
    "    #return df\n",
    "\n",
    "\n",
    "# show uint8 columns with less than a threshold\n",
    "def show_features_fewer_than_count(df, threshold):\n",
    "    '''\n",
    "    show uint8 columns with less than a threshold\n",
    "    given a dataframe, filter columns that are uin8 (dummy variables)\n",
    "    return series showing features with counts fewer than the threshold\n",
    "    Arguments: dataframe, threshold for filtering count\n",
    "    Return: a filtered named series with counts of none-zeros\n",
    "    '''\n",
    "    \n",
    "    uint8Cols = df.loc[:, df.dtypes == 'uint8'].columns\n",
    "    numCount = df.loc[:,uint8Cols].apply(lambda x: np.sum(x))\n",
    "    sparseFeatures = numCount[numCount <= threshold]\n",
    "    \n",
    "    return sparseFeatures\n",
    "\n",
    "# remove uint8 columns with less than a threshold\n",
    "def remove_features_fewer_than_count(df, threshold):\n",
    "    '''\n",
    "    remove uint8 columns with less than a threshold\n",
    "    given a dataframe, filter columns that are uin8 (dummy variables)\n",
    "    delete sparse features from dataframe\n",
    "    Arguments: dataframe, threshold for filtering count\n",
    "    Return: dataframe\n",
    "    '''\n",
    "    uint8Cols = df.loc[:, df.dtypes == 'uint8'].columns\n",
    "    numCount = df.loc[:,uint8Cols].apply(lambda x: np.sum(x))\n",
    "    sparseFeatures = numCount[numCount <= threshold].index\n",
    "    \n",
    "    df = df.drop(sparseFeatures, axis = 1)\n",
    "    return df\n"
   ]
  },
  {
   "cell_type": "markdown",
   "metadata": {},
   "source": [
    "Import data"
   ]
  },
  {
   "cell_type": "code",
   "execution_count": 3,
   "metadata": {},
   "outputs": [],
   "source": [
    "data = pd.read_pickle('../data/data_raw')\n",
    "data = downcast_dtypes(data)"
   ]
  },
  {
   "cell_type": "code",
   "execution_count": 4,
   "metadata": {},
   "outputs": [],
   "source": [
    "DATA_FOLDER = '../data'\n",
    "shops = pd.read_csv(os.path.join(DATA_FOLDER, 'shops.csv'))\n",
    "items = pd.read_csv(os.path.join(DATA_FOLDER, 'items.csv'))\n",
    "item_cats = pd.read_csv(os.path.join(DATA_FOLDER, 'item_categories.csv'))\n",
    "shops.name = 'shops'\n",
    "items.name = 'items'\n",
    "item_cats.name = 'item_cats'"
   ]
  },
  {
   "cell_type": "markdown",
   "metadata": {},
   "source": [
    "### Aggregate daily data and construct monthly sales data frame. "
   ]
  },
  {
   "cell_type": "markdown",
   "metadata": {},
   "source": [
    "Create a grid to store data with unique shop_id, item_id combinations for each date_block_num.  Since the sales data only has rows with transactions, creating the grid will fill in 0 for item_shop combinations that are not sold for the month (date_block_num)"
   ]
  },
  {
   "cell_type": "code",
   "execution_count": 5,
   "metadata": {},
   "outputs": [],
   "source": [
    "index_cols = ['shop_id', 'item_id', 'date_block_num']"
   ]
  },
  {
   "cell_type": "code",
   "execution_count": 6,
   "metadata": {},
   "outputs": [],
   "source": [
    "from itertools import product #This tool computes the cartesian product of input iterables\n",
    "grid = [] \n",
    "for block_num in data['date_block_num'].unique():\n",
    "    cur_shops = data.loc[data['date_block_num'] == block_num, 'shop_id'].unique()\n",
    "    cur_items = data.loc[data['date_block_num'] == block_num, 'item_id'].unique()\n",
    "    grid.append(np.array(list(product(*[cur_shops, cur_items, [block_num]])),dtype='int32'))"
   ]
  },
  {
   "cell_type": "markdown",
   "metadata": {},
   "source": [
    "Turn the grid into a dataframe"
   ]
  },
  {
   "cell_type": "code",
   "execution_count": 7,
   "metadata": {},
   "outputs": [],
   "source": [
    "grid = pd.DataFrame(np.vstack(grid), columns = index_cols, dtype=np.int32)"
   ]
  },
  {
   "cell_type": "markdown",
   "metadata": {},
   "source": [
    "Calculate the target value: aggregated values for (shop_id, item_id, month)"
   ]
  },
  {
   "cell_type": "code",
   "execution_count": 8,
   "metadata": {},
   "outputs": [],
   "source": [
    "summary = data.groupby(index_cols, as_index=False).agg({'item_cnt_day': ['sum']})\n",
    "summary.columns = ['shop_id', 'item_id', 'date_block_num', 'target_item_cnt']"
   ]
  },
  {
   "cell_type": "markdown",
   "metadata": {},
   "source": [
    "Join aggregated data to the grid"
   ]
  },
  {
   "cell_type": "code",
   "execution_count": 9,
   "metadata": {},
   "outputs": [],
   "source": [
    "all_data = pd.merge(grid, summary, how='left', on=index_cols).fillna(0)"
   ]
  },
  {
   "cell_type": "code",
   "execution_count": 10,
   "metadata": {},
   "outputs": [],
   "source": [
    "del grid\n",
    "gc.collect();"
   ]
  },
  {
   "cell_type": "markdown",
   "metadata": {},
   "source": [
    "Sort the data"
   ]
  },
  {
   "cell_type": "code",
   "execution_count": 11,
   "metadata": {},
   "outputs": [],
   "source": [
    "all_data.sort_values(['date_block_num','shop_id','item_id'],inplace=True)"
   ]
  },
  {
   "cell_type": "markdown",
   "metadata": {},
   "source": [
    "Clip data before calculating more features"
   ]
  },
  {
   "cell_type": "code",
   "execution_count": 12,
   "metadata": {},
   "outputs": [],
   "source": [
    "all_data['target_item_cnt'] = all_data['target_item_cnt'].clip(0, 20, axis=0)"
   ]
  },
  {
   "cell_type": "code",
   "execution_count": 13,
   "metadata": {},
   "outputs": [],
   "source": [
    "# all_data.to_pickle('data_3')"
   ]
  },
  {
   "cell_type": "markdown",
   "metadata": {},
   "source": [
    "### Features: Date Related"
   ]
  },
  {
   "cell_type": "code",
   "execution_count": 14,
   "metadata": {},
   "outputs": [],
   "source": [
    "# all_data = pd.read_pickle('data_3')"
   ]
  },
  {
   "cell_type": "code",
   "execution_count": 15,
   "metadata": {},
   "outputs": [
    {
     "data": {
      "text/html": [
       "<div>\n",
       "<style scoped>\n",
       "    .dataframe tbody tr th:only-of-type {\n",
       "        vertical-align: middle;\n",
       "    }\n",
       "\n",
       "    .dataframe tbody tr th {\n",
       "        vertical-align: top;\n",
       "    }\n",
       "\n",
       "    .dataframe thead th {\n",
       "        text-align: right;\n",
       "    }\n",
       "</style>\n",
       "<table border=\"1\" class=\"dataframe\">\n",
       "  <thead>\n",
       "    <tr style=\"text-align: right;\">\n",
       "      <th></th>\n",
       "      <th>date_block_num</th>\n",
       "      <th>yymm</th>\n",
       "      <th>month</th>\n",
       "      <th>year</th>\n",
       "      <th>set</th>\n",
       "    </tr>\n",
       "  </thead>\n",
       "  <tbody>\n",
       "    <tr>\n",
       "      <th>0</th>\n",
       "      <td>0</td>\n",
       "      <td>1301</td>\n",
       "      <td>1</td>\n",
       "      <td>2013</td>\n",
       "      <td>train</td>\n",
       "    </tr>\n",
       "    <tr>\n",
       "      <th>1</th>\n",
       "      <td>1</td>\n",
       "      <td>1302</td>\n",
       "      <td>2</td>\n",
       "      <td>2013</td>\n",
       "      <td>train</td>\n",
       "    </tr>\n",
       "    <tr>\n",
       "      <th>2</th>\n",
       "      <td>2</td>\n",
       "      <td>1303</td>\n",
       "      <td>3</td>\n",
       "      <td>2013</td>\n",
       "      <td>train</td>\n",
       "    </tr>\n",
       "    <tr>\n",
       "      <th>3</th>\n",
       "      <td>3</td>\n",
       "      <td>1304</td>\n",
       "      <td>4</td>\n",
       "      <td>2013</td>\n",
       "      <td>train</td>\n",
       "    </tr>\n",
       "    <tr>\n",
       "      <th>4</th>\n",
       "      <td>4</td>\n",
       "      <td>1305</td>\n",
       "      <td>5</td>\n",
       "      <td>2013</td>\n",
       "      <td>train</td>\n",
       "    </tr>\n",
       "  </tbody>\n",
       "</table>\n",
       "</div>"
      ],
      "text/plain": [
       "   date_block_num  yymm  month  year    set\n",
       "0               0  1301      1  2013  train\n",
       "1               1  1302      2  2013  train\n",
       "2               2  1303      3  2013  train\n",
       "3               3  1304      4  2013  train\n",
       "4               4  1305      5  2013  train"
      ]
     },
     "execution_count": 15,
     "metadata": {},
     "output_type": "execute_result"
    }
   ],
   "source": [
    "summary = data[['date_block_num', 'yymm', 'month', 'year', 'set']].drop_duplicates().reset_index(drop = True)\n",
    "summary.head()"
   ]
  },
  {
   "cell_type": "code",
   "execution_count": 16,
   "metadata": {},
   "outputs": [],
   "source": [
    "all_data = pd.merge(all_data, summary, how='left', on= ['date_block_num'])"
   ]
  },
  {
   "cell_type": "markdown",
   "metadata": {},
   "source": [
    "#### feature: count of each of the weekday for each month"
   ]
  },
  {
   "cell_type": "markdown",
   "metadata": {},
   "source": [
    "Add the count of each of the weekday for the date_block_num (yymm).  For Nov. 2015, manually add the count. <br> (Monday=0, Sunday=6) <br>\n",
    "0 Monday 5 <br>\n",
    "1 Tuesday 4 <br>\n",
    "2 Wednesday 4 <br>\n",
    "3 Thursday 4 <br>\n",
    "4 Friday 4 <br>\n",
    "5 Saturday 4 <br>\n",
    "6 Sunday 5\n",
    "\n"
   ]
  },
  {
   "cell_type": "code",
   "execution_count": 17,
   "metadata": {},
   "outputs": [],
   "source": [
    "# weekdayTable  = pd.read_pickle('weekdayTable ')"
   ]
  },
  {
   "cell_type": "code",
   "execution_count": 18,
   "metadata": {},
   "outputs": [
    {
     "data": {
      "text/html": [
       "<div>\n",
       "<style scoped>\n",
       "    .dataframe tbody tr th:only-of-type {\n",
       "        vertical-align: middle;\n",
       "    }\n",
       "\n",
       "    .dataframe tbody tr th {\n",
       "        vertical-align: top;\n",
       "    }\n",
       "\n",
       "    .dataframe thead th {\n",
       "        text-align: right;\n",
       "    }\n",
       "</style>\n",
       "<table border=\"1\" class=\"dataframe\">\n",
       "  <thead>\n",
       "    <tr style=\"text-align: right;\">\n",
       "      <th></th>\n",
       "      <th>yymm</th>\n",
       "      <th>weekday</th>\n",
       "      <th>weekdayCount</th>\n",
       "    </tr>\n",
       "  </thead>\n",
       "  <tbody>\n",
       "    <tr>\n",
       "      <th>242</th>\n",
       "      <td>1511</td>\n",
       "      <td>4</td>\n",
       "      <td>4</td>\n",
       "    </tr>\n",
       "    <tr>\n",
       "      <th>243</th>\n",
       "      <td>1511</td>\n",
       "      <td>5</td>\n",
       "      <td>4</td>\n",
       "    </tr>\n",
       "    <tr>\n",
       "      <th>244</th>\n",
       "      <td>1511</td>\n",
       "      <td>6</td>\n",
       "      <td>5</td>\n",
       "    </tr>\n",
       "  </tbody>\n",
       "</table>\n",
       "</div>"
      ],
      "text/plain": [
       "     yymm  weekday  weekdayCount\n",
       "242  1511        4             4\n",
       "243  1511        5             4\n",
       "244  1511        6             5"
      ]
     },
     "execution_count": 18,
     "metadata": {},
     "output_type": "execute_result"
    }
   ],
   "source": [
    "weekdayTable = data[['yymm', 'day', 'weekday']].drop_duplicates()\n",
    "weekdayTable = weekdayTable.groupby(['yymm', 'weekday']).count()\n",
    "weekdayTable = weekdayTable.reset_index()\n",
    "weekdayTable.columns = ['yymm', 'weekday', 'weekdayCount']\n",
    "weekdayTable = weekdayTable.drop(weekdayTable.index[[238]])\n",
    "weekdayTable = weekdayTable.append({'yymm':1511, 'weekday': 0, 'weekdayCount': 5}, ignore_index=True)\n",
    "weekdayTable = weekdayTable.append({'yymm':1511, 'weekday': 1, 'weekdayCount': 4}, ignore_index=True)\n",
    "weekdayTable = weekdayTable.append({'yymm':1511, 'weekday': 2, 'weekdayCount': 4}, ignore_index=True)\n",
    "weekdayTable = weekdayTable.append({'yymm':1511, 'weekday': 3, 'weekdayCount': 4}, ignore_index=True)\n",
    "weekdayTable = weekdayTable.append({'yymm':1511, 'weekday': 4, 'weekdayCount': 4}, ignore_index=True)\n",
    "weekdayTable = weekdayTable.append({'yymm':1511, 'weekday': 5, 'weekdayCount': 4}, ignore_index=True)\n",
    "weekdayTable = weekdayTable.append({'yymm':1511, 'weekday': 6, 'weekdayCount': 5}, ignore_index=True)\n",
    "weekdayTable.tail(3)"
   ]
  },
  {
   "cell_type": "code",
   "execution_count": 19,
   "metadata": {},
   "outputs": [
    {
     "data": {
      "text/html": [
       "<div>\n",
       "<style scoped>\n",
       "    .dataframe tbody tr th:only-of-type {\n",
       "        vertical-align: middle;\n",
       "    }\n",
       "\n",
       "    .dataframe tbody tr th {\n",
       "        vertical-align: top;\n",
       "    }\n",
       "\n",
       "    .dataframe thead th {\n",
       "        text-align: right;\n",
       "    }\n",
       "</style>\n",
       "<table border=\"1\" class=\"dataframe\">\n",
       "  <thead>\n",
       "    <tr style=\"text-align: right;\">\n",
       "      <th>weekday</th>\n",
       "      <th>0</th>\n",
       "      <th>1</th>\n",
       "      <th>2</th>\n",
       "      <th>3</th>\n",
       "      <th>4</th>\n",
       "      <th>5</th>\n",
       "      <th>6</th>\n",
       "    </tr>\n",
       "    <tr>\n",
       "      <th>yymm</th>\n",
       "      <th></th>\n",
       "      <th></th>\n",
       "      <th></th>\n",
       "      <th></th>\n",
       "      <th></th>\n",
       "      <th></th>\n",
       "      <th></th>\n",
       "    </tr>\n",
       "  </thead>\n",
       "  <tbody>\n",
       "    <tr>\n",
       "      <th>1508</th>\n",
       "      <td>5</td>\n",
       "      <td>4</td>\n",
       "      <td>4</td>\n",
       "      <td>4</td>\n",
       "      <td>4</td>\n",
       "      <td>5</td>\n",
       "      <td>5</td>\n",
       "    </tr>\n",
       "    <tr>\n",
       "      <th>1509</th>\n",
       "      <td>4</td>\n",
       "      <td>5</td>\n",
       "      <td>5</td>\n",
       "      <td>4</td>\n",
       "      <td>4</td>\n",
       "      <td>4</td>\n",
       "      <td>4</td>\n",
       "    </tr>\n",
       "    <tr>\n",
       "      <th>1510</th>\n",
       "      <td>4</td>\n",
       "      <td>4</td>\n",
       "      <td>4</td>\n",
       "      <td>5</td>\n",
       "      <td>5</td>\n",
       "      <td>5</td>\n",
       "      <td>4</td>\n",
       "    </tr>\n",
       "  </tbody>\n",
       "</table>\n",
       "</div>"
      ],
      "text/plain": [
       "weekday  0  1  2  3  4  5  6\n",
       "yymm                        \n",
       "1508     5  4  4  4  4  5  5\n",
       "1509     4  5  5  4  4  4  4\n",
       "1510     4  4  4  5  5  5  4"
      ]
     },
     "execution_count": 19,
     "metadata": {},
     "output_type": "execute_result"
    }
   ],
   "source": [
    "weekdayTable = weekdayTable.pivot(index='yymm', columns='weekday', values='weekdayCount')\n",
    "weekdayTable.tail(3)"
   ]
  },
  {
   "cell_type": "code",
   "execution_count": 20,
   "metadata": {},
   "outputs": [],
   "source": [
    "weekdayTable = weekdayTable.reset_index(drop = False)"
   ]
  },
  {
   "cell_type": "code",
   "execution_count": 21,
   "metadata": {},
   "outputs": [],
   "source": [
    "weekdayTable.columns = ['yymm', 'num_Mon', 'num_Tues', 'num_Wed', 'num_Thu', 'num_Fri', 'num_Sat', 'num_Sun']"
   ]
  },
  {
   "cell_type": "code",
   "execution_count": 22,
   "metadata": {},
   "outputs": [],
   "source": [
    "col_list = list(weekdayTable.columns.values)[1:]\n",
    "weekdayTable['daysInMonth'] = weekdayTable[col_list].sum(axis=1)"
   ]
  },
  {
   "cell_type": "code",
   "execution_count": 23,
   "metadata": {},
   "outputs": [
    {
     "data": {
      "text/html": [
       "<div>\n",
       "<style scoped>\n",
       "    .dataframe tbody tr th:only-of-type {\n",
       "        vertical-align: middle;\n",
       "    }\n",
       "\n",
       "    .dataframe tbody tr th {\n",
       "        vertical-align: top;\n",
       "    }\n",
       "\n",
       "    .dataframe thead th {\n",
       "        text-align: right;\n",
       "    }\n",
       "</style>\n",
       "<table border=\"1\" class=\"dataframe\">\n",
       "  <thead>\n",
       "    <tr style=\"text-align: right;\">\n",
       "      <th></th>\n",
       "      <th>yymm</th>\n",
       "      <th>num_Mon</th>\n",
       "      <th>num_Tues</th>\n",
       "      <th>num_Wed</th>\n",
       "      <th>num_Thu</th>\n",
       "      <th>num_Fri</th>\n",
       "      <th>num_Sat</th>\n",
       "      <th>num_Sun</th>\n",
       "      <th>daysInMonth</th>\n",
       "    </tr>\n",
       "  </thead>\n",
       "  <tbody>\n",
       "    <tr>\n",
       "      <th>0</th>\n",
       "      <td>1511</td>\n",
       "      <td>5</td>\n",
       "      <td>4</td>\n",
       "      <td>4</td>\n",
       "      <td>4</td>\n",
       "      <td>4</td>\n",
       "      <td>4</td>\n",
       "      <td>5</td>\n",
       "      <td>30</td>\n",
       "    </tr>\n",
       "    <tr>\n",
       "      <th>1</th>\n",
       "      <td>1301</td>\n",
       "      <td>4</td>\n",
       "      <td>5</td>\n",
       "      <td>5</td>\n",
       "      <td>5</td>\n",
       "      <td>4</td>\n",
       "      <td>4</td>\n",
       "      <td>4</td>\n",
       "      <td>31</td>\n",
       "    </tr>\n",
       "    <tr>\n",
       "      <th>2</th>\n",
       "      <td>1302</td>\n",
       "      <td>4</td>\n",
       "      <td>4</td>\n",
       "      <td>4</td>\n",
       "      <td>4</td>\n",
       "      <td>4</td>\n",
       "      <td>4</td>\n",
       "      <td>4</td>\n",
       "      <td>28</td>\n",
       "    </tr>\n",
       "    <tr>\n",
       "      <th>3</th>\n",
       "      <td>1303</td>\n",
       "      <td>4</td>\n",
       "      <td>4</td>\n",
       "      <td>4</td>\n",
       "      <td>4</td>\n",
       "      <td>5</td>\n",
       "      <td>5</td>\n",
       "      <td>5</td>\n",
       "      <td>31</td>\n",
       "    </tr>\n",
       "    <tr>\n",
       "      <th>4</th>\n",
       "      <td>1304</td>\n",
       "      <td>5</td>\n",
       "      <td>5</td>\n",
       "      <td>4</td>\n",
       "      <td>4</td>\n",
       "      <td>4</td>\n",
       "      <td>4</td>\n",
       "      <td>4</td>\n",
       "      <td>30</td>\n",
       "    </tr>\n",
       "  </tbody>\n",
       "</table>\n",
       "</div>"
      ],
      "text/plain": [
       "   yymm  num_Mon  num_Tues  num_Wed  num_Thu  num_Fri  num_Sat  num_Sun  \\\n",
       "0  1511        5         4        4        4        4        4        5   \n",
       "1  1301        4         5        5        5        4        4        4   \n",
       "2  1302        4         4        4        4        4        4        4   \n",
       "3  1303        4         4        4        4        5        5        5   \n",
       "4  1304        5         5        4        4        4        4        4   \n",
       "\n",
       "   daysInMonth  \n",
       "0           30  \n",
       "1           31  \n",
       "2           28  \n",
       "3           31  \n",
       "4           30  "
      ]
     },
     "execution_count": 23,
     "metadata": {},
     "output_type": "execute_result"
    }
   ],
   "source": [
    "weekdayTable.head()"
   ]
  },
  {
   "cell_type": "code",
   "execution_count": 24,
   "metadata": {},
   "outputs": [],
   "source": [
    "weekdayTable['yymm'] = weekdayTable['yymm'].astype('int32')"
   ]
  },
  {
   "cell_type": "code",
   "execution_count": 25,
   "metadata": {},
   "outputs": [
    {
     "data": {
      "text/html": [
       "<div>\n",
       "<style scoped>\n",
       "    .dataframe tbody tr th:only-of-type {\n",
       "        vertical-align: middle;\n",
       "    }\n",
       "\n",
       "    .dataframe tbody tr th {\n",
       "        vertical-align: top;\n",
       "    }\n",
       "\n",
       "    .dataframe thead th {\n",
       "        text-align: right;\n",
       "    }\n",
       "</style>\n",
       "<table border=\"1\" class=\"dataframe\">\n",
       "  <thead>\n",
       "    <tr style=\"text-align: right;\">\n",
       "      <th></th>\n",
       "      <th>yymm</th>\n",
       "      <th>num_Mon</th>\n",
       "      <th>num_Tues</th>\n",
       "      <th>num_Wed</th>\n",
       "      <th>num_Thu</th>\n",
       "      <th>num_Fri</th>\n",
       "      <th>num_Sat</th>\n",
       "      <th>num_Sun</th>\n",
       "      <th>daysInMonth</th>\n",
       "    </tr>\n",
       "  </thead>\n",
       "  <tbody>\n",
       "    <tr>\n",
       "      <th>30</th>\n",
       "      <td>1507</td>\n",
       "      <td>4</td>\n",
       "      <td>4</td>\n",
       "      <td>5</td>\n",
       "      <td>5</td>\n",
       "      <td>5</td>\n",
       "      <td>4</td>\n",
       "      <td>4</td>\n",
       "      <td>31</td>\n",
       "    </tr>\n",
       "    <tr>\n",
       "      <th>31</th>\n",
       "      <td>1508</td>\n",
       "      <td>5</td>\n",
       "      <td>4</td>\n",
       "      <td>4</td>\n",
       "      <td>4</td>\n",
       "      <td>4</td>\n",
       "      <td>5</td>\n",
       "      <td>5</td>\n",
       "      <td>31</td>\n",
       "    </tr>\n",
       "    <tr>\n",
       "      <th>32</th>\n",
       "      <td>1509</td>\n",
       "      <td>4</td>\n",
       "      <td>5</td>\n",
       "      <td>5</td>\n",
       "      <td>4</td>\n",
       "      <td>4</td>\n",
       "      <td>4</td>\n",
       "      <td>4</td>\n",
       "      <td>30</td>\n",
       "    </tr>\n",
       "    <tr>\n",
       "      <th>33</th>\n",
       "      <td>1510</td>\n",
       "      <td>4</td>\n",
       "      <td>4</td>\n",
       "      <td>4</td>\n",
       "      <td>5</td>\n",
       "      <td>5</td>\n",
       "      <td>5</td>\n",
       "      <td>4</td>\n",
       "      <td>31</td>\n",
       "    </tr>\n",
       "    <tr>\n",
       "      <th>34</th>\n",
       "      <td>1511</td>\n",
       "      <td>5</td>\n",
       "      <td>4</td>\n",
       "      <td>4</td>\n",
       "      <td>4</td>\n",
       "      <td>4</td>\n",
       "      <td>4</td>\n",
       "      <td>5</td>\n",
       "      <td>30</td>\n",
       "    </tr>\n",
       "  </tbody>\n",
       "</table>\n",
       "</div>"
      ],
      "text/plain": [
       "    yymm  num_Mon  num_Tues  num_Wed  num_Thu  num_Fri  num_Sat  num_Sun  \\\n",
       "30  1507        4         4        5        5        5        4        4   \n",
       "31  1508        5         4        4        4        4        5        5   \n",
       "32  1509        4         5        5        4        4        4        4   \n",
       "33  1510        4         4        4        5        5        5        4   \n",
       "34  1511        5         4        4        4        4        4        5   \n",
       "\n",
       "    daysInMonth  \n",
       "30           31  \n",
       "31           31  \n",
       "32           30  \n",
       "33           31  \n",
       "34           30  "
      ]
     },
     "execution_count": 25,
     "metadata": {},
     "output_type": "execute_result"
    }
   ],
   "source": [
    "weekdayTable.sort_values(['yymm'],inplace=True)\n",
    "weekdayTable = weekdayTable.reset_index(drop = True)\n",
    "weekdayTable.tail()"
   ]
  },
  {
   "cell_type": "code",
   "execution_count": 26,
   "metadata": {},
   "outputs": [],
   "source": [
    "weekdayTable['yymm'] = weekdayTable['yymm'].astype('str')"
   ]
  },
  {
   "cell_type": "code",
   "execution_count": 27,
   "metadata": {},
   "outputs": [],
   "source": [
    "weekdayTable.to_pickle('weekdayTable')"
   ]
  },
  {
   "cell_type": "code",
   "execution_count": 28,
   "metadata": {},
   "outputs": [],
   "source": [
    "all_data = pd.merge(all_data, weekdayTable, how='left', on= ['yymm'])"
   ]
  },
  {
   "cell_type": "code",
   "execution_count": 29,
   "metadata": {},
   "outputs": [],
   "source": [
    "all_data = downcast_dtypes(all_data)"
   ]
  },
  {
   "cell_type": "code",
   "execution_count": 30,
   "metadata": {},
   "outputs": [],
   "source": [
    "#all_data.to_pickle('data_4')"
   ]
  },
  {
   "cell_type": "markdown",
   "metadata": {},
   "source": [
    "### Features: add features from shops, items, item_cats"
   ]
  },
  {
   "cell_type": "code",
   "execution_count": 31,
   "metadata": {},
   "outputs": [],
   "source": [
    "# all_data = pd.read_pickle('data_4')"
   ]
  },
  {
   "cell_type": "code",
   "execution_count": 32,
   "metadata": {},
   "outputs": [],
   "source": [
    "shops = downcast_dtypes(shops)\n",
    "items = downcast_dtypes(items)\n",
    "item_cats = downcast_dtypes(item_cats)"
   ]
  },
  {
   "cell_type": "code",
   "execution_count": 33,
   "metadata": {},
   "outputs": [],
   "source": [
    "all_data = all_data.merge(shops, how = 'left', on = 'shop_id')\n",
    "all_data = all_data.merge(items, how = 'left', on = 'item_id')\n",
    "all_data = all_data.merge(item_cats, how = 'left', on = 'item_category_id')"
   ]
  },
  {
   "cell_type": "code",
   "execution_count": 34,
   "metadata": {},
   "outputs": [],
   "source": [
    "#all_data.to_pickle('data_5')"
   ]
  },
  {
   "cell_type": "markdown",
   "metadata": {},
   "source": [
    "### Features: Revenue Related"
   ]
  },
  {
   "cell_type": "markdown",
   "metadata": {},
   "source": [
    "#### feature: aggregate total revenue for the month by ['shop_id', 'date_block_num']"
   ]
  },
  {
   "cell_type": "code",
   "execution_count": 35,
   "metadata": {},
   "outputs": [],
   "source": [
    "# all_data = pd.read_pickle('data_5')"
   ]
  },
  {
   "cell_type": "code",
   "execution_count": 36,
   "metadata": {},
   "outputs": [
    {
     "name": "stdout",
     "output_type": "stream",
     "text": [
      "Count of Null Before: 0\n",
      "Count of Null After: 0\n",
      "      shop_id  date_block_num  shop_revenue\n",
      "983        38              34           0.0\n",
      "1004       39              34           0.0\n",
      "345        14              34           0.0\n",
      "1050       41              34           0.0\n",
      "      shop_id  date_block_num  shop_revenue\n",
      "1623       59              30      863379.0\n",
      "1624       59              31      956183.0\n",
      "1625       59              32     1100853.0\n",
      "1626       59              33      974885.0\n",
      "1627       59              34           0.0\n"
     ]
    }
   ],
   "source": [
    "index_cols = ['shop_id', 'date_block_num']\n",
    "summary = data.groupby(index_cols, as_index=False).agg({'revenue': ['sum']})\n",
    "summary.columns = ['shop_id', 'date_block_num', 'shop_revenue']\n",
    "print('Count of Null Before:', summary.iloc[:,-1].isnull().sum())\n",
    "summary = summary.fillna(0).reset_index(drop = True)\n",
    "print('Count of Null After:', summary.iloc[:,-1].isnull().sum())\n",
    "print(summary.sort_values('shop_revenue')[1:5])\n",
    "print(summary.tail())"
   ]
  },
  {
   "cell_type": "markdown",
   "metadata": {},
   "source": [
    "Set negative revenue to 0"
   ]
  },
  {
   "cell_type": "code",
   "execution_count": 37,
   "metadata": {},
   "outputs": [],
   "source": [
    "mask = summary['shop_revenue'] < 0\n",
    "summary.loc[mask, 'shop_revenue'] = 0"
   ]
  },
  {
   "cell_type": "code",
   "execution_count": 38,
   "metadata": {},
   "outputs": [],
   "source": [
    "all_data = pd.merge(all_data, summary, how='left', on= ['shop_id', 'date_block_num'])"
   ]
  },
  {
   "cell_type": "code",
   "execution_count": 39,
   "metadata": {},
   "outputs": [],
   "source": [
    "# all_data[(all_data.shop_revenue == 0) & (all_data.date_block_num != 34)]"
   ]
  },
  {
   "cell_type": "markdown",
   "metadata": {},
   "source": [
    "#### feature: aggregate total revenue for the month by shop_id + category_id"
   ]
  },
  {
   "cell_type": "code",
   "execution_count": 40,
   "metadata": {},
   "outputs": [
    {
     "name": "stdout",
     "output_type": "stream",
     "text": [
      "Count of Null Before: 0\n",
      "Count of Null After: 0\n"
     ]
    }
   ],
   "source": [
    "index_cols = ['shop_id', 'date_block_num', 'item_category_id']\n",
    "summary = data.groupby(index_cols, as_index=False).agg({'revenue': ['sum']})\n",
    "summary.columns = ['shop_id', 'date_block_num', 'item_category_id', 'category_revenue']\n",
    "print('Count of Null Before:', summary.iloc[:,-1].isnull().sum())\n",
    "summary = summary.fillna(0).reset_index(drop = True)\n",
    "print('Count of Null After:', summary.iloc[:,-1].isnull().sum())"
   ]
  },
  {
   "cell_type": "code",
   "execution_count": 41,
   "metadata": {},
   "outputs": [
    {
     "data": {
      "text/plain": [
       "count    6.779300e+04\n",
       "mean     4.887253e+04\n",
       "std      1.109358e+05\n",
       "min      0.000000e+00\n",
       "25%      3.698000e+03\n",
       "50%      1.468700e+04\n",
       "75%      4.576940e+04\n",
       "max      4.527748e+06\n",
       "Name: category_revenue, dtype: float64"
      ]
     },
     "execution_count": 41,
     "metadata": {},
     "output_type": "execute_result"
    }
   ],
   "source": [
    "summary['category_revenue'].describe()"
   ]
  },
  {
   "cell_type": "code",
   "execution_count": 42,
   "metadata": {},
   "outputs": [],
   "source": [
    "all_data = pd.merge(all_data, summary, how='left', on= ['shop_id', 'date_block_num', 'item_category_id']).fillna(0)"
   ]
  },
  {
   "cell_type": "code",
   "execution_count": 43,
   "metadata": {},
   "outputs": [
    {
     "data": {
      "text/plain": [
       "(1551853, 22)"
      ]
     },
     "execution_count": 43,
     "metadata": {},
     "output_type": "execute_result"
    }
   ],
   "source": [
    "all_data[(all_data.category_revenue == 0) & (all_data.date_block_num != 34)].shape"
   ]
  },
  {
   "cell_type": "code",
   "execution_count": 44,
   "metadata": {},
   "outputs": [],
   "source": [
    "#all_data.to_pickle('data_6')"
   ]
  },
  {
   "cell_type": "markdown",
   "metadata": {},
   "source": [
    "### Features: Item Count Related"
   ]
  },
  {
   "cell_type": "code",
   "execution_count": 45,
   "metadata": {},
   "outputs": [],
   "source": [
    "#all_data = pd.read_pickle('data_6')"
   ]
  },
  {
   "cell_type": "markdown",
   "metadata": {},
   "source": [
    "#### feature: aggregate total item_cnt_day for the month by shop_id"
   ]
  },
  {
   "cell_type": "code",
   "execution_count": 46,
   "metadata": {},
   "outputs": [
    {
     "name": "stdout",
     "output_type": "stream",
     "text": [
      "Count of Null Before: 0\n",
      "Count of Null After: 0\n",
      "Sorted Values: \n",
      "       shop_id  date_block_num  shop_item_cnt\n",
      "1397       52              34            0.0\n",
      "913        36              34            0.0\n",
      "911        35              34            0.0\n",
      "1432       53              34            0.0\n",
      "142         5              34            0.0\n",
      "876        34              34            0.0\n",
      "1526       56              34            0.0\n",
      "542        21              34            0.0\n",
      "859        33              27            0.0\n",
      "Tail: \n",
      "       shop_id  date_block_num  shop_item_cnt\n",
      "1623       59              30          998.0\n",
      "1624       59              31         1156.0\n",
      "1625       59              32          915.0\n",
      "1626       59              33          792.0\n",
      "1627       59              34            0.0\n"
     ]
    }
   ],
   "source": [
    "index_cols = ['shop_id', 'date_block_num']\n",
    "summary = data.groupby(index_cols, as_index=False).agg({'item_cnt_day': ['sum']})\n",
    "summary.columns = ['shop_id', 'date_block_num', 'shop_item_cnt']\n",
    "print('Count of Null Before:', summary.iloc[:,-1].isnull().sum())\n",
    "summary = summary.fillna(0).reset_index(drop = True)\n",
    "print('Count of Null After:', summary.iloc[:,-1].isnull().sum())\n",
    "print('Sorted Values: \\n',summary.sort_values(summary.columns[-1])[1:10])\n",
    "print('Tail: \\n', summary.tail())"
   ]
  },
  {
   "cell_type": "code",
   "execution_count": 47,
   "metadata": {},
   "outputs": [],
   "source": [
    "all_data = pd.merge(all_data, summary, how='left', on= ['shop_id', 'date_block_num'])"
   ]
  },
  {
   "cell_type": "markdown",
   "metadata": {},
   "source": [
    "#### feature: aggregate total item_cnt_day for the month by shop_id + category_id"
   ]
  },
  {
   "cell_type": "code",
   "execution_count": 48,
   "metadata": {},
   "outputs": [
    {
     "name": "stdout",
     "output_type": "stream",
     "text": [
      "Count of Null Before: 0\n",
      "Count of Null After: 0\n",
      "Sorted Values: \n",
      "        shop_id  date_block_num  item_category_id  category_item_cnt\n",
      "35876       31              34                33                0.0\n",
      "35877       31              34                34                0.0\n",
      "35878       31              34                35                0.0\n",
      "35879       31              34                36                0.0\n",
      "35880       31              34                37                0.0\n",
      "35881       31              34                38                0.0\n",
      "35882       31              34                40                0.0\n",
      "35883       31              34                41                0.0\n",
      "35884       31              34                42                0.0\n",
      "Tail: \n",
      "        shop_id  date_block_num  item_category_id  category_item_cnt\n",
      "67788       59              34                76                0.0\n",
      "67789       59              34                77                0.0\n",
      "67790       59              34                78                0.0\n",
      "67791       59              34                79                0.0\n",
      "67792       59              34                83                0.0\n"
     ]
    }
   ],
   "source": [
    "index_cols = ['shop_id', 'date_block_num', 'item_category_id']\n",
    "summary = data.groupby(index_cols, as_index=False).agg({'item_cnt_day': ['sum']})\n",
    "summary.columns = ['shop_id', 'date_block_num', 'item_category_id', 'category_item_cnt']\n",
    "print('Count of Null Before:', summary.iloc[:,-1].isnull().sum())\n",
    "summary = summary.fillna(0).reset_index(drop = True)\n",
    "print('Count of Null After:', summary.iloc[:,-1].isnull().sum())\n",
    "print('Sorted Values: \\n',summary.sort_values(summary.columns[-1])[1:10])\n",
    "print('Tail: \\n', summary.tail())"
   ]
  },
  {
   "cell_type": "code",
   "execution_count": 49,
   "metadata": {},
   "outputs": [],
   "source": [
    "all_data = pd.merge(all_data, summary, how='left', on= ['shop_id', 'date_block_num', 'item_category_id']).fillna(0)"
   ]
  },
  {
   "cell_type": "code",
   "execution_count": 50,
   "metadata": {},
   "outputs": [
    {
     "data": {
      "text/plain": [
       "(1551853, 24)"
      ]
     },
     "execution_count": 50,
     "metadata": {},
     "output_type": "execute_result"
    }
   ],
   "source": [
    "all_data[(all_data.category_item_cnt == 0) & (all_data.date_block_num != 34)].shape"
   ]
  },
  {
   "cell_type": "markdown",
   "metadata": {},
   "source": [
    "#### feature: aggregate total item sold groupby ['date_block_num', 'item_id'] and cumulative item sold "
   ]
  },
  {
   "cell_type": "code",
   "execution_count": 51,
   "metadata": {},
   "outputs": [],
   "source": [
    "index_cols = ['date_block_num', 'item_id']\n",
    "grouped = all_data.groupby(index_cols, as_index=False).agg({'target_item_cnt': ['sum']})\n",
    "grouped.columns = [col[0] if col[-1]=='' else 'month_item_cnt' for col in grouped.columns.values] \n",
    "grouped = grouped.sort_values(['item_id', 'date_block_num'])\n",
    "grouped = grouped.fillna(0).reset_index(drop = True)\n",
    "grouped['cum_month_item_cnt'] = grouped.groupby('item_id')['month_item_cnt'].cumsum()"
   ]
  },
  {
   "cell_type": "code",
   "execution_count": 52,
   "metadata": {},
   "outputs": [
    {
     "data": {
      "text/html": [
       "<div>\n",
       "<style scoped>\n",
       "    .dataframe tbody tr th:only-of-type {\n",
       "        vertical-align: middle;\n",
       "    }\n",
       "\n",
       "    .dataframe tbody tr th {\n",
       "        vertical-align: top;\n",
       "    }\n",
       "\n",
       "    .dataframe thead th {\n",
       "        text-align: right;\n",
       "    }\n",
       "</style>\n",
       "<table border=\"1\" class=\"dataframe\">\n",
       "  <thead>\n",
       "    <tr style=\"text-align: right;\">\n",
       "      <th></th>\n",
       "      <th>date_block_num</th>\n",
       "      <th>item_id</th>\n",
       "      <th>month_item_cnt</th>\n",
       "      <th>cum_month_item_cnt</th>\n",
       "    </tr>\n",
       "  </thead>\n",
       "  <tbody>\n",
       "    <tr>\n",
       "      <th>0</th>\n",
       "      <td>20</td>\n",
       "      <td>0</td>\n",
       "      <td>1.0</td>\n",
       "      <td>1.0</td>\n",
       "    </tr>\n",
       "    <tr>\n",
       "      <th>1</th>\n",
       "      <td>15</td>\n",
       "      <td>1</td>\n",
       "      <td>2.0</td>\n",
       "      <td>2.0</td>\n",
       "    </tr>\n",
       "    <tr>\n",
       "      <th>2</th>\n",
       "      <td>18</td>\n",
       "      <td>1</td>\n",
       "      <td>1.0</td>\n",
       "      <td>3.0</td>\n",
       "    </tr>\n",
       "    <tr>\n",
       "      <th>3</th>\n",
       "      <td>19</td>\n",
       "      <td>1</td>\n",
       "      <td>1.0</td>\n",
       "      <td>4.0</td>\n",
       "    </tr>\n",
       "    <tr>\n",
       "      <th>4</th>\n",
       "      <td>20</td>\n",
       "      <td>1</td>\n",
       "      <td>1.0</td>\n",
       "      <td>5.0</td>\n",
       "    </tr>\n",
       "  </tbody>\n",
       "</table>\n",
       "</div>"
      ],
      "text/plain": [
       "   date_block_num  item_id  month_item_cnt  cum_month_item_cnt\n",
       "0              20        0             1.0                 1.0\n",
       "1              15        1             2.0                 2.0\n",
       "2              18        1             1.0                 3.0\n",
       "3              19        1             1.0                 4.0\n",
       "4              20        1             1.0                 5.0"
      ]
     },
     "execution_count": 52,
     "metadata": {},
     "output_type": "execute_result"
    }
   ],
   "source": [
    "grouped.head()"
   ]
  },
  {
   "cell_type": "code",
   "execution_count": 53,
   "metadata": {},
   "outputs": [],
   "source": [
    "all_data = pd.merge(all_data, grouped, how='left', on= ['date_block_num', 'item_id'])"
   ]
  },
  {
   "cell_type": "markdown",
   "metadata": {},
   "source": [
    "#### feature: flag for new item (0 cumulative sale in previous month, but > 1 in current month)"
   ]
  },
  {
   "cell_type": "code",
   "execution_count": 54,
   "metadata": {},
   "outputs": [
    {
     "name": "stdout",
     "output_type": "stream",
     "text": [
      "# unique items: 22169\n",
      "# block num: 35\n"
     ]
    }
   ],
   "source": [
    "from itertools import product #This tool computes the cartesian product of input iterables\n",
    "grid = []\n",
    "block_num = data['date_block_num'].unique()\n",
    "cur_items = data['item_id'].unique() \n",
    "print('# unique items:', data['item_id'].nunique())\n",
    "print('# block num:',data['date_block_num'].nunique() )"
   ]
  },
  {
   "cell_type": "code",
   "execution_count": 55,
   "metadata": {},
   "outputs": [],
   "source": [
    "grid.append(np.array(list(product(*[cur_items, block_num])),dtype='int32'))"
   ]
  },
  {
   "cell_type": "code",
   "execution_count": 56,
   "metadata": {},
   "outputs": [],
   "source": [
    "grid = pd.DataFrame(np.vstack(grid), columns = ['item_id', 'date_block_num'], dtype=np.int32)\n",
    "grid = grid.sort_values(['item_id', 'date_block_num'])\n",
    "grid = grid.reset_index(drop = True)"
   ]
  },
  {
   "cell_type": "code",
   "execution_count": 57,
   "metadata": {},
   "outputs": [],
   "source": [
    "cumTable = all_data[['item_id', 'date_block_num', 'cum_month_item_cnt']]"
   ]
  },
  {
   "cell_type": "code",
   "execution_count": 58,
   "metadata": {},
   "outputs": [],
   "source": [
    "cumTable = cumTable.drop_duplicates()"
   ]
  },
  {
   "cell_type": "code",
   "execution_count": 59,
   "metadata": {},
   "outputs": [],
   "source": [
    "grid = pd.merge(grid, cumTable, how = 'left', on = ['date_block_num', 'item_id'])"
   ]
  },
  {
   "cell_type": "markdown",
   "metadata": {},
   "source": [
    "Fill cum_month_item_cnt as 0 if date_block_num = 0"
   ]
  },
  {
   "cell_type": "code",
   "execution_count": 60,
   "metadata": {},
   "outputs": [],
   "source": [
    "mask = grid['date_block_num'] == 0\n",
    "grid.loc[mask, 'cum_month_item_cnt'] = 0"
   ]
  },
  {
   "cell_type": "code",
   "execution_count": 61,
   "metadata": {},
   "outputs": [],
   "source": [
    "grid = grid.fillna(method='ffill')"
   ]
  },
  {
   "cell_type": "code",
   "execution_count": 62,
   "metadata": {},
   "outputs": [
    {
     "data": {
      "text/plain": [
       "(775915, 3)"
      ]
     },
     "execution_count": 62,
     "metadata": {},
     "output_type": "execute_result"
    }
   ],
   "source": [
    "grid.shape"
   ]
  },
  {
   "cell_type": "markdown",
   "metadata": {},
   "source": [
    "Append lagged value from prior date_block_num"
   ]
  },
  {
   "cell_type": "code",
   "execution_count": 63,
   "metadata": {},
   "outputs": [],
   "source": [
    "cols_to_rename = ['cum_month_item_cnt']\n",
    "month_shift = 1\n",
    "lag_1_grid = grid.copy(deep = True)\n",
    "lag_1_grid['date_block_num'] = lag_1_grid['date_block_num'] + month_shift\n",
    "\n",
    "newNames = lambda x: '{}_lag_{}'.format(x, month_shift) if x in cols_to_rename else x \n",
    "lag_1_grid = lag_1_grid.rename(columns = newNames)"
   ]
  },
  {
   "cell_type": "markdown",
   "metadata": {},
   "source": [
    "Merge dataframes"
   ]
  },
  {
   "cell_type": "code",
   "execution_count": 64,
   "metadata": {},
   "outputs": [],
   "source": [
    "index_cols = ['item_id', 'date_block_num']\n",
    "grid = pd.merge(grid, lag_1_grid, on=index_cols, how='left').fillna(0)"
   ]
  },
  {
   "cell_type": "markdown",
   "metadata": {},
   "source": [
    "Create flag for new items"
   ]
  },
  {
   "cell_type": "code",
   "execution_count": 65,
   "metadata": {},
   "outputs": [],
   "source": [
    "mask = grid[(grid.cum_month_item_cnt > 0) & (grid.cum_month_item_cnt_lag_1 == 0)].index"
   ]
  },
  {
   "cell_type": "code",
   "execution_count": 66,
   "metadata": {},
   "outputs": [],
   "source": [
    "grid['flag_newItem'] = 0"
   ]
  },
  {
   "cell_type": "code",
   "execution_count": 67,
   "metadata": {},
   "outputs": [],
   "source": [
    "grid.loc[mask, 'flag_newItem'] = 1"
   ]
  },
  {
   "cell_type": "code",
   "execution_count": 68,
   "metadata": {},
   "outputs": [
    {
     "data": {
      "text/plain": [
       "0    754445\n",
       "1     21470\n",
       "Name: flag_newItem, dtype: int64"
      ]
     },
     "execution_count": 68,
     "metadata": {},
     "output_type": "execute_result"
    }
   ],
   "source": [
    "grid['flag_newItem'].value_counts()"
   ]
  },
  {
   "cell_type": "markdown",
   "metadata": {},
   "source": [
    "Merge flag_newItem to all_data"
   ]
  },
  {
   "cell_type": "code",
   "execution_count": 69,
   "metadata": {},
   "outputs": [],
   "source": [
    "grid = grid[['item_id', 'date_block_num', 'flag_newItem']]"
   ]
  },
  {
   "cell_type": "code",
   "execution_count": 70,
   "metadata": {},
   "outputs": [],
   "source": [
    "all_data = pd.merge(all_data, grid, how='left', on= ['date_block_num', 'item_id'])"
   ]
  },
  {
   "cell_type": "code",
   "execution_count": 71,
   "metadata": {},
   "outputs": [
    {
     "data": {
      "text/plain": [
       "0    10131966\n",
       "1      996038\n",
       "Name: flag_newItem, dtype: int64"
      ]
     },
     "execution_count": 71,
     "metadata": {},
     "output_type": "execute_result"
    }
   ],
   "source": [
    "all_data.flag_newItem.value_counts()"
   ]
  },
  {
   "cell_type": "markdown",
   "metadata": {},
   "source": [
    "Flag for new items in the test set"
   ]
  },
  {
   "cell_type": "code",
   "execution_count": 72,
   "metadata": {},
   "outputs": [
    {
     "data": {
      "text/html": [
       "<div>\n",
       "<style scoped>\n",
       "    .dataframe tbody tr th:only-of-type {\n",
       "        vertical-align: middle;\n",
       "    }\n",
       "\n",
       "    .dataframe tbody tr th {\n",
       "        vertical-align: top;\n",
       "    }\n",
       "\n",
       "    .dataframe thead th {\n",
       "        text-align: right;\n",
       "    }\n",
       "</style>\n",
       "<table border=\"1\" class=\"dataframe\">\n",
       "  <thead>\n",
       "    <tr style=\"text-align: right;\">\n",
       "      <th></th>\n",
       "      <th>shop_id</th>\n",
       "      <th>item_id</th>\n",
       "      <th>date_block_num</th>\n",
       "      <th>target_item_cnt</th>\n",
       "      <th>yymm</th>\n",
       "      <th>month</th>\n",
       "      <th>year</th>\n",
       "      <th>set</th>\n",
       "      <th>num_Mon</th>\n",
       "      <th>num_Tues</th>\n",
       "      <th>...</th>\n",
       "      <th>item_name</th>\n",
       "      <th>item_category_id</th>\n",
       "      <th>item_category_name</th>\n",
       "      <th>shop_revenue</th>\n",
       "      <th>category_revenue</th>\n",
       "      <th>shop_item_cnt</th>\n",
       "      <th>category_item_cnt</th>\n",
       "      <th>month_item_cnt</th>\n",
       "      <th>cum_month_item_cnt</th>\n",
       "      <th>flag_newItem</th>\n",
       "    </tr>\n",
       "  </thead>\n",
       "  <tbody>\n",
       "  </tbody>\n",
       "</table>\n",
       "<p>0 rows × 27 columns</p>\n",
       "</div>"
      ],
      "text/plain": [
       "Empty DataFrame\n",
       "Columns: [shop_id, item_id, date_block_num, target_item_cnt, yymm, month, year, set, num_Mon, num_Tues, num_Wed, num_Thu, num_Fri, num_Sat, num_Sun, daysInMonth, shop_name, item_name, item_category_id, item_category_name, shop_revenue, category_revenue, shop_item_cnt, category_item_cnt, month_item_cnt, cum_month_item_cnt, flag_newItem]\n",
       "Index: []\n",
       "\n",
       "[0 rows x 27 columns]"
      ]
     },
     "execution_count": 72,
     "metadata": {},
     "output_type": "execute_result"
    }
   ],
   "source": [
    "all_data[(all_data.flag_newItem == 1) & (all_data.set == \"test\")]"
   ]
  },
  {
   "cell_type": "code",
   "execution_count": 73,
   "metadata": {},
   "outputs": [
    {
     "name": "stdout",
     "output_type": "stream",
     "text": [
      "test items:  5100\n",
      "train items:  21806\n"
     ]
    }
   ],
   "source": [
    "test_items = all_data[(all_data.set == 'test')]['item_id'].unique()\n",
    "train_items = all_data[(all_data.set == 'train')]['item_id'].unique()\n",
    "print('test items: ', test_items.size)\n",
    "print('train items: ', train_items.size)"
   ]
  },
  {
   "cell_type": "code",
   "execution_count": 74,
   "metadata": {},
   "outputs": [],
   "source": [
    "x = np.isin(test_items, train_items)"
   ]
  },
  {
   "cell_type": "code",
   "execution_count": 75,
   "metadata": {},
   "outputs": [],
   "source": [
    "testNewItems = test_items[x == 0]"
   ]
  },
  {
   "cell_type": "code",
   "execution_count": 76,
   "metadata": {},
   "outputs": [],
   "source": [
    "mask = all_data.item_id.isin(testNewItems)\n",
    "all_data.loc[mask, 'flag_newItem'] = 1"
   ]
  },
  {
   "cell_type": "code",
   "execution_count": 77,
   "metadata": {},
   "outputs": [],
   "source": [
    "all_data['flag_newItem']= all_data['flag_newItem'].astype('uint8')"
   ]
  },
  {
   "cell_type": "code",
   "execution_count": 78,
   "metadata": {},
   "outputs": [
    {
     "data": {
      "text/plain": [
       "0    10116720\n",
       "1     1011284\n",
       "Name: flag_newItem, dtype: int64"
      ]
     },
     "execution_count": 78,
     "metadata": {},
     "output_type": "execute_result"
    }
   ],
   "source": [
    "all_data['flag_newItem'].value_counts()"
   ]
  },
  {
   "cell_type": "code",
   "execution_count": 79,
   "metadata": {},
   "outputs": [],
   "source": [
    "#all_data.to_pickle('data_7')"
   ]
  },
  {
   "cell_type": "markdown",
   "metadata": {},
   "source": [
    "### Features: Price Related"
   ]
  },
  {
   "cell_type": "code",
   "execution_count": 80,
   "metadata": {},
   "outputs": [],
   "source": [
    "# all_data = pd.read_pickle('data_7')"
   ]
  },
  {
   "cell_type": "markdown",
   "metadata": {},
   "source": [
    "#### feature: weighted mean price for the [item_id, date_block_num]"
   ]
  },
  {
   "cell_type": "code",
   "execution_count": 81,
   "metadata": {},
   "outputs": [],
   "source": [
    "price = data[['date_block_num', 'item_id', 'item_price', 'item_cnt_day']]"
   ]
  },
  {
   "cell_type": "code",
   "execution_count": 82,
   "metadata": {},
   "outputs": [],
   "source": [
    "price = price.sort_values(['date_block_num', 'item_id', 'item_price']).reset_index(drop = True)"
   ]
  },
  {
   "cell_type": "code",
   "execution_count": 83,
   "metadata": {},
   "outputs": [],
   "source": [
    "price['total_items_for_price'] = price.groupby(['date_block_num', 'item_id', 'item_price'])['item_cnt_day'].transform('sum')\n",
    "price['total_items_date'] = price.groupby(['date_block_num', 'item_id'])['item_cnt_day'].transform('sum')"
   ]
  },
  {
   "cell_type": "code",
   "execution_count": 84,
   "metadata": {},
   "outputs": [],
   "source": [
    "price['weight'] = price['total_items_for_price']/ price['total_items_date']"
   ]
  },
  {
   "cell_type": "code",
   "execution_count": 85,
   "metadata": {},
   "outputs": [],
   "source": [
    "price['price_weighted'] = price['item_price'] * price['weight']"
   ]
  },
  {
   "cell_type": "code",
   "execution_count": 86,
   "metadata": {},
   "outputs": [
    {
     "data": {
      "text/html": [
       "<div>\n",
       "<style scoped>\n",
       "    .dataframe tbody tr th:only-of-type {\n",
       "        vertical-align: middle;\n",
       "    }\n",
       "\n",
       "    .dataframe tbody tr th {\n",
       "        vertical-align: top;\n",
       "    }\n",
       "\n",
       "    .dataframe thead th {\n",
       "        text-align: right;\n",
       "    }\n",
       "</style>\n",
       "<table border=\"1\" class=\"dataframe\">\n",
       "  <thead>\n",
       "    <tr style=\"text-align: right;\">\n",
       "      <th></th>\n",
       "      <th>date_block_num</th>\n",
       "      <th>item_id</th>\n",
       "      <th>item_price</th>\n",
       "      <th>item_cnt_day</th>\n",
       "      <th>total_items_for_price</th>\n",
       "      <th>total_items_date</th>\n",
       "      <th>weight</th>\n",
       "      <th>price_weighted</th>\n",
       "    </tr>\n",
       "  </thead>\n",
       "  <tbody>\n",
       "    <tr>\n",
       "      <th>0</th>\n",
       "      <td>0</td>\n",
       "      <td>19</td>\n",
       "      <td>28.0</td>\n",
       "      <td>1.0</td>\n",
       "      <td>1.0</td>\n",
       "      <td>1.0</td>\n",
       "      <td>1.000000</td>\n",
       "      <td>28.0</td>\n",
       "    </tr>\n",
       "    <tr>\n",
       "      <th>1</th>\n",
       "      <td>0</td>\n",
       "      <td>27</td>\n",
       "      <td>1890.0</td>\n",
       "      <td>1.0</td>\n",
       "      <td>2.0</td>\n",
       "      <td>7.0</td>\n",
       "      <td>0.285714</td>\n",
       "      <td>540.0</td>\n",
       "    </tr>\n",
       "    <tr>\n",
       "      <th>2</th>\n",
       "      <td>0</td>\n",
       "      <td>27</td>\n",
       "      <td>1890.0</td>\n",
       "      <td>1.0</td>\n",
       "      <td>2.0</td>\n",
       "      <td>7.0</td>\n",
       "      <td>0.285714</td>\n",
       "      <td>540.0</td>\n",
       "    </tr>\n",
       "    <tr>\n",
       "      <th>3</th>\n",
       "      <td>0</td>\n",
       "      <td>27</td>\n",
       "      <td>2499.0</td>\n",
       "      <td>1.0</td>\n",
       "      <td>5.0</td>\n",
       "      <td>7.0</td>\n",
       "      <td>0.714286</td>\n",
       "      <td>1785.0</td>\n",
       "    </tr>\n",
       "  </tbody>\n",
       "</table>\n",
       "</div>"
      ],
      "text/plain": [
       "   date_block_num  item_id  item_price  item_cnt_day  total_items_for_price  \\\n",
       "0               0       19        28.0           1.0                    1.0   \n",
       "1               0       27      1890.0           1.0                    2.0   \n",
       "2               0       27      1890.0           1.0                    2.0   \n",
       "3               0       27      2499.0           1.0                    5.0   \n",
       "\n",
       "   total_items_date    weight  price_weighted  \n",
       "0               1.0  1.000000            28.0  \n",
       "1               7.0  0.285714           540.0  \n",
       "2               7.0  0.285714           540.0  \n",
       "3               7.0  0.714286          1785.0  "
      ]
     },
     "execution_count": 86,
     "metadata": {},
     "output_type": "execute_result"
    }
   ],
   "source": [
    "price.head(4)"
   ]
  },
  {
   "cell_type": "code",
   "execution_count": 87,
   "metadata": {},
   "outputs": [],
   "source": [
    "grouped = price[['date_block_num', 'item_id', 'price_weighted']].drop_duplicates()\n",
    "grouped = grouped.groupby(['date_block_num', 'item_id'])['price_weighted'].sum()  # return a series\n",
    "grouped = pd.DataFrame(grouped).reset_index()"
   ]
  },
  {
   "cell_type": "code",
   "execution_count": 88,
   "metadata": {},
   "outputs": [],
   "source": [
    "all_data = all_data.merge(grouped, how = 'left', on = ['date_block_num', 'item_id'])"
   ]
  },
  {
   "cell_type": "markdown",
   "metadata": {},
   "source": [
    "Check for missing weighted price"
   ]
  },
  {
   "cell_type": "code",
   "execution_count": 89,
   "metadata": {},
   "outputs": [
    {
     "data": {
      "text/plain": [
       "price_weighted    0\n",
       "dtype: int64"
      ]
     },
     "execution_count": 89,
     "metadata": {},
     "output_type": "execute_result"
    }
   ],
   "source": [
    "all_data[['price_weighted']].isnull().sum()"
   ]
  },
  {
   "cell_type": "markdown",
   "metadata": {},
   "source": [
    "The rows where nothing was sold will have missing weighted_price.  The strategy to fill the NA will be to \"forward fill\" in case there are any observations where no item was sold for the month, but the item was sold in previous months."
   ]
  },
  {
   "cell_type": "code",
   "execution_count": 90,
   "metadata": {},
   "outputs": [
    {
     "data": {
      "text/html": [
       "<div>\n",
       "<style scoped>\n",
       "    .dataframe tbody tr th:only-of-type {\n",
       "        vertical-align: middle;\n",
       "    }\n",
       "\n",
       "    .dataframe tbody tr th {\n",
       "        vertical-align: top;\n",
       "    }\n",
       "\n",
       "    .dataframe thead th {\n",
       "        text-align: right;\n",
       "    }\n",
       "</style>\n",
       "<table border=\"1\" class=\"dataframe\">\n",
       "  <thead>\n",
       "    <tr style=\"text-align: right;\">\n",
       "      <th></th>\n",
       "      <th>shop_id</th>\n",
       "      <th>item_id</th>\n",
       "      <th>date_block_num</th>\n",
       "      <th>target_item_cnt</th>\n",
       "      <th>yymm</th>\n",
       "      <th>month</th>\n",
       "      <th>year</th>\n",
       "      <th>set</th>\n",
       "      <th>num_Mon</th>\n",
       "      <th>num_Tues</th>\n",
       "      <th>...</th>\n",
       "      <th>item_category_id</th>\n",
       "      <th>item_category_name</th>\n",
       "      <th>shop_revenue</th>\n",
       "      <th>category_revenue</th>\n",
       "      <th>shop_item_cnt</th>\n",
       "      <th>category_item_cnt</th>\n",
       "      <th>month_item_cnt</th>\n",
       "      <th>cum_month_item_cnt</th>\n",
       "      <th>flag_newItem</th>\n",
       "      <th>price_weighted</th>\n",
       "    </tr>\n",
       "  </thead>\n",
       "  <tbody>\n",
       "  </tbody>\n",
       "</table>\n",
       "<p>0 rows × 28 columns</p>\n",
       "</div>"
      ],
      "text/plain": [
       "Empty DataFrame\n",
       "Columns: [shop_id, item_id, date_block_num, target_item_cnt, yymm, month, year, set, num_Mon, num_Tues, num_Wed, num_Thu, num_Fri, num_Sat, num_Sun, daysInMonth, shop_name, item_name, item_category_id, item_category_name, shop_revenue, category_revenue, shop_item_cnt, category_item_cnt, month_item_cnt, cum_month_item_cnt, flag_newItem, price_weighted]\n",
       "Index: []\n",
       "\n",
       "[0 rows x 28 columns]"
      ]
     },
     "execution_count": 90,
     "metadata": {},
     "output_type": "execute_result"
    }
   ],
   "source": [
    "missingIndex = all_data[all_data['price_weighted'].isnull()].index.values\n",
    "all_data.iloc[missingIndex][:3]"
   ]
  },
  {
   "cell_type": "markdown",
   "metadata": {},
   "source": [
    "Forward Fill"
   ]
  },
  {
   "cell_type": "code",
   "execution_count": 91,
   "metadata": {},
   "outputs": [],
   "source": [
    "#all_data['price_weighted'] = all_data.groupby(['date_block_num', 'item_id'])['price_weighted'].apply(lambda x: x.fillna(method='ffill'))"
   ]
  },
  {
   "cell_type": "markdown",
   "metadata": {},
   "source": [
    "It turns out that there aren't any observations that were forward filled.  The price wasn't there because the item was never sold before.  "
   ]
  },
  {
   "cell_type": "code",
   "execution_count": 92,
   "metadata": {},
   "outputs": [
    {
     "data": {
      "text/plain": [
       "price_weighted    0\n",
       "dtype: int64"
      ]
     },
     "execution_count": 92,
     "metadata": {},
     "output_type": "execute_result"
    }
   ],
   "source": [
    "all_data[['price_weighted']].isnull().sum()"
   ]
  },
  {
   "cell_type": "code",
   "execution_count": 93,
   "metadata": {},
   "outputs": [],
   "source": [
    "#all_data.to_pickle('data_8')"
   ]
  },
  {
   "cell_type": "markdown",
   "metadata": {},
   "source": [
    "#### feature: average price for the [item_id, date_block_num]"
   ]
  },
  {
   "cell_type": "code",
   "execution_count": 94,
   "metadata": {},
   "outputs": [],
   "source": [
    "# all_data = pd.read_pickle('data_8')"
   ]
  },
  {
   "cell_type": "code",
   "execution_count": 95,
   "metadata": {},
   "outputs": [],
   "source": [
    "price = data[['date_block_num', 'item_id', 'item_price']]"
   ]
  },
  {
   "cell_type": "code",
   "execution_count": 96,
   "metadata": {},
   "outputs": [],
   "source": [
    "price = price.sort_values(['date_block_num', 'item_id']).drop_duplicates().reset_index(drop = True)"
   ]
  },
  {
   "cell_type": "code",
   "execution_count": 97,
   "metadata": {},
   "outputs": [
    {
     "data": {
      "text/html": [
       "<div>\n",
       "<style scoped>\n",
       "    .dataframe tbody tr th:only-of-type {\n",
       "        vertical-align: middle;\n",
       "    }\n",
       "\n",
       "    .dataframe tbody tr th {\n",
       "        vertical-align: top;\n",
       "    }\n",
       "\n",
       "    .dataframe thead th {\n",
       "        text-align: right;\n",
       "    }\n",
       "</style>\n",
       "<table border=\"1\" class=\"dataframe\">\n",
       "  <thead>\n",
       "    <tr style=\"text-align: right;\">\n",
       "      <th></th>\n",
       "      <th></th>\n",
       "      <th>mean</th>\n",
       "      <th>median</th>\n",
       "      <th>min</th>\n",
       "      <th>max</th>\n",
       "      <th>std</th>\n",
       "    </tr>\n",
       "    <tr>\n",
       "      <th>date_block_num</th>\n",
       "      <th>item_id</th>\n",
       "      <th></th>\n",
       "      <th></th>\n",
       "      <th></th>\n",
       "      <th></th>\n",
       "      <th></th>\n",
       "    </tr>\n",
       "  </thead>\n",
       "  <tbody>\n",
       "    <tr>\n",
       "      <th>0</th>\n",
       "      <th>19</th>\n",
       "      <td>28.0</td>\n",
       "      <td>28.0</td>\n",
       "      <td>28.0</td>\n",
       "      <td>28.0</td>\n",
       "      <td>NaN</td>\n",
       "    </tr>\n",
       "  </tbody>\n",
       "</table>\n",
       "</div>"
      ],
      "text/plain": [
       "                        mean  median   min   max  std\n",
       "date_block_num item_id                               \n",
       "0              19       28.0    28.0  28.0  28.0  NaN"
      ]
     },
     "execution_count": 97,
     "metadata": {},
     "output_type": "execute_result"
    }
   ],
   "source": [
    "grouped = price.groupby(['date_block_num', 'item_id']).agg({'item_price': ['mean', 'median', min, max, 'std']})\n",
    "grouped.columns = grouped.columns.droplevel(level=0)\n",
    "grouped.head(1)"
   ]
  },
  {
   "cell_type": "markdown",
   "metadata": {},
   "source": [
    "Rename columns"
   ]
  },
  {
   "cell_type": "code",
   "execution_count": 98,
   "metadata": {},
   "outputs": [
    {
     "data": {
      "text/html": [
       "<div>\n",
       "<style scoped>\n",
       "    .dataframe tbody tr th:only-of-type {\n",
       "        vertical-align: middle;\n",
       "    }\n",
       "\n",
       "    .dataframe tbody tr th {\n",
       "        vertical-align: top;\n",
       "    }\n",
       "\n",
       "    .dataframe thead th {\n",
       "        text-align: right;\n",
       "    }\n",
       "</style>\n",
       "<table border=\"1\" class=\"dataframe\">\n",
       "  <thead>\n",
       "    <tr style=\"text-align: right;\">\n",
       "      <th></th>\n",
       "      <th>date_block_num</th>\n",
       "      <th>item_id</th>\n",
       "      <th>price_mean</th>\n",
       "      <th>price_median</th>\n",
       "      <th>price_min</th>\n",
       "      <th>price_max</th>\n",
       "      <th>price_std</th>\n",
       "    </tr>\n",
       "  </thead>\n",
       "  <tbody>\n",
       "    <tr>\n",
       "      <th>0</th>\n",
       "      <td>0</td>\n",
       "      <td>19</td>\n",
       "      <td>28.0</td>\n",
       "      <td>28.0</td>\n",
       "      <td>28.0</td>\n",
       "      <td>28.0</td>\n",
       "      <td>NaN</td>\n",
       "    </tr>\n",
       "  </tbody>\n",
       "</table>\n",
       "</div>"
      ],
      "text/plain": [
       "   date_block_num  item_id  price_mean  price_median  price_min  price_max  \\\n",
       "0               0       19        28.0          28.0       28.0       28.0   \n",
       "\n",
       "   price_std  \n",
       "0        NaN  "
      ]
     },
     "execution_count": 98,
     "metadata": {},
     "output_type": "execute_result"
    }
   ],
   "source": [
    "cols_to_rename = list(grouped.columns)\n",
    "aggVar = 'price'\n",
    "rename_func_output = lambda x: '{}_{}'.format(aggVar, x) if x in cols_to_rename else x\n",
    "grouped = grouped.rename(columns = rename_func_output)\n",
    "grouped = grouped.reset_index(drop = False)\n",
    "grouped.head(1)"
   ]
  },
  {
   "cell_type": "code",
   "execution_count": 99,
   "metadata": {},
   "outputs": [],
   "source": [
    "all_data = all_data.merge(grouped, how = 'left', on = ['date_block_num', 'item_id'])"
   ]
  },
  {
   "cell_type": "code",
   "execution_count": 100,
   "metadata": {},
   "outputs": [],
   "source": [
    "#all_data.to_pickle('data_9')"
   ]
  },
  {
   "cell_type": "markdown",
   "metadata": {},
   "source": [
    "#### feature: average price for the [item_id, date_block_num, store_id]"
   ]
  },
  {
   "cell_type": "code",
   "execution_count": 101,
   "metadata": {},
   "outputs": [],
   "source": [
    "# all_data = pd.read_pickle('data_9')"
   ]
  },
  {
   "cell_type": "code",
   "execution_count": 102,
   "metadata": {},
   "outputs": [
    {
     "name": "stdout",
     "output_type": "stream",
     "text": [
      "MultiIndex(levels=[['item_price', 'item_id', 'shop_id', 'date_block_num'], ['mean', '']],\n",
      "           labels=[[3, 2, 1, 0], [1, 1, 1, 0]])\n"
     ]
    }
   ],
   "source": [
    "price = data[['date_block_num', 'shop_id', 'item_id', 'item_price']]\n",
    "index_cols = ['date_block_num', 'shop_id', 'item_id']\n",
    "price = price.sort_values(index_cols).drop_duplicates().reset_index(drop = True)\n",
    "grouped = price.groupby(index_cols, as_index = False).agg({'item_price': ['mean']})\n",
    "print(grouped.columns)"
   ]
  },
  {
   "cell_type": "markdown",
   "metadata": {},
   "source": [
    "Rename columns for MultiIndex levels (multi index)"
   ]
  },
  {
   "cell_type": "code",
   "execution_count": 103,
   "metadata": {},
   "outputs": [],
   "source": [
    "grouped.columns = [col[0] if col[-1]=='' else 'price_mean_shop' for col in grouped.columns.values] "
   ]
  },
  {
   "cell_type": "code",
   "execution_count": 104,
   "metadata": {},
   "outputs": [
    {
     "data": {
      "text/html": [
       "<div>\n",
       "<style scoped>\n",
       "    .dataframe tbody tr th:only-of-type {\n",
       "        vertical-align: middle;\n",
       "    }\n",
       "\n",
       "    .dataframe tbody tr th {\n",
       "        vertical-align: top;\n",
       "    }\n",
       "\n",
       "    .dataframe thead th {\n",
       "        text-align: right;\n",
       "    }\n",
       "</style>\n",
       "<table border=\"1\" class=\"dataframe\">\n",
       "  <thead>\n",
       "    <tr style=\"text-align: right;\">\n",
       "      <th></th>\n",
       "      <th>date_block_num</th>\n",
       "      <th>shop_id</th>\n",
       "      <th>item_id</th>\n",
       "      <th>price_mean_shop</th>\n",
       "    </tr>\n",
       "  </thead>\n",
       "  <tbody>\n",
       "    <tr>\n",
       "      <th>0</th>\n",
       "      <td>0</td>\n",
       "      <td>0</td>\n",
       "      <td>32</td>\n",
       "      <td>221.0</td>\n",
       "    </tr>\n",
       "    <tr>\n",
       "      <th>1</th>\n",
       "      <td>0</td>\n",
       "      <td>0</td>\n",
       "      <td>33</td>\n",
       "      <td>347.0</td>\n",
       "    </tr>\n",
       "    <tr>\n",
       "      <th>2</th>\n",
       "      <td>0</td>\n",
       "      <td>0</td>\n",
       "      <td>35</td>\n",
       "      <td>247.0</td>\n",
       "    </tr>\n",
       "  </tbody>\n",
       "</table>\n",
       "</div>"
      ],
      "text/plain": [
       "   date_block_num  shop_id  item_id  price_mean_shop\n",
       "0               0        0       32            221.0\n",
       "1               0        0       33            347.0\n",
       "2               0        0       35            247.0"
      ]
     },
     "execution_count": 104,
     "metadata": {},
     "output_type": "execute_result"
    }
   ],
   "source": [
    "grouped.head(3)"
   ]
  },
  {
   "cell_type": "code",
   "execution_count": 105,
   "metadata": {},
   "outputs": [],
   "source": [
    "all_data = all_data.merge(grouped, how = 'left', on = index_cols)"
   ]
  },
  {
   "cell_type": "code",
   "execution_count": 106,
   "metadata": {},
   "outputs": [
    {
     "data": {
      "text/plain": [
       "price_mean_shop    9518881\n",
       "dtype: int64"
      ]
     },
     "execution_count": 106,
     "metadata": {},
     "output_type": "execute_result"
    }
   ],
   "source": [
    "all_data[['price_mean_shop']].isnull().sum()"
   ]
  },
  {
   "cell_type": "markdown",
   "metadata": {},
   "source": [
    "Forward fill the data takes too long. Fill NA instead by mean price of the item regardless of shop_id.    "
   ]
  },
  {
   "cell_type": "code",
   "execution_count": 107,
   "metadata": {},
   "outputs": [],
   "source": [
    "# all_data['price_mean_shop'] = all_data.groupby(index_cols)['price_mean_shop'].ffill()\n",
    "# This takes too long"
   ]
  },
  {
   "cell_type": "code",
   "execution_count": 108,
   "metadata": {},
   "outputs": [],
   "source": [
    "# all_data['price_mean_shop'] = all_data['price_mean_shop'].fillna(all_data.groupby(['shop_id', 'item_id'])['price_mean_shop'].transform('mean'))\n",
    "# This method suffers from look ahead bias.  "
   ]
  },
  {
   "cell_type": "code",
   "execution_count": 109,
   "metadata": {},
   "outputs": [],
   "source": [
    "all_data['price_mean_shop'] = all_data['price_mean_shop'].fillna(all_data['price_mean'])"
   ]
  },
  {
   "cell_type": "code",
   "execution_count": 110,
   "metadata": {},
   "outputs": [
    {
     "data": {
      "text/plain": [
       "price_mean_shop    214200\n",
       "dtype: int64"
      ]
     },
     "execution_count": 110,
     "metadata": {},
     "output_type": "execute_result"
    }
   ],
   "source": [
    "all_data[['price_mean_shop']].isnull().sum()"
   ]
  },
  {
   "cell_type": "code",
   "execution_count": 111,
   "metadata": {},
   "outputs": [],
   "source": [
    "#all_data.to_pickle('data_10')"
   ]
  },
  {
   "cell_type": "markdown",
   "metadata": {},
   "source": [
    "### Features: Rank Encodings"
   ]
  },
  {
   "cell_type": "markdown",
   "metadata": {},
   "source": [
    "#### feature: rank of category_revenue groupby ['date_block_num', 'shop_id']"
   ]
  },
  {
   "cell_type": "code",
   "execution_count": 112,
   "metadata": {},
   "outputs": [],
   "source": [
    "# all_data = pd.read_pickle('data_10')"
   ]
  },
  {
   "cell_type": "markdown",
   "metadata": {},
   "source": [
    "Calculate category_revenue rank"
   ]
  },
  {
   "cell_type": "code",
   "execution_count": 113,
   "metadata": {},
   "outputs": [],
   "source": [
    "index_cols = ['shop_id', 'date_block_num', 'item_category_id','category_revenue']\n",
    "summary = all_data[index_cols].drop_duplicates()"
   ]
  },
  {
   "cell_type": "code",
   "execution_count": 114,
   "metadata": {},
   "outputs": [
    {
     "data": {
      "text/html": [
       "<div>\n",
       "<style scoped>\n",
       "    .dataframe tbody tr th:only-of-type {\n",
       "        vertical-align: middle;\n",
       "    }\n",
       "\n",
       "    .dataframe tbody tr th {\n",
       "        vertical-align: top;\n",
       "    }\n",
       "\n",
       "    .dataframe thead th {\n",
       "        text-align: right;\n",
       "    }\n",
       "</style>\n",
       "<table border=\"1\" class=\"dataframe\">\n",
       "  <thead>\n",
       "    <tr style=\"text-align: right;\">\n",
       "      <th></th>\n",
       "      <th>shop_id</th>\n",
       "      <th>date_block_num</th>\n",
       "      <th>item_category_id</th>\n",
       "      <th>category_revenue</th>\n",
       "      <th>rank_cat_revenue</th>\n",
       "    </tr>\n",
       "  </thead>\n",
       "  <tbody>\n",
       "    <tr>\n",
       "      <th>0</th>\n",
       "      <td>0</td>\n",
       "      <td>0</td>\n",
       "      <td>40</td>\n",
       "      <td>308301.0</td>\n",
       "      <td>4.0</td>\n",
       "    </tr>\n",
       "    <tr>\n",
       "      <th>1</th>\n",
       "      <td>0</td>\n",
       "      <td>0</td>\n",
       "      <td>19</td>\n",
       "      <td>448223.0</td>\n",
       "      <td>1.0</td>\n",
       "    </tr>\n",
       "    <tr>\n",
       "      <th>2</th>\n",
       "      <td>0</td>\n",
       "      <td>0</td>\n",
       "      <td>30</td>\n",
       "      <td>186263.0</td>\n",
       "      <td>6.0</td>\n",
       "    </tr>\n",
       "  </tbody>\n",
       "</table>\n",
       "</div>"
      ],
      "text/plain": [
       "   shop_id  date_block_num  item_category_id  category_revenue  \\\n",
       "0        0               0                40          308301.0   \n",
       "1        0               0                19          448223.0   \n",
       "2        0               0                30          186263.0   \n",
       "\n",
       "   rank_cat_revenue  \n",
       "0               4.0  \n",
       "1               1.0  \n",
       "2               6.0  "
      ]
     },
     "execution_count": 114,
     "metadata": {},
     "output_type": "execute_result"
    }
   ],
   "source": [
    "index_cols = ['shop_id', 'date_block_num']\n",
    "summary['rank_cat_revenue'] = summary.groupby(index_cols)['category_revenue'].rank(ascending = False)\n",
    "summary.head(3)"
   ]
  },
  {
   "cell_type": "code",
   "execution_count": 115,
   "metadata": {},
   "outputs": [],
   "source": [
    "index_cols = ['shop_id', 'date_block_num', 'item_category_id','category_revenue']\n",
    "all_data = all_data.merge(summary, how = 'left', on = index_cols)"
   ]
  },
  {
   "cell_type": "markdown",
   "metadata": {},
   "source": [
    "#### feature: rank of shop_id by the # of items sold for the date_block_num"
   ]
  },
  {
   "cell_type": "code",
   "execution_count": 116,
   "metadata": {},
   "outputs": [
    {
     "data": {
      "text/html": [
       "<div>\n",
       "<style scoped>\n",
       "    .dataframe tbody tr th:only-of-type {\n",
       "        vertical-align: middle;\n",
       "    }\n",
       "\n",
       "    .dataframe tbody tr th {\n",
       "        vertical-align: top;\n",
       "    }\n",
       "\n",
       "    .dataframe thead th {\n",
       "        text-align: right;\n",
       "    }\n",
       "</style>\n",
       "<table border=\"1\" class=\"dataframe\">\n",
       "  <thead>\n",
       "    <tr style=\"text-align: right;\">\n",
       "      <th></th>\n",
       "      <th>shop_id</th>\n",
       "      <th>date_block_num</th>\n",
       "      <th>shop_item_cnt</th>\n",
       "      <th>rank_shop_item_cnt</th>\n",
       "    </tr>\n",
       "  </thead>\n",
       "  <tbody>\n",
       "    <tr>\n",
       "      <th>0</th>\n",
       "      <td>0</td>\n",
       "      <td>0</td>\n",
       "      <td>5578.0</td>\n",
       "      <td>5.0</td>\n",
       "    </tr>\n",
       "    <tr>\n",
       "      <th>8115</th>\n",
       "      <td>1</td>\n",
       "      <td>0</td>\n",
       "      <td>2947.0</td>\n",
       "      <td>15.0</td>\n",
       "    </tr>\n",
       "    <tr>\n",
       "      <th>16230</th>\n",
       "      <td>2</td>\n",
       "      <td>0</td>\n",
       "      <td>1151.0</td>\n",
       "      <td>42.0</td>\n",
       "    </tr>\n",
       "  </tbody>\n",
       "</table>\n",
       "</div>"
      ],
      "text/plain": [
       "       shop_id  date_block_num  shop_item_cnt  rank_shop_item_cnt\n",
       "0            0               0         5578.0                 5.0\n",
       "8115         1               0         2947.0                15.0\n",
       "16230        2               0         1151.0                42.0"
      ]
     },
     "execution_count": 116,
     "metadata": {},
     "output_type": "execute_result"
    }
   ],
   "source": [
    "index_cols = ['shop_id', 'date_block_num', 'shop_item_cnt']\n",
    "summary = all_data[index_cols].drop_duplicates()\n",
    "index_cols = ['date_block_num']\n",
    "summary['rank_shop_item_cnt'] = summary.groupby(index_cols)['shop_item_cnt'].rank(ascending = False)\n",
    "summary.head(3)"
   ]
  },
  {
   "cell_type": "code",
   "execution_count": 117,
   "metadata": {},
   "outputs": [],
   "source": [
    "index_cols = ['shop_id', 'date_block_num', 'shop_item_cnt']\n",
    "all_data = all_data.merge(summary, how = 'left', on = index_cols)"
   ]
  },
  {
   "cell_type": "markdown",
   "metadata": {},
   "source": [
    "#### feature:  rank of shop_id by the shop revenuefor the date_block_num"
   ]
  },
  {
   "cell_type": "code",
   "execution_count": 118,
   "metadata": {},
   "outputs": [
    {
     "data": {
      "text/html": [
       "<div>\n",
       "<style scoped>\n",
       "    .dataframe tbody tr th:only-of-type {\n",
       "        vertical-align: middle;\n",
       "    }\n",
       "\n",
       "    .dataframe tbody tr th {\n",
       "        vertical-align: top;\n",
       "    }\n",
       "\n",
       "    .dataframe thead th {\n",
       "        text-align: right;\n",
       "    }\n",
       "</style>\n",
       "<table border=\"1\" class=\"dataframe\">\n",
       "  <thead>\n",
       "    <tr style=\"text-align: right;\">\n",
       "      <th></th>\n",
       "      <th>shop_id</th>\n",
       "      <th>date_block_num</th>\n",
       "      <th>shop_revenue</th>\n",
       "      <th>rank_shop_revenue</th>\n",
       "    </tr>\n",
       "  </thead>\n",
       "  <tbody>\n",
       "    <tr>\n",
       "      <th>0</th>\n",
       "      <td>0</td>\n",
       "      <td>0</td>\n",
       "      <td>2966412.0</td>\n",
       "      <td>8.0</td>\n",
       "    </tr>\n",
       "    <tr>\n",
       "      <th>8115</th>\n",
       "      <td>1</td>\n",
       "      <td>0</td>\n",
       "      <td>1527320.0</td>\n",
       "      <td>26.0</td>\n",
       "    </tr>\n",
       "    <tr>\n",
       "      <th>16230</th>\n",
       "      <td>2</td>\n",
       "      <td>0</td>\n",
       "      <td>1091137.0</td>\n",
       "      <td>36.0</td>\n",
       "    </tr>\n",
       "  </tbody>\n",
       "</table>\n",
       "</div>"
      ],
      "text/plain": [
       "       shop_id  date_block_num  shop_revenue  rank_shop_revenue\n",
       "0            0               0     2966412.0                8.0\n",
       "8115         1               0     1527320.0               26.0\n",
       "16230        2               0     1091137.0               36.0"
      ]
     },
     "execution_count": 118,
     "metadata": {},
     "output_type": "execute_result"
    }
   ],
   "source": [
    "index_cols = ['shop_id', 'date_block_num', 'shop_revenue']\n",
    "summary = all_data[index_cols].drop_duplicates()\n",
    "index_cols = ['date_block_num']\n",
    "summary['rank_shop_revenue'] = summary.groupby(index_cols)['shop_revenue'].rank(ascending = False)\n",
    "summary.head(3)"
   ]
  },
  {
   "cell_type": "code",
   "execution_count": 119,
   "metadata": {},
   "outputs": [],
   "source": [
    "index_cols = ['shop_id', 'date_block_num', 'shop_revenue']\n",
    "all_data = all_data.merge(summary, how = 'left', on = index_cols)"
   ]
  },
  {
   "cell_type": "code",
   "execution_count": 120,
   "metadata": {},
   "outputs": [],
   "source": [
    "#all_data.to_pickle('data_11')"
   ]
  },
  {
   "cell_type": "markdown",
   "metadata": {},
   "source": [
    "### Features: Interactions"
   ]
  },
  {
   "cell_type": "code",
   "execution_count": 121,
   "metadata": {},
   "outputs": [],
   "source": [
    "#all_data = pd.read_pickle('data_11')"
   ]
  },
  {
   "cell_type": "markdown",
   "metadata": {},
   "source": [
    "#### feature: Price - price specific to a store relative to prices in all the stores "
   ]
  },
  {
   "cell_type": "code",
   "execution_count": 122,
   "metadata": {},
   "outputs": [],
   "source": [
    "prices = [ 'price_weighted', 'price_mean', 'price_median', 'price_min','price_max']\n",
    "for p in prices:\n",
    "    newName = p + '_diff'\n",
    "    all_data[newName] = all_data['price_mean_shop'] - all_data[p]   "
   ]
  },
  {
   "cell_type": "code",
   "execution_count": 123,
   "metadata": {},
   "outputs": [],
   "source": [
    "prices = ['price_weighted_diff', 'price_mean_diff','price_median_diff', 'price_min_diff', 'price_max_diff']\n",
    "for p in prices:\n",
    "    newName = p + '_std'\n",
    "    all_data[newName] = all_data[p]/all_data['price_std']"
   ]
  },
  {
   "cell_type": "markdown",
   "metadata": {},
   "source": [
    "#### feature: Revenue - percent of revenue from the category specific to a shop"
   ]
  },
  {
   "cell_type": "code",
   "execution_count": 124,
   "metadata": {},
   "outputs": [],
   "source": [
    "all_data['category_revenue_pct'] = all_data['category_revenue'] / all_data['shop_revenue']"
   ]
  },
  {
   "cell_type": "markdown",
   "metadata": {},
   "source": [
    "#### feature: Item Counts"
   ]
  },
  {
   "cell_type": "markdown",
   "metadata": {},
   "source": [
    "The percentage of the specific item sold by a shop_id in a month relative to <br>\n",
    "1. total items sold by the shop in a month <br>\n",
    "2. total items sold by the shop in a month for the 'category' of the specific item <br>\n",
    "3. total items sold for the specific 'item' in a month by ALL the shops <br>\n",
    "4. total items sold for the specific 'item' by ALL the shops cumulatively <br>"
   ]
  },
  {
   "cell_type": "code",
   "execution_count": 125,
   "metadata": {},
   "outputs": [],
   "source": [
    "item_counts = ['shop_item_cnt','category_item_cnt', 'month_item_cnt', 'cum_month_item_cnt']\n",
    "for i in item_counts:\n",
    "    newName = 'item_cnt_pct_' + i\n",
    "    all_data[newName] = all_data['target_item_cnt']/ all_data[i]"
   ]
  },
  {
   "cell_type": "markdown",
   "metadata": {},
   "source": [
    "The percentage of items in specific category relative to all items sold by the shop"
   ]
  },
  {
   "cell_type": "code",
   "execution_count": 126,
   "metadata": {},
   "outputs": [],
   "source": [
    "all_data['category_pct_shop_item_cnt'] = all_data['category_item_cnt']/all_data['shop_item_cnt']"
   ]
  },
  {
   "cell_type": "markdown",
   "metadata": {},
   "source": [
    "The percentage of the specific item sold by ALL shops relative to the cumulative count of the specific item sold"
   ]
  },
  {
   "cell_type": "code",
   "execution_count": 127,
   "metadata": {},
   "outputs": [],
   "source": [
    "all_data['month_item_pct_cum_cnt'] = all_data['month_item_cnt']/all_data['cum_month_item_cnt']"
   ]
  },
  {
   "cell_type": "code",
   "execution_count": 128,
   "metadata": {},
   "outputs": [],
   "source": [
    "#all_data.to_pickle('data_12')"
   ]
  },
  {
   "cell_type": "markdown",
   "metadata": {},
   "source": [
    "### Features: Lags"
   ]
  },
  {
   "cell_type": "code",
   "execution_count": 129,
   "metadata": {},
   "outputs": [],
   "source": [
    "# all_data = pd.read_pickle('data_12')"
   ]
  },
  {
   "cell_type": "markdown",
   "metadata": {},
   "source": [
    "#### feature: obtain lag_1 and lag_2 for numeric fields"
   ]
  },
  {
   "cell_type": "code",
   "execution_count": 130,
   "metadata": {},
   "outputs": [],
   "source": [
    "index_cols = ['shop_id', 'item_id', 'date_block_num']\n",
    "categorical_cols = ['yymm', 'month', 'year', 'set', 'num_Mon', 'num_Tues', 'num_Wed', 'num_Thu',\\\n",
    "                    'num_Fri', 'num_Sat', 'num_Sun', 'daysInMonth', 'shop_name',\\\n",
    "                    'item_name', 'item_category_id', 'item_category_name', 'flag_newItem']\n",
    "numeric_cols = list(all_data.columns.difference(index_cols + categorical_cols)) "
   ]
  },
  {
   "cell_type": "code",
   "execution_count": 131,
   "metadata": {},
   "outputs": [],
   "source": [
    "shift_range = [1, 2]\n",
    "\n",
    "for month_shift in shift_range:\n",
    "    train_shift = all_data[index_cols + numeric_cols].copy()\n",
    "    \n",
    "    train_shift['date_block_num'] = train_shift['date_block_num'] + month_shift\n",
    "    \n",
    "    newNames = lambda x: '{}_lag_{}'.format(x, month_shift) if x in numeric_cols else x # Rename columns to target_lag_1  target_item_lag_1 target_shop_lag_1\n",
    "    train_shift = train_shift.rename(columns = newNames)\n",
    "\n",
    "    all_data = pd.merge(all_data, train_shift, on=index_cols, how='left').fillna(0)  # index columns:  ['shop_id', 'item_id', 'date_block_num']"
   ]
  },
  {
   "cell_type": "code",
   "execution_count": 132,
   "metadata": {},
   "outputs": [
    {
     "data": {
      "text/plain": [
       "181"
      ]
     },
     "execution_count": 132,
     "metadata": {},
     "output_type": "execute_result"
    }
   ],
   "source": [
    "del train_shift\n",
    "gc.collect()"
   ]
  },
  {
   "cell_type": "markdown",
   "metadata": {},
   "source": [
    "#### feature: difference between lag_1 - lag_2"
   ]
  },
  {
   "cell_type": "code",
   "execution_count": 133,
   "metadata": {},
   "outputs": [],
   "source": [
    "for cols in numeric_cols: \n",
    "    newName = cols + '_1m_diff'\n",
    "    all_data[newName] = all_data[cols + '_lag_1'] - all_data[cols + '_lag_2']"
   ]
  },
  {
   "cell_type": "markdown",
   "metadata": {},
   "source": [
    "Verify output to check for accuracy"
   ]
  },
  {
   "cell_type": "code",
   "execution_count": 134,
   "metadata": {},
   "outputs": [
    {
     "data": {
      "text/html": [
       "<div>\n",
       "<style scoped>\n",
       "    .dataframe tbody tr th:only-of-type {\n",
       "        vertical-align: middle;\n",
       "    }\n",
       "\n",
       "    .dataframe tbody tr th {\n",
       "        vertical-align: top;\n",
       "    }\n",
       "\n",
       "    .dataframe thead th {\n",
       "        text-align: right;\n",
       "    }\n",
       "</style>\n",
       "<table border=\"1\" class=\"dataframe\">\n",
       "  <thead>\n",
       "    <tr style=\"text-align: right;\">\n",
       "      <th></th>\n",
       "      <th>target_item_cnt</th>\n",
       "      <th>target_item_cnt_lag_1</th>\n",
       "      <th>target_item_cnt_lag_2</th>\n",
       "      <th>target_item_cnt_1m_diff</th>\n",
       "      <th>date_block_num</th>\n",
       "      <th>shop_id</th>\n",
       "      <th>item_id</th>\n",
       "    </tr>\n",
       "  </thead>\n",
       "  <tbody>\n",
       "    <tr>\n",
       "      <th>404409</th>\n",
       "      <td>8.0</td>\n",
       "      <td>20.0</td>\n",
       "      <td>0.0</td>\n",
       "      <td>20.0</td>\n",
       "      <td>1</td>\n",
       "      <td>4</td>\n",
       "      <td>17717</td>\n",
       "    </tr>\n",
       "    <tr>\n",
       "      <th>764156</th>\n",
       "      <td>5.0</td>\n",
       "      <td>8.0</td>\n",
       "      <td>20.0</td>\n",
       "      <td>-12.0</td>\n",
       "      <td>2</td>\n",
       "      <td>4</td>\n",
       "      <td>17717</td>\n",
       "    </tr>\n",
       "    <tr>\n",
       "      <th>1145566</th>\n",
       "      <td>0.0</td>\n",
       "      <td>5.0</td>\n",
       "      <td>8.0</td>\n",
       "      <td>-3.0</td>\n",
       "      <td>3</td>\n",
       "      <td>4</td>\n",
       "      <td>17717</td>\n",
       "    </tr>\n",
       "    <tr>\n",
       "      <th>1520824</th>\n",
       "      <td>0.0</td>\n",
       "      <td>0.0</td>\n",
       "      <td>5.0</td>\n",
       "      <td>-5.0</td>\n",
       "      <td>4</td>\n",
       "      <td>4</td>\n",
       "      <td>17717</td>\n",
       "    </tr>\n",
       "    <tr>\n",
       "      <th>1896504</th>\n",
       "      <td>0.0</td>\n",
       "      <td>0.0</td>\n",
       "      <td>0.0</td>\n",
       "      <td>0.0</td>\n",
       "      <td>5</td>\n",
       "      <td>4</td>\n",
       "      <td>17717</td>\n",
       "    </tr>\n",
       "    <tr>\n",
       "      <th>2286293</th>\n",
       "      <td>9.0</td>\n",
       "      <td>0.0</td>\n",
       "      <td>0.0</td>\n",
       "      <td>0.0</td>\n",
       "      <td>6</td>\n",
       "      <td>4</td>\n",
       "      <td>17717</td>\n",
       "    </tr>\n",
       "    <tr>\n",
       "      <th>2671831</th>\n",
       "      <td>1.0</td>\n",
       "      <td>9.0</td>\n",
       "      <td>0.0</td>\n",
       "      <td>9.0</td>\n",
       "      <td>7</td>\n",
       "      <td>4</td>\n",
       "      <td>17717</td>\n",
       "    </tr>\n",
       "    <tr>\n",
       "      <th>3032824</th>\n",
       "      <td>4.0</td>\n",
       "      <td>1.0</td>\n",
       "      <td>9.0</td>\n",
       "      <td>-8.0</td>\n",
       "      <td>8</td>\n",
       "      <td>4</td>\n",
       "      <td>17717</td>\n",
       "    </tr>\n",
       "    <tr>\n",
       "      <th>3387573</th>\n",
       "      <td>5.0</td>\n",
       "      <td>4.0</td>\n",
       "      <td>1.0</td>\n",
       "      <td>3.0</td>\n",
       "      <td>9</td>\n",
       "      <td>4</td>\n",
       "      <td>17717</td>\n",
       "    </tr>\n",
       "  </tbody>\n",
       "</table>\n",
       "</div>"
      ],
      "text/plain": [
       "         target_item_cnt  target_item_cnt_lag_1  target_item_cnt_lag_2  \\\n",
       "404409               8.0                   20.0                    0.0   \n",
       "764156               5.0                    8.0                   20.0   \n",
       "1145566              0.0                    5.0                    8.0   \n",
       "1520824              0.0                    0.0                    5.0   \n",
       "1896504              0.0                    0.0                    0.0   \n",
       "2286293              9.0                    0.0                    0.0   \n",
       "2671831              1.0                    9.0                    0.0   \n",
       "3032824              4.0                    1.0                    9.0   \n",
       "3387573              5.0                    4.0                    1.0   \n",
       "\n",
       "         target_item_cnt_1m_diff  date_block_num  shop_id  item_id  \n",
       "404409                      20.0               1        4    17717  \n",
       "764156                     -12.0               2        4    17717  \n",
       "1145566                     -3.0               3        4    17717  \n",
       "1520824                     -5.0               4        4    17717  \n",
       "1896504                      0.0               5        4    17717  \n",
       "2286293                      0.0               6        4    17717  \n",
       "2671831                      9.0               7        4    17717  \n",
       "3032824                     -8.0               8        4    17717  \n",
       "3387573                      3.0               9        4    17717  "
      ]
     },
     "execution_count": 134,
     "metadata": {},
     "output_type": "execute_result"
    }
   ],
   "source": [
    "cols = [col for col in all_data.columns if 'target_item_cnt' in col]\n",
    "cols = cols + list(['date_block_num', 'shop_id', 'item_id'])\n",
    "all_data[(all_data.shop_id == 4) & (all_data.item_id == 17717)][cols][1:10]"
   ]
  },
  {
   "cell_type": "markdown",
   "metadata": {},
   "source": [
    "#### feature: more lags for target_item_cnt"
   ]
  },
  {
   "cell_type": "code",
   "execution_count": 135,
   "metadata": {},
   "outputs": [],
   "source": [
    "index_cols = ['shop_id', 'item_id', 'date_block_num']\n",
    "numeric_cols =  ['target_item_cnt']"
   ]
  },
  {
   "cell_type": "code",
   "execution_count": 136,
   "metadata": {},
   "outputs": [],
   "source": [
    "shift_range = [3, 12]\n",
    "\n",
    "for month_shift in shift_range:\n",
    "    train_shift = all_data[index_cols + numeric_cols].copy()\n",
    "    \n",
    "    train_shift['date_block_num'] = train_shift['date_block_num'] + month_shift\n",
    "    \n",
    "    newNames = lambda x: '{}_lag_{}'.format(x, month_shift) if x in numeric_cols else x \n",
    "    train_shift = train_shift.rename(columns = newNames)\n",
    "\n",
    "    all_data = pd.merge(all_data, train_shift, on=index_cols, how='left').fillna(0)  # index columns:  ['shop_id', 'item_id', 'date_block_num']"
   ]
  },
  {
   "cell_type": "code",
   "execution_count": 137,
   "metadata": {},
   "outputs": [],
   "source": [
    "all_data['target_item_cnt_mean_3m'] = all_data[['target_item_cnt_lag_1', 'target_item_cnt_lag_2','target_item_cnt_lag_3']].mean(axis = 1).fillna(0)"
   ]
  },
  {
   "cell_type": "code",
   "execution_count": 138,
   "metadata": {},
   "outputs": [
    {
     "data": {
      "text/plain": [
       "390"
      ]
     },
     "execution_count": 138,
     "metadata": {},
     "output_type": "execute_result"
    }
   ],
   "source": [
    "del train_shift\n",
    "gc.collect()"
   ]
  },
  {
   "cell_type": "markdown",
   "metadata": {},
   "source": [
    "### Downsize data"
   ]
  },
  {
   "cell_type": "markdown",
   "metadata": {},
   "source": [
    "#### Discard data without lag_12.  Keep only from date_block_num >= 12"
   ]
  },
  {
   "cell_type": "code",
   "execution_count": 139,
   "metadata": {},
   "outputs": [],
   "source": [
    "all_data = all_data[all_data['date_block_num'] >= 12] "
   ]
  },
  {
   "cell_type": "code",
   "execution_count": 140,
   "metadata": {},
   "outputs": [],
   "source": [
    "all_data = downcast_dtypes(all_data)"
   ]
  },
  {
   "cell_type": "markdown",
   "metadata": {},
   "source": [
    "#### Discard data that would not be available for the target month (i.e. keep lags but discard current month)"
   ]
  },
  {
   "cell_type": "code",
   "execution_count": 141,
   "metadata": {},
   "outputs": [],
   "source": [
    "index_cols = ['shop_id', 'item_id', 'date_block_num']\n",
    "categorical_cols = ['yymm', 'month', 'year', 'set', 'num_Mon', 'num_Tues', 'num_Wed', 'num_Thu',\\\n",
    "                    'num_Fri', 'num_Sat', 'num_Sun', 'daysInMonth', 'shop_name',\\\n",
    "                    'item_name', 'item_category_id', 'item_category_name', 'flag_newItem']\n",
    "numeric_cols = list(all_data.columns.difference(index_cols + categorical_cols)) \n",
    "lag_cols = [col for col in all_data[numeric_cols].columns if 'lag' in col]"
   ]
  },
  {
   "cell_type": "code",
   "execution_count": 142,
   "metadata": {},
   "outputs": [],
   "source": [
    "delete_cols = list(set(numeric_cols) - set(lag_cols))\n",
    "delete_cols = list(set(delete_cols) - set(['target_item_cnt', 'target_item_cnt_mean_3m']))\n",
    "keep_cols = sorted(list(set(all_data.columns.difference(delete_cols))))"
   ]
  },
  {
   "cell_type": "code",
   "execution_count": 143,
   "metadata": {},
   "outputs": [],
   "source": [
    "all_data = all_data[keep_cols]"
   ]
  },
  {
   "cell_type": "code",
   "execution_count": 144,
   "metadata": {},
   "outputs": [],
   "source": [
    "all_data.sort_values(['date_block_num','shop_id','item_id'],inplace=True)\n",
    "all_data = all_data.reset_index(drop = True)"
   ]
  },
  {
   "cell_type": "code",
   "execution_count": 145,
   "metadata": {},
   "outputs": [],
   "source": [
    "#all_data.to_pickle('data_13')"
   ]
  },
  {
   "cell_type": "markdown",
   "metadata": {},
   "source": [
    "### One-hot encoding"
   ]
  },
  {
   "cell_type": "code",
   "execution_count": 146,
   "metadata": {},
   "outputs": [],
   "source": [
    "# all_data = pd.read_pickle('data_13')"
   ]
  },
  {
   "cell_type": "markdown",
   "metadata": {},
   "source": [
    "Onehot encoding for dates and category id.  Keep the features also as numeric.  "
   ]
  },
  {
   "cell_type": "code",
   "execution_count": 147,
   "metadata": {},
   "outputs": [],
   "source": [
    "categorical_cols = ['month', 'year', 'item_category_id', 'shop_id']"
   ]
  },
  {
   "cell_type": "code",
   "execution_count": 148,
   "metadata": {},
   "outputs": [],
   "source": [
    "onehotData = all_data[categorical_cols].astype(object)"
   ]
  },
  {
   "cell_type": "code",
   "execution_count": 149,
   "metadata": {},
   "outputs": [],
   "source": [
    "onehotData = pd.get_dummies(data = onehotData)"
   ]
  },
  {
   "cell_type": "code",
   "execution_count": 150,
   "metadata": {},
   "outputs": [],
   "source": [
    "all_data = pd.concat([all_data, onehotData], axis=1)"
   ]
  },
  {
   "cell_type": "code",
   "execution_count": 151,
   "metadata": {},
   "outputs": [],
   "source": [
    "all_data.to_pickle('../data/all_data_unscaled_clipped')"
   ]
  }
 ],
 "metadata": {
  "kernelspec": {
   "display_name": "Python 3",
   "language": "python",
   "name": "python3"
  },
  "language_info": {
   "codemirror_mode": {
    "name": "ipython",
    "version": 3
   },
   "file_extension": ".py",
   "mimetype": "text/x-python",
   "name": "python",
   "nbconvert_exporter": "python",
   "pygments_lexer": "ipython3",
   "version": "3.5.4"
  }
 },
 "nbformat": 4,
 "nbformat_minor": 2
}
