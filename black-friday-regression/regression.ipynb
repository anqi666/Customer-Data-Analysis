{
  "nbformat": 4,
  "nbformat_minor": 0,
  "metadata": {
    "colab": {
      "name": "BlackFriday.ipynb",
      "version": "0.3.2",
      "provenance": [],
      "collapsed_sections": [],
      "include_colab_link": true
    },
    "kernelspec": {
      "name": "python3",
      "display_name": "Python 3"
    }
  },
  "cells": [
    {
      "cell_type": "markdown",
      "metadata": {
        "id": "view-in-github",
        "colab_type": "text"
      },
      "source": [
        "<a href=\"https://colab.research.google.com/github/roshank1605A04/Black-Friday-Regression-Analysis/blob/master/BlackFriday.ipynb\" target=\"_parent\"><img src=\"https://colab.research.google.com/assets/colab-badge.svg\" alt=\"Open In Colab\"/></a>"
      ]
    },
    {
      "metadata": {
        "id": "f1FcoRbeQbNW",
        "colab_type": "code",
        "outputId": "075f4b45-d429-4926-d8fa-504784504342",
        "colab": {
          "base_uri": "https://localhost:8080/",
          "height": 122
        }
      },
      "cell_type": "code",
      "source": [
        "from google.colab import drive\n",
        "drive.mount('/content/drive/')"
      ],
      "execution_count": 0,
      "outputs": [
        {
          "output_type": "stream",
          "text": [
            "Go to this URL in a browser: https://accounts.google.com/o/oauth2/auth?client_id=947318989803-6bn6qk8qdgf4n4g3pfee6491hc0brc4i.apps.googleusercontent.com&redirect_uri=urn%3Aietf%3Awg%3Aoauth%3A2.0%3Aoob&scope=email%20https%3A%2F%2Fwww.googleapis.com%2Fauth%2Fdocs.test%20https%3A%2F%2Fwww.googleapis.com%2Fauth%2Fdrive%20https%3A%2F%2Fwww.googleapis.com%2Fauth%2Fdrive.photos.readonly%20https%3A%2F%2Fwww.googleapis.com%2Fauth%2Fpeopleapi.readonly&response_type=code\n",
            "\n",
            "Enter your authorization code:\n",
            "··········\n",
            "Mounted at /content/drive/\n"
          ],
          "name": "stdout"
        }
      ]
    },
    {
      "metadata": {
        "id": "8wpVW1GMAUPb",
        "colab_type": "code",
        "colab": {}
      },
      "cell_type": "code",
      "source": [
        "import numpy as np\n",
        "import pandas as pd\n",
        "\n",
        "import matplotlib.pyplot as plt\n",
        "import seaborn as sns"
      ],
      "execution_count": 0,
      "outputs": []
    },
    {
      "metadata": {
        "id": "8OfRbx2FJy2P",
        "colab_type": "code",
        "outputId": "af93a3e8-ec69-4982-c1a7-f1772e13fe3a",
        "colab": {
          "base_uri": "https://localhost:8080/",
          "height": 68
        }
      },
      "cell_type": "code",
      "source": [
        "# reading file \n",
        "\n",
        "\n",
        "%time data = pd.read_csv(\"drive/My Drive/Projects/Black Friday/BlackFriday.csv\")\n",
        "\n",
        "data.shape"
      ],
      "execution_count": 0,
      "outputs": [
        {
          "output_type": "stream",
          "text": [
            "CPU times: user 632 ms, sys: 111 ms, total: 743 ms\n",
            "Wall time: 1.08 s\n"
          ],
          "name": "stdout"
        },
        {
          "output_type": "execute_result",
          "data": {
            "text/plain": [
              "(537577, 12)"
            ]
          },
          "metadata": {
            "tags": []
          },
          "execution_count": 4
        }
      ]
    },
    {
      "metadata": {
        "id": "u-63ieKRSuGA",
        "colab_type": "code",
        "outputId": "766f0dd5-c0a6-4917-aeb3-cba33c9c4fea",
        "colab": {
          "base_uri": "https://localhost:8080/",
          "height": 532
        }
      },
      "cell_type": "code",
      "source": [
        "# checking the sample of the data\n",
        "\n",
        "data.sample(10)"
      ],
      "execution_count": 0,
      "outputs": [
        {
          "output_type": "execute_result",
          "data": {
            "text/html": [
              "<div>\n",
              "<style scoped>\n",
              "    .dataframe tbody tr th:only-of-type {\n",
              "        vertical-align: middle;\n",
              "    }\n",
              "\n",
              "    .dataframe tbody tr th {\n",
              "        vertical-align: top;\n",
              "    }\n",
              "\n",
              "    .dataframe thead th {\n",
              "        text-align: right;\n",
              "    }\n",
              "</style>\n",
              "<table border=\"1\" class=\"dataframe\">\n",
              "  <thead>\n",
              "    <tr style=\"text-align: right;\">\n",
              "      <th></th>\n",
              "      <th>User_ID</th>\n",
              "      <th>Product_ID</th>\n",
              "      <th>Gender</th>\n",
              "      <th>Age</th>\n",
              "      <th>Occupation</th>\n",
              "      <th>City_Category</th>\n",
              "      <th>Stay_In_Current_City_Years</th>\n",
              "      <th>Marital_Status</th>\n",
              "      <th>Product_Category_1</th>\n",
              "      <th>Product_Category_2</th>\n",
              "      <th>Product_Category_3</th>\n",
              "      <th>Purchase</th>\n",
              "    </tr>\n",
              "  </thead>\n",
              "  <tbody>\n",
              "    <tr>\n",
              "      <th>475829</th>\n",
              "      <td>1001293</td>\n",
              "      <td>P00120342</td>\n",
              "      <td>M</td>\n",
              "      <td>26-35</td>\n",
              "      <td>5</td>\n",
              "      <td>C</td>\n",
              "      <td>1</td>\n",
              "      <td>0</td>\n",
              "      <td>5</td>\n",
              "      <td>17.0</td>\n",
              "      <td>NaN</td>\n",
              "      <td>5229</td>\n",
              "    </tr>\n",
              "    <tr>\n",
              "      <th>394072</th>\n",
              "      <td>1000678</td>\n",
              "      <td>P00003442</td>\n",
              "      <td>M</td>\n",
              "      <td>26-35</td>\n",
              "      <td>0</td>\n",
              "      <td>A</td>\n",
              "      <td>0</td>\n",
              "      <td>1</td>\n",
              "      <td>4</td>\n",
              "      <td>5.0</td>\n",
              "      <td>8.0</td>\n",
              "      <td>3543</td>\n",
              "    </tr>\n",
              "    <tr>\n",
              "      <th>294950</th>\n",
              "      <td>1003501</td>\n",
              "      <td>P00273042</td>\n",
              "      <td>F</td>\n",
              "      <td>36-45</td>\n",
              "      <td>7</td>\n",
              "      <td>C</td>\n",
              "      <td>1</td>\n",
              "      <td>0</td>\n",
              "      <td>5</td>\n",
              "      <td>NaN</td>\n",
              "      <td>NaN</td>\n",
              "      <td>8900</td>\n",
              "    </tr>\n",
              "    <tr>\n",
              "      <th>429188</th>\n",
              "      <td>1000053</td>\n",
              "      <td>P00022442</td>\n",
              "      <td>M</td>\n",
              "      <td>26-35</td>\n",
              "      <td>0</td>\n",
              "      <td>B</td>\n",
              "      <td>1</td>\n",
              "      <td>0</td>\n",
              "      <td>8</td>\n",
              "      <td>16.0</td>\n",
              "      <td>NaN</td>\n",
              "      <td>9734</td>\n",
              "    </tr>\n",
              "    <tr>\n",
              "      <th>356689</th>\n",
              "      <td>1000990</td>\n",
              "      <td>P00208342</td>\n",
              "      <td>M</td>\n",
              "      <td>18-25</td>\n",
              "      <td>6</td>\n",
              "      <td>C</td>\n",
              "      <td>2</td>\n",
              "      <td>0</td>\n",
              "      <td>1</td>\n",
              "      <td>16.0</td>\n",
              "      <td>NaN</td>\n",
              "      <td>18998</td>\n",
              "    </tr>\n",
              "    <tr>\n",
              "      <th>236743</th>\n",
              "      <td>1000524</td>\n",
              "      <td>P00022142</td>\n",
              "      <td>M</td>\n",
              "      <td>18-25</td>\n",
              "      <td>0</td>\n",
              "      <td>A</td>\n",
              "      <td>0</td>\n",
              "      <td>0</td>\n",
              "      <td>1</td>\n",
              "      <td>NaN</td>\n",
              "      <td>NaN</td>\n",
              "      <td>11795</td>\n",
              "    </tr>\n",
              "    <tr>\n",
              "      <th>116470</th>\n",
              "      <td>1005985</td>\n",
              "      <td>P00278442</td>\n",
              "      <td>F</td>\n",
              "      <td>18-25</td>\n",
              "      <td>4</td>\n",
              "      <td>C</td>\n",
              "      <td>0</td>\n",
              "      <td>1</td>\n",
              "      <td>11</td>\n",
              "      <td>NaN</td>\n",
              "      <td>NaN</td>\n",
              "      <td>2982</td>\n",
              "    </tr>\n",
              "    <tr>\n",
              "      <th>372927</th>\n",
              "      <td>1003471</td>\n",
              "      <td>P00151242</td>\n",
              "      <td>M</td>\n",
              "      <td>18-25</td>\n",
              "      <td>4</td>\n",
              "      <td>A</td>\n",
              "      <td>1</td>\n",
              "      <td>0</td>\n",
              "      <td>5</td>\n",
              "      <td>8.0</td>\n",
              "      <td>16.0</td>\n",
              "      <td>5144</td>\n",
              "    </tr>\n",
              "    <tr>\n",
              "      <th>444215</th>\n",
              "      <td>1002334</td>\n",
              "      <td>P00034842</td>\n",
              "      <td>F</td>\n",
              "      <td>55+</td>\n",
              "      <td>7</td>\n",
              "      <td>B</td>\n",
              "      <td>1</td>\n",
              "      <td>1</td>\n",
              "      <td>5</td>\n",
              "      <td>14.0</td>\n",
              "      <td>NaN</td>\n",
              "      <td>7032</td>\n",
              "    </tr>\n",
              "    <tr>\n",
              "      <th>20492</th>\n",
              "      <td>1003248</td>\n",
              "      <td>P00113042</td>\n",
              "      <td>F</td>\n",
              "      <td>26-35</td>\n",
              "      <td>7</td>\n",
              "      <td>B</td>\n",
              "      <td>3</td>\n",
              "      <td>0</td>\n",
              "      <td>11</td>\n",
              "      <td>16.0</td>\n",
              "      <td>NaN</td>\n",
              "      <td>7408</td>\n",
              "    </tr>\n",
              "  </tbody>\n",
              "</table>\n",
              "</div>"
            ],
            "text/plain": [
              "        User_ID Product_ID Gender    Age  Occupation City_Category  \\\n",
              "475829  1001293  P00120342      M  26-35           5             C   \n",
              "394072  1000678  P00003442      M  26-35           0             A   \n",
              "294950  1003501  P00273042      F  36-45           7             C   \n",
              "429188  1000053  P00022442      M  26-35           0             B   \n",
              "356689  1000990  P00208342      M  18-25           6             C   \n",
              "236743  1000524  P00022142      M  18-25           0             A   \n",
              "116470  1005985  P00278442      F  18-25           4             C   \n",
              "372927  1003471  P00151242      M  18-25           4             A   \n",
              "444215  1002334  P00034842      F    55+           7             B   \n",
              "20492   1003248  P00113042      F  26-35           7             B   \n",
              "\n",
              "       Stay_In_Current_City_Years  Marital_Status  Product_Category_1  \\\n",
              "475829                          1               0                   5   \n",
              "394072                          0               1                   4   \n",
              "294950                          1               0                   5   \n",
              "429188                          1               0                   8   \n",
              "356689                          2               0                   1   \n",
              "236743                          0               0                   1   \n",
              "116470                          0               1                  11   \n",
              "372927                          1               0                   5   \n",
              "444215                          1               1                   5   \n",
              "20492                           3               0                  11   \n",
              "\n",
              "        Product_Category_2  Product_Category_3  Purchase  \n",
              "475829                17.0                 NaN      5229  \n",
              "394072                 5.0                 8.0      3543  \n",
              "294950                 NaN                 NaN      8900  \n",
              "429188                16.0                 NaN      9734  \n",
              "356689                16.0                 NaN     18998  \n",
              "236743                 NaN                 NaN     11795  \n",
              "116470                 NaN                 NaN      2982  \n",
              "372927                 8.0                16.0      5144  \n",
              "444215                14.0                 NaN      7032  \n",
              "20492                 16.0                 NaN      7408  "
            ]
          },
          "metadata": {
            "tags": []
          },
          "execution_count": 5
        }
      ]
    },
    {
      "metadata": {
        "id": "ruOGeUYaXZSu",
        "colab_type": "code",
        "outputId": "143e1921-7ca6-4259-ef3d-0363ef27acc4",
        "colab": {
          "base_uri": "https://localhost:8080/",
          "height": 306
        }
      },
      "cell_type": "code",
      "source": [
        "# information about the data\n",
        "\n",
        "data.info()"
      ],
      "execution_count": 0,
      "outputs": [
        {
          "output_type": "stream",
          "text": [
            "<class 'pandas.core.frame.DataFrame'>\n",
            "RangeIndex: 537577 entries, 0 to 537576\n",
            "Data columns (total 12 columns):\n",
            "User_ID                       537577 non-null int64\n",
            "Product_ID                    537577 non-null object\n",
            "Gender                        537577 non-null object\n",
            "Age                           537577 non-null object\n",
            "Occupation                    537577 non-null int64\n",
            "City_Category                 537577 non-null object\n",
            "Stay_In_Current_City_Years    537577 non-null object\n",
            "Marital_Status                537577 non-null int64\n",
            "Product_Category_1            537577 non-null int64\n",
            "Product_Category_2            370591 non-null float64\n",
            "Product_Category_3            164278 non-null float64\n",
            "Purchase                      537577 non-null int64\n",
            "dtypes: float64(2), int64(5), object(5)\n",
            "memory usage: 49.2+ MB\n"
          ],
          "name": "stdout"
        }
      ]
    },
    {
      "metadata": {
        "id": "mSjG8PcsWTKT",
        "colab_type": "code",
        "outputId": "bb83f10d-a06a-4b7a-bddd-b66cacab81ba",
        "colab": {
          "base_uri": "https://localhost:8080/",
          "height": 297
        }
      },
      "cell_type": "code",
      "source": [
        "# decsribing the data\n",
        "\n",
        "data.describe()"
      ],
      "execution_count": 0,
      "outputs": [
        {
          "output_type": "execute_result",
          "data": {
            "text/html": [
              "<div>\n",
              "<style scoped>\n",
              "    .dataframe tbody tr th:only-of-type {\n",
              "        vertical-align: middle;\n",
              "    }\n",
              "\n",
              "    .dataframe tbody tr th {\n",
              "        vertical-align: top;\n",
              "    }\n",
              "\n",
              "    .dataframe thead th {\n",
              "        text-align: right;\n",
              "    }\n",
              "</style>\n",
              "<table border=\"1\" class=\"dataframe\">\n",
              "  <thead>\n",
              "    <tr style=\"text-align: right;\">\n",
              "      <th></th>\n",
              "      <th>User_ID</th>\n",
              "      <th>Occupation</th>\n",
              "      <th>Marital_Status</th>\n",
              "      <th>Product_Category_1</th>\n",
              "      <th>Product_Category_2</th>\n",
              "      <th>Product_Category_3</th>\n",
              "      <th>Purchase</th>\n",
              "    </tr>\n",
              "  </thead>\n",
              "  <tbody>\n",
              "    <tr>\n",
              "      <th>count</th>\n",
              "      <td>5.375770e+05</td>\n",
              "      <td>537577.00000</td>\n",
              "      <td>537577.000000</td>\n",
              "      <td>537577.000000</td>\n",
              "      <td>370591.000000</td>\n",
              "      <td>164278.000000</td>\n",
              "      <td>537577.000000</td>\n",
              "    </tr>\n",
              "    <tr>\n",
              "      <th>mean</th>\n",
              "      <td>1.002992e+06</td>\n",
              "      <td>8.08271</td>\n",
              "      <td>0.408797</td>\n",
              "      <td>5.295546</td>\n",
              "      <td>9.842144</td>\n",
              "      <td>12.669840</td>\n",
              "      <td>9333.859853</td>\n",
              "    </tr>\n",
              "    <tr>\n",
              "      <th>std</th>\n",
              "      <td>1.714393e+03</td>\n",
              "      <td>6.52412</td>\n",
              "      <td>0.491612</td>\n",
              "      <td>3.750701</td>\n",
              "      <td>5.087259</td>\n",
              "      <td>4.124341</td>\n",
              "      <td>4981.022133</td>\n",
              "    </tr>\n",
              "    <tr>\n",
              "      <th>min</th>\n",
              "      <td>1.000001e+06</td>\n",
              "      <td>0.00000</td>\n",
              "      <td>0.000000</td>\n",
              "      <td>1.000000</td>\n",
              "      <td>2.000000</td>\n",
              "      <td>3.000000</td>\n",
              "      <td>185.000000</td>\n",
              "    </tr>\n",
              "    <tr>\n",
              "      <th>25%</th>\n",
              "      <td>1.001495e+06</td>\n",
              "      <td>2.00000</td>\n",
              "      <td>0.000000</td>\n",
              "      <td>1.000000</td>\n",
              "      <td>5.000000</td>\n",
              "      <td>9.000000</td>\n",
              "      <td>5866.000000</td>\n",
              "    </tr>\n",
              "    <tr>\n",
              "      <th>50%</th>\n",
              "      <td>1.003031e+06</td>\n",
              "      <td>7.00000</td>\n",
              "      <td>0.000000</td>\n",
              "      <td>5.000000</td>\n",
              "      <td>9.000000</td>\n",
              "      <td>14.000000</td>\n",
              "      <td>8062.000000</td>\n",
              "    </tr>\n",
              "    <tr>\n",
              "      <th>75%</th>\n",
              "      <td>1.004417e+06</td>\n",
              "      <td>14.00000</td>\n",
              "      <td>1.000000</td>\n",
              "      <td>8.000000</td>\n",
              "      <td>15.000000</td>\n",
              "      <td>16.000000</td>\n",
              "      <td>12073.000000</td>\n",
              "    </tr>\n",
              "    <tr>\n",
              "      <th>max</th>\n",
              "      <td>1.006040e+06</td>\n",
              "      <td>20.00000</td>\n",
              "      <td>1.000000</td>\n",
              "      <td>18.000000</td>\n",
              "      <td>18.000000</td>\n",
              "      <td>18.000000</td>\n",
              "      <td>23961.000000</td>\n",
              "    </tr>\n",
              "  </tbody>\n",
              "</table>\n",
              "</div>"
            ],
            "text/plain": [
              "            User_ID    Occupation  Marital_Status  Product_Category_1  \\\n",
              "count  5.375770e+05  537577.00000   537577.000000       537577.000000   \n",
              "mean   1.002992e+06       8.08271        0.408797            5.295546   \n",
              "std    1.714393e+03       6.52412        0.491612            3.750701   \n",
              "min    1.000001e+06       0.00000        0.000000            1.000000   \n",
              "25%    1.001495e+06       2.00000        0.000000            1.000000   \n",
              "50%    1.003031e+06       7.00000        0.000000            5.000000   \n",
              "75%    1.004417e+06      14.00000        1.000000            8.000000   \n",
              "max    1.006040e+06      20.00000        1.000000           18.000000   \n",
              "\n",
              "       Product_Category_2  Product_Category_3       Purchase  \n",
              "count       370591.000000       164278.000000  537577.000000  \n",
              "mean             9.842144           12.669840    9333.859853  \n",
              "std              5.087259            4.124341    4981.022133  \n",
              "min              2.000000            3.000000     185.000000  \n",
              "25%              5.000000            9.000000    5866.000000  \n",
              "50%              9.000000           14.000000    8062.000000  \n",
              "75%             15.000000           16.000000   12073.000000  \n",
              "max             18.000000           18.000000   23961.000000  "
            ]
          },
          "metadata": {
            "tags": []
          },
          "execution_count": 7
        }
      ]
    },
    {
      "metadata": {
        "id": "v6ikLxH0WdTz",
        "colab_type": "code",
        "outputId": "66549d7e-d6d5-4b35-aec0-00fcbb5a567f",
        "colab": {
          "base_uri": "https://localhost:8080/",
          "height": 238
        }
      },
      "cell_type": "code",
      "source": [
        "# checking the datatypes of attributes of dataset\n",
        "\n",
        "data.dtypes"
      ],
      "execution_count": 0,
      "outputs": [
        {
          "output_type": "execute_result",
          "data": {
            "text/plain": [
              "User_ID                         int64\n",
              "Product_ID                     object\n",
              "Gender                         object\n",
              "Age                            object\n",
              "Occupation                      int64\n",
              "City_Category                  object\n",
              "Stay_In_Current_City_Years     object\n",
              "Marital_Status                  int64\n",
              "Product_Category_1              int64\n",
              "Product_Category_2            float64\n",
              "Product_Category_3            float64\n",
              "Purchase                        int64\n",
              "dtype: object"
            ]
          },
          "metadata": {
            "tags": []
          },
          "execution_count": 8
        }
      ]
    },
    {
      "metadata": {
        "id": "IUS-qU6cXGwH",
        "colab_type": "code",
        "outputId": "9329a90b-2687-4fbe-b5dd-af6dea5b25b4",
        "colab": {
          "base_uri": "https://localhost:8080/",
          "height": 238
        }
      },
      "cell_type": "code",
      "source": [
        "# checking if there is any NULL values present in the dataset\n",
        "\n",
        "data.isnull().sum()"
      ],
      "execution_count": 0,
      "outputs": [
        {
          "output_type": "execute_result",
          "data": {
            "text/plain": [
              "User_ID                            0\n",
              "Product_ID                         0\n",
              "Gender                             0\n",
              "Age                                0\n",
              "Occupation                         0\n",
              "City_Category                      0\n",
              "Stay_In_Current_City_Years         0\n",
              "Marital_Status                     0\n",
              "Product_Category_1                 0\n",
              "Product_Category_2            166986\n",
              "Product_Category_3            373299\n",
              "Purchase                           0\n",
              "dtype: int64"
            ]
          },
          "metadata": {
            "tags": []
          },
          "execution_count": 9
        }
      ]
    },
    {
      "metadata": {
        "id": "AmEtGcWYG5dX",
        "colab_type": "code",
        "outputId": "5da41d37-f93c-40d5-e50e-1cfbe3124130",
        "colab": {
          "base_uri": "https://localhost:8080/",
          "height": 68
        }
      },
      "cell_type": "code",
      "source": [
        "data['Gender'].value_counts()"
      ],
      "execution_count": 0,
      "outputs": [
        {
          "output_type": "execute_result",
          "data": {
            "text/plain": [
              "M    405380\n",
              "F    132197\n",
              "Name: Gender, dtype: int64"
            ]
          },
          "metadata": {
            "tags": []
          },
          "execution_count": 10
        }
      ]
    },
    {
      "metadata": {
        "id": "3Xd5J36LRVPU",
        "colab_type": "code",
        "outputId": "eafba499-4341-4218-a594-f44019b78e9e",
        "colab": {
          "base_uri": "https://localhost:8080/",
          "height": 351
        }
      },
      "cell_type": "code",
      "source": [
        "# pie chart \n",
        "\n",
        "size = [405380, 123197]\n",
        "labels = ['Male', 'Female']\n",
        "colors = ['orange', 'yellow']\n",
        "explode = [0, 0.1]\n",
        "\n",
        "plt.pie(size, colors = colors, labels = labels, shadow = True, explode = explode, autopct = '%.2f%%')\n",
        "plt.title('A Pie Chart representing the gender gap', fontsize = 20)\n",
        "plt.legend()\n",
        "plt.show()"
      ],
      "execution_count": 0,
      "outputs": [
        {
          "output_type": "display_data",
          "data": {
            "image/png": "[encoded data removed]",
            "text/plain": [
              "<Figure size 576x396 with 1 Axes>"
            ]
          },
          "metadata": {
            "tags": []
          }
        }
      ]
    },
    {
      "metadata": {
        "id": "_zwL16l2HizZ",
        "colab_type": "code",
        "outputId": "ccd19432-3bf9-48e3-a423-67f48fc6502e",
        "colab": {
          "base_uri": "https://localhost:8080/",
          "height": 85
        }
      },
      "cell_type": "code",
      "source": [
        "# finding the maximum purchase in both male and female\n",
        "\n",
        "data.groupby(data.Gender).Purchase.max()"
      ],
      "execution_count": 0,
      "outputs": [
        {
          "output_type": "execute_result",
          "data": {
            "text/plain": [
              "Gender\n",
              "F    23959\n",
              "M    23961\n",
              "Name: Purchase, dtype: int64"
            ]
          },
          "metadata": {
            "tags": []
          },
          "execution_count": 12
        }
      ]
    },
    {
      "metadata": {
        "id": "cg_oid1vIXcc",
        "colab_type": "code",
        "outputId": "dabfa29f-a736-47d7-d524-8be792716e41",
        "colab": {
          "base_uri": "https://localhost:8080/",
          "height": 85
        }
      },
      "cell_type": "code",
      "source": [
        "# finding the minimum purchase in both male and female\n",
        "\n",
        "data.groupby(data.Gender).Purchase.min()"
      ],
      "execution_count": 0,
      "outputs": [
        {
          "output_type": "execute_result",
          "data": {
            "text/plain": [
              "Gender\n",
              "F    185\n",
              "M    185\n",
              "Name: Purchase, dtype: int64"
            ]
          },
          "metadata": {
            "tags": []
          },
          "execution_count": 13
        }
      ]
    },
    {
      "metadata": {
        "id": "SuO0xNtIXAaV",
        "colab_type": "code",
        "outputId": "197cc42a-157e-42e6-adb3-831d6c98922e",
        "colab": {
          "base_uri": "https://localhost:8080/",
          "height": 142
        }
      },
      "cell_type": "code",
      "source": [
        "# checking dependency of gender on purchase\n",
        "\n",
        "data[['Gender', 'Purchase']].groupby('Gender').mean()"
      ],
      "execution_count": 0,
      "outputs": [
        {
          "output_type": "execute_result",
          "data": {
            "text/html": [
              "<div>\n",
              "<style scoped>\n",
              "    .dataframe tbody tr th:only-of-type {\n",
              "        vertical-align: middle;\n",
              "    }\n",
              "\n",
              "    .dataframe tbody tr th {\n",
              "        vertical-align: top;\n",
              "    }\n",
              "\n",
              "    .dataframe thead th {\n",
              "        text-align: right;\n",
              "    }\n",
              "</style>\n",
              "<table border=\"1\" class=\"dataframe\">\n",
              "  <thead>\n",
              "    <tr style=\"text-align: right;\">\n",
              "      <th></th>\n",
              "      <th>Purchase</th>\n",
              "    </tr>\n",
              "    <tr>\n",
              "      <th>Gender</th>\n",
              "      <th></th>\n",
              "    </tr>\n",
              "  </thead>\n",
              "  <tbody>\n",
              "    <tr>\n",
              "      <th>F</th>\n",
              "      <td>8809.761349</td>\n",
              "    </tr>\n",
              "    <tr>\n",
              "      <th>M</th>\n",
              "      <td>9504.771713</td>\n",
              "    </tr>\n",
              "  </tbody>\n",
              "</table>\n",
              "</div>"
            ],
            "text/plain": [
              "           Purchase\n",
              "Gender             \n",
              "F       8809.761349\n",
              "M       9504.771713"
            ]
          },
          "metadata": {
            "tags": []
          },
          "execution_count": 14
        }
      ]
    },
    {
      "metadata": {
        "id": "B2lw-ftPW_-p",
        "colab_type": "code",
        "outputId": "0a20c133-df5f-4987-bc0a-ee96a85c1bb7",
        "colab": {
          "base_uri": "https://localhost:8080/",
          "height": 425
        }
      },
      "cell_type": "code",
      "source": [
        "# visualizing the age of customers\n",
        "\n",
        "sns.countplot(data['Age'], palette = 'pastel')\n",
        "plt.title('Distribution of Age', fontsize = 20)\n",
        "plt.xlabel('Different Categories of Age', fontsize = 20)\n",
        "plt.ylabel('Count')\n",
        "plt.show()"
      ],
      "execution_count": 0,
      "outputs": [
        {
          "output_type": "stream",
          "text": [
            "/usr/local/lib/python3.6/dist-packages/seaborn/categorical.py:1428: FutureWarning: remove_na is deprecated and is a private function. Do not use.\n",
            "  stat_data = remove_na(group_data)\n"
          ],
          "name": "stderr"
        },
        {
          "output_type": "display_data",
          "data": {
            "image/png": "[encoded data removed]",
            "text/plain": [
              "<Figure size 576x396 with 1 Axes>"
            ]
          },
          "metadata": {
            "tags": []
          }
        }
      ]
    },
    {
      "metadata": {
        "id": "Zkl_p3JDYnDd",
        "colab_type": "code",
        "outputId": "71c6a8e2-ee3c-420f-e231-a567fe04c233",
        "colab": {
          "base_uri": "https://localhost:8080/",
          "height": 297
        }
      },
      "cell_type": "code",
      "source": [
        "# checing the dependency of age attribute with purchasing power\n",
        "\n",
        "data[['Age', 'Purchase']].groupby('Age').mean()"
      ],
      "execution_count": 0,
      "outputs": [
        {
          "output_type": "execute_result",
          "data": {
            "text/html": [
              "<div>\n",
              "<style scoped>\n",
              "    .dataframe tbody tr th:only-of-type {\n",
              "        vertical-align: middle;\n",
              "    }\n",
              "\n",
              "    .dataframe tbody tr th {\n",
              "        vertical-align: top;\n",
              "    }\n",
              "\n",
              "    .dataframe thead th {\n",
              "        text-align: right;\n",
              "    }\n",
              "</style>\n",
              "<table border=\"1\" class=\"dataframe\">\n",
              "  <thead>\n",
              "    <tr style=\"text-align: right;\">\n",
              "      <th></th>\n",
              "      <th>Purchase</th>\n",
              "    </tr>\n",
              "    <tr>\n",
              "      <th>Age</th>\n",
              "      <th></th>\n",
              "    </tr>\n",
              "  </thead>\n",
              "  <tbody>\n",
              "    <tr>\n",
              "      <th>0-17</th>\n",
              "      <td>9020.126878</td>\n",
              "    </tr>\n",
              "    <tr>\n",
              "      <th>18-25</th>\n",
              "      <td>9235.197575</td>\n",
              "    </tr>\n",
              "    <tr>\n",
              "      <th>26-35</th>\n",
              "      <td>9314.588970</td>\n",
              "    </tr>\n",
              "    <tr>\n",
              "      <th>36-45</th>\n",
              "      <td>9401.478758</td>\n",
              "    </tr>\n",
              "    <tr>\n",
              "      <th>46-50</th>\n",
              "      <td>9284.872277</td>\n",
              "    </tr>\n",
              "    <tr>\n",
              "      <th>51-55</th>\n",
              "      <td>9620.616620</td>\n",
              "    </tr>\n",
              "    <tr>\n",
              "      <th>55+</th>\n",
              "      <td>9453.898579</td>\n",
              "    </tr>\n",
              "  </tbody>\n",
              "</table>\n",
              "</div>"
            ],
            "text/plain": [
              "          Purchase\n",
              "Age               \n",
              "0-17   9020.126878\n",
              "18-25  9235.197575\n",
              "26-35  9314.588970\n",
              "36-45  9401.478758\n",
              "46-50  9284.872277\n",
              "51-55  9620.616620\n",
              "55+    9453.898579"
            ]
          },
          "metadata": {
            "tags": []
          },
          "execution_count": 16
        }
      ]
    },
    {
      "metadata": {
        "id": "DUpbRcwoY6lj",
        "colab_type": "code",
        "outputId": "2d72e0fe-8e62-4e3a-d66d-caf17095e392",
        "colab": {
          "base_uri": "https://localhost:8080/",
          "height": 416
        }
      },
      "cell_type": "code",
      "source": [
        "# visualizing the occupation of customers\n",
        "\n",
        "sns.countplot(data['Occupation'], palette = 'pastel')\n",
        "plt.title('Distribution of Occupation across customers', fontsize = 20)\n",
        "plt.xlabel('Occupation')\n",
        "plt.ylabel('Count')\n",
        "plt.show()\n"
      ],
      "execution_count": 0,
      "outputs": [
        {
          "output_type": "stream",
          "text": [
            "/usr/local/lib/python3.6/dist-packages/seaborn/categorical.py:1428: FutureWarning: remove_na is deprecated and is a private function. Do not use.\n",
            "  stat_data = remove_na(group_data)\n"
          ],
          "name": "stderr"
        },
        {
          "output_type": "display_data",
          "data": {
            "image/png": "[encoded data removed]",
            "text/plain": [
              "<Figure size 576x396 with 1 Axes>"
            ]
          },
          "metadata": {
            "tags": []
          }
        }
      ]
    },
    {
      "metadata": {
        "id": "CInH1xjLZchX",
        "colab_type": "code",
        "outputId": "4a69917e-d6f0-489f-a676-ad3ee58d6279",
        "colab": {
          "base_uri": "https://localhost:8080/",
          "height": 731
        }
      },
      "cell_type": "code",
      "source": [
        "\n",
        "# checking the dependency of occupation on purchasing power\n",
        "\n",
        "data[['Occupation', 'Purchase']].groupby('Occupation').mean()"
      ],
      "execution_count": 0,
      "outputs": [
        {
          "output_type": "execute_result",
          "data": {
            "text/html": [
              "<div>\n",
              "<style scoped>\n",
              "    .dataframe tbody tr th:only-of-type {\n",
              "        vertical-align: middle;\n",
              "    }\n",
              "\n",
              "    .dataframe tbody tr th {\n",
              "        vertical-align: top;\n",
              "    }\n",
              "\n",
              "    .dataframe thead th {\n",
              "        text-align: right;\n",
              "    }\n",
              "</style>\n",
              "<table border=\"1\" class=\"dataframe\">\n",
              "  <thead>\n",
              "    <tr style=\"text-align: right;\">\n",
              "      <th></th>\n",
              "      <th>Purchase</th>\n",
              "    </tr>\n",
              "    <tr>\n",
              "      <th>Occupation</th>\n",
              "      <th></th>\n",
              "    </tr>\n",
              "  </thead>\n",
              "  <tbody>\n",
              "    <tr>\n",
              "      <th>0</th>\n",
              "      <td>9186.946726</td>\n",
              "    </tr>\n",
              "    <tr>\n",
              "      <th>1</th>\n",
              "      <td>9017.703095</td>\n",
              "    </tr>\n",
              "    <tr>\n",
              "      <th>2</th>\n",
              "      <td>9025.938982</td>\n",
              "    </tr>\n",
              "    <tr>\n",
              "      <th>3</th>\n",
              "      <td>9238.077277</td>\n",
              "    </tr>\n",
              "    <tr>\n",
              "      <th>4</th>\n",
              "      <td>9279.026742</td>\n",
              "    </tr>\n",
              "    <tr>\n",
              "      <th>5</th>\n",
              "      <td>9388.848978</td>\n",
              "    </tr>\n",
              "    <tr>\n",
              "      <th>6</th>\n",
              "      <td>9336.378620</td>\n",
              "    </tr>\n",
              "    <tr>\n",
              "      <th>7</th>\n",
              "      <td>9502.175276</td>\n",
              "    </tr>\n",
              "    <tr>\n",
              "      <th>8</th>\n",
              "      <td>9576.508530</td>\n",
              "    </tr>\n",
              "    <tr>\n",
              "      <th>9</th>\n",
              "      <td>8714.335934</td>\n",
              "    </tr>\n",
              "    <tr>\n",
              "      <th>10</th>\n",
              "      <td>9052.836410</td>\n",
              "    </tr>\n",
              "    <tr>\n",
              "      <th>11</th>\n",
              "      <td>9299.467190</td>\n",
              "    </tr>\n",
              "    <tr>\n",
              "      <th>12</th>\n",
              "      <td>9883.052460</td>\n",
              "    </tr>\n",
              "    <tr>\n",
              "      <th>13</th>\n",
              "      <td>9424.449391</td>\n",
              "    </tr>\n",
              "    <tr>\n",
              "      <th>14</th>\n",
              "      <td>9568.536426</td>\n",
              "    </tr>\n",
              "    <tr>\n",
              "      <th>15</th>\n",
              "      <td>9866.239925</td>\n",
              "    </tr>\n",
              "    <tr>\n",
              "      <th>16</th>\n",
              "      <td>9457.133118</td>\n",
              "    </tr>\n",
              "    <tr>\n",
              "      <th>17</th>\n",
              "      <td>9906.378997</td>\n",
              "    </tr>\n",
              "    <tr>\n",
              "      <th>18</th>\n",
              "      <td>9233.671418</td>\n",
              "    </tr>\n",
              "    <tr>\n",
              "      <th>19</th>\n",
              "      <td>8754.249162</td>\n",
              "    </tr>\n",
              "    <tr>\n",
              "      <th>20</th>\n",
              "      <td>8881.099514</td>\n",
              "    </tr>\n",
              "  </tbody>\n",
              "</table>\n",
              "</div>"
            ],
            "text/plain": [
              "               Purchase\n",
              "Occupation             \n",
              "0           9186.946726\n",
              "1           9017.703095\n",
              "2           9025.938982\n",
              "3           9238.077277\n",
              "4           9279.026742\n",
              "5           9388.848978\n",
              "6           9336.378620\n",
              "7           9502.175276\n",
              "8           9576.508530\n",
              "9           8714.335934\n",
              "10          9052.836410\n",
              "11          9299.467190\n",
              "12          9883.052460\n",
              "13          9424.449391\n",
              "14          9568.536426\n",
              "15          9866.239925\n",
              "16          9457.133118\n",
              "17          9906.378997\n",
              "18          9233.671418\n",
              "19          8754.249162\n",
              "20          8881.099514"
            ]
          },
          "metadata": {
            "tags": []
          },
          "execution_count": 18
        }
      ]
    },
    {
      "metadata": {
        "id": "pCuHOcusZx2s",
        "colab_type": "code",
        "outputId": "93baef3c-fa66-4c4b-a749-f18bffcb0e2d",
        "colab": {
          "base_uri": "https://localhost:8080/",
          "height": 416
        }
      },
      "cell_type": "code",
      "source": [
        "# visulaizing the cities the customers are from\n",
        "\n",
        "sns.countplot(data['City_Category'], palette = 'colorblind')\n",
        "plt.title('Distribution of Cities across customers', fontsize = 20)\n",
        "plt.xlabel('Cities')\n",
        "plt.ylabel('Count')\n",
        "plt.show()"
      ],
      "execution_count": 0,
      "outputs": [
        {
          "output_type": "stream",
          "text": [
            "/usr/local/lib/python3.6/dist-packages/seaborn/categorical.py:1428: FutureWarning: remove_na is deprecated and is a private function. Do not use.\n",
            "  stat_data = remove_na(group_data)\n"
          ],
          "name": "stderr"
        },
        {
          "output_type": "display_data",
          "data": {
            "image/png": "[encoded data removed]",
            "text/plain": [
              "<Figure size 576x396 with 1 Axes>"
            ]
          },
          "metadata": {
            "tags": []
          }
        }
      ]
    },
    {
      "metadata": {
        "id": "q1rq9iPsaQUw",
        "colab_type": "code",
        "outputId": "a8b142fb-7df1-4ea7-81cb-ce8e5822c312",
        "colab": {
          "base_uri": "https://localhost:8080/",
          "height": 173
        }
      },
      "cell_type": "code",
      "source": [
        "# checking the dependency of cities where custoer live with the purchasing power\n",
        "\n",
        "data[['City_Category', 'Purchase']].groupby('City_Category').mean()"
      ],
      "execution_count": 0,
      "outputs": [
        {
          "output_type": "execute_result",
          "data": {
            "text/html": [
              "<div>\n",
              "<style scoped>\n",
              "    .dataframe tbody tr th:only-of-type {\n",
              "        vertical-align: middle;\n",
              "    }\n",
              "\n",
              "    .dataframe tbody tr th {\n",
              "        vertical-align: top;\n",
              "    }\n",
              "\n",
              "    .dataframe thead th {\n",
              "        text-align: right;\n",
              "    }\n",
              "</style>\n",
              "<table border=\"1\" class=\"dataframe\">\n",
              "  <thead>\n",
              "    <tr style=\"text-align: right;\">\n",
              "      <th></th>\n",
              "      <th>Purchase</th>\n",
              "    </tr>\n",
              "    <tr>\n",
              "      <th>City_Category</th>\n",
              "      <th></th>\n",
              "    </tr>\n",
              "  </thead>\n",
              "  <tbody>\n",
              "    <tr>\n",
              "      <th>A</th>\n",
              "      <td>8958.011014</td>\n",
              "    </tr>\n",
              "    <tr>\n",
              "      <th>B</th>\n",
              "      <td>9198.657848</td>\n",
              "    </tr>\n",
              "    <tr>\n",
              "      <th>C</th>\n",
              "      <td>9844.441855</td>\n",
              "    </tr>\n",
              "  </tbody>\n",
              "</table>\n",
              "</div>"
            ],
            "text/plain": [
              "                  Purchase\n",
              "City_Category             \n",
              "A              8958.011014\n",
              "B              9198.657848\n",
              "C              9844.441855"
            ]
          },
          "metadata": {
            "tags": []
          },
          "execution_count": 20
        }
      ]
    },
    {
      "metadata": {
        "id": "8O8ljRJTanl6",
        "colab_type": "code",
        "outputId": "b30f6d80-abe5-40c4-b797-b6a843c3da3f",
        "colab": {
          "base_uri": "https://localhost:8080/",
          "height": 119
        }
      },
      "cell_type": "code",
      "source": [
        "\n",
        "# we need to label the 4+ to 5 to visualize the stay of customers in a city\n",
        "data['Stay_In_Current_City_Years'] = data['Stay_In_Current_City_Years'].map({'0': 0, '1': 1, '2': 2, '3': 3, '4+': 4,})\n",
        "\n",
        "data['Stay_In_Current_City_Years'].value_counts()"
      ],
      "execution_count": 0,
      "outputs": [
        {
          "output_type": "execute_result",
          "data": {
            "text/plain": [
              "1    189192\n",
              "2     99459\n",
              "3     93312\n",
              "4     82889\n",
              "0     72725\n",
              "Name: Stay_In_Current_City_Years, dtype: int64"
            ]
          },
          "metadata": {
            "tags": []
          },
          "execution_count": 21
        }
      ]
    },
    {
      "metadata": {
        "id": "p2rj6dzRdItQ",
        "colab_type": "code",
        "outputId": "da65ec88-d81a-4306-d687-912d8ad7743c",
        "colab": {
          "base_uri": "https://localhost:8080/",
          "height": 416
        }
      },
      "cell_type": "code",
      "source": [
        "# visualizing the stay in current years\n",
        "\n",
        "\n",
        "sns.countplot(data['Stay_In_Current_City_Years'], palette = 'dark')\n",
        "plt.title('Distribution of Stay across customers', fontsize = 20)\n",
        "plt.xlabel('Distribution of Stay')\n",
        "plt.ylabel('Count')\n",
        "plt.show()"
      ],
      "execution_count": 0,
      "outputs": [
        {
          "output_type": "stream",
          "text": [
            "/usr/local/lib/python3.6/dist-packages/seaborn/categorical.py:1428: FutureWarning: remove_na is deprecated and is a private function. Do not use.\n",
            "  stat_data = remove_na(group_data)\n"
          ],
          "name": "stderr"
        },
        {
          "output_type": "display_data",
          "data": {
            "image/png": "[encoded data removed]",
            "text/plain": [
              "<Figure size 576x396 with 1 Axes>"
            ]
          },
          "metadata": {
            "tags": []
          }
        }
      ]
    },
    {
      "metadata": {
        "id": "U_6ZwtOxdpwa",
        "colab_type": "code",
        "outputId": "d51a3333-ac37-47fe-9dd6-79c3253d1edf",
        "colab": {
          "base_uri": "https://localhost:8080/",
          "height": 235
        }
      },
      "cell_type": "code",
      "source": [
        "# checking the dependency of stay in purchasing power\n",
        "\n",
        "data[['Stay_In_Current_City_Years', 'Purchase']].groupby('Stay_In_Current_City_Years').mean()"
      ],
      "execution_count": 0,
      "outputs": [
        {
          "output_type": "execute_result",
          "data": {
            "text/html": [
              "<div>\n",
              "<style scoped>\n",
              "    .dataframe tbody tr th:only-of-type {\n",
              "        vertical-align: middle;\n",
              "    }\n",
              "\n",
              "    .dataframe tbody tr th {\n",
              "        vertical-align: top;\n",
              "    }\n",
              "\n",
              "    .dataframe thead th {\n",
              "        text-align: right;\n",
              "    }\n",
              "</style>\n",
              "<table border=\"1\" class=\"dataframe\">\n",
              "  <thead>\n",
              "    <tr style=\"text-align: right;\">\n",
              "      <th></th>\n",
              "      <th>Purchase</th>\n",
              "    </tr>\n",
              "    <tr>\n",
              "      <th>Stay_In_Current_City_Years</th>\n",
              "      <th></th>\n",
              "    </tr>\n",
              "  </thead>\n",
              "  <tbody>\n",
              "    <tr>\n",
              "      <th>0</th>\n",
              "      <td>9247.238625</td>\n",
              "    </tr>\n",
              "    <tr>\n",
              "      <th>1</th>\n",
              "      <td>9319.865095</td>\n",
              "    </tr>\n",
              "    <tr>\n",
              "      <th>2</th>\n",
              "      <td>9397.607316</td>\n",
              "    </tr>\n",
              "    <tr>\n",
              "      <th>3</th>\n",
              "      <td>9350.685121</td>\n",
              "    </tr>\n",
              "    <tr>\n",
              "      <th>4</th>\n",
              "      <td>9346.370158</td>\n",
              "    </tr>\n",
              "  </tbody>\n",
              "</table>\n",
              "</div>"
            ],
            "text/plain": [
              "                               Purchase\n",
              "Stay_In_Current_City_Years             \n",
              "0                           9247.238625\n",
              "1                           9319.865095\n",
              "2                           9397.607316\n",
              "3                           9350.685121\n",
              "4                           9346.370158"
            ]
          },
          "metadata": {
            "tags": []
          },
          "execution_count": 23
        }
      ]
    },
    {
      "metadata": {
        "id": "XwmTnQzAeCkX",
        "colab_type": "code",
        "outputId": "43ff9934-9c97-4a46-f55a-1811e1cd171c",
        "colab": {
          "base_uri": "https://localhost:8080/",
          "height": 68
        }
      },
      "cell_type": "code",
      "source": [
        "# visualizing the Marital Status\n",
        "\n",
        "data['Marital_Status'].value_counts()"
      ],
      "execution_count": 0,
      "outputs": [
        {
          "output_type": "execute_result",
          "data": {
            "text/plain": [
              "0    317817\n",
              "1    219760\n",
              "Name: Marital_Status, dtype: int64"
            ]
          },
          "metadata": {
            "tags": []
          },
          "execution_count": 24
        }
      ]
    },
    {
      "metadata": {
        "id": "tj7UoFJ6eMba",
        "colab_type": "code",
        "outputId": "b8717adf-2921-4175-960f-430f8b44a897",
        "colab": {
          "base_uri": "https://localhost:8080/",
          "height": 351
        }
      },
      "cell_type": "code",
      "source": [
        "# pie chart \n",
        "\n",
        "size = [317817, 219760]\n",
        "labels = ['Male', 'Female']\n",
        "colors = ['cyan', 'lightblue']\n",
        "explode = [0, 0.1]\n",
        "\n",
        "plt.pie(size, colors = colors, labels = labels, shadow = True, explode = explode, autopct = '%.2f%%')\n",
        "plt.title('A Pie Chart representing the gender gap', fontsize = 20)\n",
        "plt.legend()\n",
        "plt.show()"
      ],
      "execution_count": 0,
      "outputs": [
        {
          "output_type": "display_data",
          "data": {
            "image/png": "[encoded data removed]",
            "text/plain": [
              "<Figure size 576x396 with 1 Axes>"
            ]
          },
          "metadata": {
            "tags": []
          }
        }
      ]
    },
    {
      "metadata": {
        "id": "H0o8vxUtefmj",
        "colab_type": "code",
        "outputId": "ebce1153-8f08-4bb2-9e2b-cc381e62bc66",
        "colab": {
          "base_uri": "https://localhost:8080/",
          "height": 142
        }
      },
      "cell_type": "code",
      "source": [
        "# checking the dependency of marital status on purchasing power\n",
        "\n",
        "data[['Marital_Status', 'Purchase']].groupby('Marital_Status').mean()"
      ],
      "execution_count": 0,
      "outputs": [
        {
          "output_type": "execute_result",
          "data": {
            "text/html": [
              "<div>\n",
              "<style scoped>\n",
              "    .dataframe tbody tr th:only-of-type {\n",
              "        vertical-align: middle;\n",
              "    }\n",
              "\n",
              "    .dataframe tbody tr th {\n",
              "        vertical-align: top;\n",
              "    }\n",
              "\n",
              "    .dataframe thead th {\n",
              "        text-align: right;\n",
              "    }\n",
              "</style>\n",
              "<table border=\"1\" class=\"dataframe\">\n",
              "  <thead>\n",
              "    <tr style=\"text-align: right;\">\n",
              "      <th></th>\n",
              "      <th>Purchase</th>\n",
              "    </tr>\n",
              "    <tr>\n",
              "      <th>Marital_Status</th>\n",
              "      <th></th>\n",
              "    </tr>\n",
              "  </thead>\n",
              "  <tbody>\n",
              "    <tr>\n",
              "      <th>0</th>\n",
              "      <td>9333.325467</td>\n",
              "    </tr>\n",
              "    <tr>\n",
              "      <th>1</th>\n",
              "      <td>9334.632681</td>\n",
              "    </tr>\n",
              "  </tbody>\n",
              "</table>\n",
              "</div>"
            ],
            "text/plain": [
              "                   Purchase\n",
              "Marital_Status             \n",
              "0               9333.325467\n",
              "1               9334.632681"
            ]
          },
          "metadata": {
            "tags": []
          },
          "execution_count": 26
        }
      ]
    },
    {
      "metadata": {
        "id": "rVqnmZcRe6oD",
        "colab_type": "code",
        "outputId": "f5a72f43-86f3-4271-c7cc-d57990f2c0f3",
        "colab": {
          "base_uri": "https://localhost:8080/",
          "height": 389
        }
      },
      "cell_type": "code",
      "source": [
        "# visualizing the product category 1\n",
        "\n",
        "plt.rcParams['figure.figsize'] = (15, 5)\n",
        "\n",
        "plt.subplot(131)\n",
        "sns.countplot(data['Product_Category_1'], palette = 'dark')\n",
        "plt.title('Distribution of different products across customers', fontsize = 20)\n",
        "plt.xlabel('Distribution of Product Category 1')\n",
        "plt.ylabel('Count')\n",
        "\n",
        "plt.subplot(132)\n",
        "sns.countplot(data['Product_Category_2'], palette = 'dark')\n",
        "#plt.title('Distribution of product category 2 across customers', fontsize = 20)\n",
        "plt.xlabel('Distribution of Product Category 2')\n",
        "plt.ylabel('Count')\n",
        "\n",
        "plt.subplot(133)\n",
        "sns.countplot(data['Product_Category_3'], palette = 'dark')\n",
        "#plt.title('Distribution of product category 3 across customers', fontsize = 20)\n",
        "plt.xlabel('Distribution of Product Category 3')\n",
        "plt.ylabel('Count')\n",
        "\n",
        "\n",
        "plt.show()"
      ],
      "execution_count": 0,
      "outputs": [
        {
          "output_type": "stream",
          "text": [
            "/usr/local/lib/python3.6/dist-packages/seaborn/categorical.py:1428: FutureWarning: remove_na is deprecated and is a private function. Do not use.\n",
            "  stat_data = remove_na(group_data)\n"
          ],
          "name": "stderr"
        },
        {
          "output_type": "display_data",
          "data": {
            "image/png": "[encoded data removed]",
            "text/plain": [
              "<Figure size 1080x360 with 3 Axes>"
            ]
          },
          "metadata": {
            "tags": []
          }
        }
      ]
    },
    {
      "metadata": {
        "id": "wc5w10YFfObu",
        "colab_type": "code",
        "outputId": "237618e2-fccf-4952-de5d-56cdc4933ac3",
        "colab": {
          "base_uri": "https://localhost:8080/",
          "height": 638
        }
      },
      "cell_type": "code",
      "source": [
        "# checking the dependency of product 1 on purchasing power\n",
        "\n",
        "data[['Product_Category_1', 'Purchase']].groupby('Product_Category_1').mean()"
      ],
      "execution_count": 0,
      "outputs": [
        {
          "output_type": "execute_result",
          "data": {
            "text/html": [
              "<div>\n",
              "<style scoped>\n",
              "    .dataframe tbody tr th:only-of-type {\n",
              "        vertical-align: middle;\n",
              "    }\n",
              "\n",
              "    .dataframe tbody tr th {\n",
              "        vertical-align: top;\n",
              "    }\n",
              "\n",
              "    .dataframe thead th {\n",
              "        text-align: right;\n",
              "    }\n",
              "</style>\n",
              "<table border=\"1\" class=\"dataframe\">\n",
              "  <thead>\n",
              "    <tr style=\"text-align: right;\">\n",
              "      <th></th>\n",
              "      <th>Purchase</th>\n",
              "    </tr>\n",
              "    <tr>\n",
              "      <th>Product_Category_1</th>\n",
              "      <th></th>\n",
              "    </tr>\n",
              "  </thead>\n",
              "  <tbody>\n",
              "    <tr>\n",
              "      <th>1</th>\n",
              "      <td>13607.701495</td>\n",
              "    </tr>\n",
              "    <tr>\n",
              "      <th>2</th>\n",
              "      <td>11255.680752</td>\n",
              "    </tr>\n",
              "    <tr>\n",
              "      <th>3</th>\n",
              "      <td>10096.841705</td>\n",
              "    </tr>\n",
              "    <tr>\n",
              "      <th>4</th>\n",
              "      <td>2328.862886</td>\n",
              "    </tr>\n",
              "    <tr>\n",
              "      <th>5</th>\n",
              "      <td>6238.004045</td>\n",
              "    </tr>\n",
              "    <tr>\n",
              "      <th>6</th>\n",
              "      <td>15837.893573</td>\n",
              "    </tr>\n",
              "    <tr>\n",
              "      <th>7</th>\n",
              "      <td>16373.830153</td>\n",
              "    </tr>\n",
              "    <tr>\n",
              "      <th>8</th>\n",
              "      <td>7497.354850</td>\n",
              "    </tr>\n",
              "    <tr>\n",
              "      <th>9</th>\n",
              "      <td>15538.297030</td>\n",
              "    </tr>\n",
              "    <tr>\n",
              "      <th>10</th>\n",
              "      <td>19679.974364</td>\n",
              "    </tr>\n",
              "    <tr>\n",
              "      <th>11</th>\n",
              "      <td>4682.933556</td>\n",
              "    </tr>\n",
              "    <tr>\n",
              "      <th>12</th>\n",
              "      <td>1351.195613</td>\n",
              "    </tr>\n",
              "    <tr>\n",
              "      <th>13</th>\n",
              "      <td>722.619485</td>\n",
              "    </tr>\n",
              "    <tr>\n",
              "      <th>14</th>\n",
              "      <td>13145.452000</td>\n",
              "    </tr>\n",
              "    <tr>\n",
              "      <th>15</th>\n",
              "      <td>14776.422215</td>\n",
              "    </tr>\n",
              "    <tr>\n",
              "      <th>16</th>\n",
              "      <td>14764.157471</td>\n",
              "    </tr>\n",
              "    <tr>\n",
              "      <th>17</th>\n",
              "      <td>10156.440917</td>\n",
              "    </tr>\n",
              "    <tr>\n",
              "      <th>18</th>\n",
              "      <td>2975.307642</td>\n",
              "    </tr>\n",
              "  </tbody>\n",
              "</table>\n",
              "</div>"
            ],
            "text/plain": [
              "                        Purchase\n",
              "Product_Category_1              \n",
              "1                   13607.701495\n",
              "2                   11255.680752\n",
              "3                   10096.841705\n",
              "4                    2328.862886\n",
              "5                    6238.004045\n",
              "6                   15837.893573\n",
              "7                   16373.830153\n",
              "8                    7497.354850\n",
              "9                   15538.297030\n",
              "10                  19679.974364\n",
              "11                   4682.933556\n",
              "12                   1351.195613\n",
              "13                    722.619485\n",
              "14                  13145.452000\n",
              "15                  14776.422215\n",
              "16                  14764.157471\n",
              "17                  10156.440917\n",
              "18                   2975.307642"
            ]
          },
          "metadata": {
            "tags": []
          },
          "execution_count": 28
        }
      ]
    },
    {
      "metadata": {
        "id": "JW1w4L2tfpPd",
        "colab_type": "code",
        "outputId": "9ef0c58f-8096-42e5-91d0-8e8efc1d87fb",
        "colab": {
          "base_uri": "https://localhost:8080/",
          "height": 607
        }
      },
      "cell_type": "code",
      "source": [
        "# checking the dependency of product 1 on purchasing power\n",
        "\n",
        "data[['Product_Category_2', 'Purchase']].groupby('Product_Category_2').mean()"
      ],
      "execution_count": 0,
      "outputs": [
        {
          "output_type": "execute_result",
          "data": {
            "text/html": [
              "<div>\n",
              "<style scoped>\n",
              "    .dataframe tbody tr th:only-of-type {\n",
              "        vertical-align: middle;\n",
              "    }\n",
              "\n",
              "    .dataframe tbody tr th {\n",
              "        vertical-align: top;\n",
              "    }\n",
              "\n",
              "    .dataframe thead th {\n",
              "        text-align: right;\n",
              "    }\n",
              "</style>\n",
              "<table border=\"1\" class=\"dataframe\">\n",
              "  <thead>\n",
              "    <tr style=\"text-align: right;\">\n",
              "      <th></th>\n",
              "      <th>Purchase</th>\n",
              "    </tr>\n",
              "    <tr>\n",
              "      <th>Product_Category_2</th>\n",
              "      <th></th>\n",
              "    </tr>\n",
              "  </thead>\n",
              "  <tbody>\n",
              "    <tr>\n",
              "      <th>2.0</th>\n",
              "      <td>13621.740682</td>\n",
              "    </tr>\n",
              "    <tr>\n",
              "      <th>3.0</th>\n",
              "      <td>11229.532628</td>\n",
              "    </tr>\n",
              "    <tr>\n",
              "      <th>4.0</th>\n",
              "      <td>10218.319009</td>\n",
              "    </tr>\n",
              "    <tr>\n",
              "      <th>5.0</th>\n",
              "      <td>9034.054649</td>\n",
              "    </tr>\n",
              "    <tr>\n",
              "      <th>6.0</th>\n",
              "      <td>11500.585872</td>\n",
              "    </tr>\n",
              "    <tr>\n",
              "      <th>7.0</th>\n",
              "      <td>6877.234146</td>\n",
              "    </tr>\n",
              "    <tr>\n",
              "      <th>8.0</th>\n",
              "      <td>10278.036363</td>\n",
              "    </tr>\n",
              "    <tr>\n",
              "      <th>9.0</th>\n",
              "      <td>7282.593633</td>\n",
              "    </tr>\n",
              "    <tr>\n",
              "      <th>10.0</th>\n",
              "      <td>15656.014711</td>\n",
              "    </tr>\n",
              "    <tr>\n",
              "      <th>11.0</th>\n",
              "      <td>8935.682467</td>\n",
              "    </tr>\n",
              "    <tr>\n",
              "      <th>12.0</th>\n",
              "      <td>6968.662299</td>\n",
              "    </tr>\n",
              "    <tr>\n",
              "      <th>13.0</th>\n",
              "      <td>9672.264346</td>\n",
              "    </tr>\n",
              "    <tr>\n",
              "      <th>14.0</th>\n",
              "      <td>7106.356752</td>\n",
              "    </tr>\n",
              "    <tr>\n",
              "      <th>15.0</th>\n",
              "      <td>10358.723290</td>\n",
              "    </tr>\n",
              "    <tr>\n",
              "      <th>16.0</th>\n",
              "      <td>10298.676025</td>\n",
              "    </tr>\n",
              "    <tr>\n",
              "      <th>17.0</th>\n",
              "      <td>9416.534196</td>\n",
              "    </tr>\n",
              "    <tr>\n",
              "      <th>18.0</th>\n",
              "      <td>9370.698168</td>\n",
              "    </tr>\n",
              "  </tbody>\n",
              "</table>\n",
              "</div>"
            ],
            "text/plain": [
              "                        Purchase\n",
              "Product_Category_2              \n",
              "2.0                 13621.740682\n",
              "3.0                 11229.532628\n",
              "4.0                 10218.319009\n",
              "5.0                  9034.054649\n",
              "6.0                 11500.585872\n",
              "7.0                  6877.234146\n",
              "8.0                 10278.036363\n",
              "9.0                  7282.593633\n",
              "10.0                15656.014711\n",
              "11.0                 8935.682467\n",
              "12.0                 6968.662299\n",
              "13.0                 9672.264346\n",
              "14.0                 7106.356752\n",
              "15.0                10358.723290\n",
              "16.0                10298.676025\n",
              "17.0                 9416.534196\n",
              "18.0                 9370.698168"
            ]
          },
          "metadata": {
            "tags": []
          },
          "execution_count": 29
        }
      ]
    },
    {
      "metadata": {
        "id": "lk_-0WHHlzgk",
        "colab_type": "code",
        "outputId": "a9f6b10f-6df1-4603-99ac-518ebc8a4af0",
        "colab": {
          "base_uri": "https://localhost:8080/",
          "height": 545
        }
      },
      "cell_type": "code",
      "source": [
        "# checking the dependency of product 1 on purchasing power\n",
        "\n",
        "data[['Product_Category_3', 'Purchase']].groupby('Product_Category_3').mean()"
      ],
      "execution_count": 0,
      "outputs": [
        {
          "output_type": "execute_result",
          "data": {
            "text/html": [
              "<div>\n",
              "<style scoped>\n",
              "    .dataframe tbody tr th:only-of-type {\n",
              "        vertical-align: middle;\n",
              "    }\n",
              "\n",
              "    .dataframe tbody tr th {\n",
              "        vertical-align: top;\n",
              "    }\n",
              "\n",
              "    .dataframe thead th {\n",
              "        text-align: right;\n",
              "    }\n",
              "</style>\n",
              "<table border=\"1\" class=\"dataframe\">\n",
              "  <thead>\n",
              "    <tr style=\"text-align: right;\">\n",
              "      <th></th>\n",
              "      <th>Purchase</th>\n",
              "    </tr>\n",
              "    <tr>\n",
              "      <th>Product_Category_3</th>\n",
              "      <th></th>\n",
              "    </tr>\n",
              "  </thead>\n",
              "  <tbody>\n",
              "    <tr>\n",
              "      <th>3.0</th>\n",
              "      <td>13957.166667</td>\n",
              "    </tr>\n",
              "    <tr>\n",
              "      <th>4.0</th>\n",
              "      <td>9778.290761</td>\n",
              "    </tr>\n",
              "    <tr>\n",
              "      <th>5.0</th>\n",
              "      <td>12128.351770</td>\n",
              "    </tr>\n",
              "    <tr>\n",
              "      <th>6.0</th>\n",
              "      <td>13189.812785</td>\n",
              "    </tr>\n",
              "    <tr>\n",
              "      <th>8.0</th>\n",
              "      <td>13029.554102</td>\n",
              "    </tr>\n",
              "    <tr>\n",
              "      <th>9.0</th>\n",
              "      <td>10429.594533</td>\n",
              "    </tr>\n",
              "    <tr>\n",
              "      <th>10.0</th>\n",
              "      <td>13522.985866</td>\n",
              "    </tr>\n",
              "    <tr>\n",
              "      <th>11.0</th>\n",
              "      <td>12112.626622</td>\n",
              "    </tr>\n",
              "    <tr>\n",
              "      <th>12.0</th>\n",
              "      <td>8718.752144</td>\n",
              "    </tr>\n",
              "    <tr>\n",
              "      <th>13.0</th>\n",
              "      <td>13183.002228</td>\n",
              "    </tr>\n",
              "    <tr>\n",
              "      <th>14.0</th>\n",
              "      <td>10053.965179</td>\n",
              "    </tr>\n",
              "    <tr>\n",
              "      <th>15.0</th>\n",
              "      <td>12338.232770</td>\n",
              "    </tr>\n",
              "    <tr>\n",
              "      <th>16.0</th>\n",
              "      <td>11982.500093</td>\n",
              "    </tr>\n",
              "    <tr>\n",
              "      <th>17.0</th>\n",
              "      <td>11779.470059</td>\n",
              "    </tr>\n",
              "    <tr>\n",
              "      <th>18.0</th>\n",
              "      <td>10983.583169</td>\n",
              "    </tr>\n",
              "  </tbody>\n",
              "</table>\n",
              "</div>"
            ],
            "text/plain": [
              "                        Purchase\n",
              "Product_Category_3              \n",
              "3.0                 13957.166667\n",
              "4.0                  9778.290761\n",
              "5.0                 12128.351770\n",
              "6.0                 13189.812785\n",
              "8.0                 13029.554102\n",
              "9.0                 10429.594533\n",
              "10.0                13522.985866\n",
              "11.0                12112.626622\n",
              "12.0                 8718.752144\n",
              "13.0                13183.002228\n",
              "14.0                10053.965179\n",
              "15.0                12338.232770\n",
              "16.0                11982.500093\n",
              "17.0                11779.470059\n",
              "18.0                10983.583169"
            ]
          },
          "metadata": {
            "tags": []
          },
          "execution_count": 30
        }
      ]
    },
    {
      "metadata": {
        "id": "FY1v0AZcncll",
        "colab_type": "code",
        "outputId": "0bee5c26-182d-4246-feea-c1ee5793d3f4",
        "colab": {
          "base_uri": "https://localhost:8080/",
          "height": 965
        }
      },
      "cell_type": "code",
      "source": [
        "# visualizing the purchase attribute which is our target variable\n",
        "\n",
        "# importing important libraries\n",
        "from scipy import stats\n",
        "from scipy.stats import norm\n",
        "\n",
        "# plotting a distribution plot for the target variable\n",
        "plt.rcParams['figure.figsize'] = (7, 7)\n",
        "sns.distplot(data['Purchase'], color = 'purple', fit = norm)\n",
        "\n",
        "# fitting the target variable to the normal curve \n",
        "mu, sigma = norm.fit(data['Purchase']) \n",
        "print(\"The mu {} and Sigma {} for the curve\".format(mu, sigma))\n",
        "\n",
        "plt.title('A distribution plot to represent the distribution of Purchase')\n",
        "plt.legend(['Normal Distribution ($mu$: {}, $sigma$: {}'.format(mu, sigma)], loc = 'best')\n",
        "plt.show()\n",
        "\n",
        "# plotting the QQplot\n",
        "stats.probplot(data['Purchase'], plot = plt)\n",
        "plt.show()"
      ],
      "execution_count": 0,
      "outputs": [
        {
          "output_type": "stream",
          "text": [
            "/usr/local/lib/python3.6/dist-packages/matplotlib/axes/_axes.py:6521: MatplotlibDeprecationWarning: \n",
            "The 'normed' kwarg was deprecated in Matplotlib 2.1 and will be removed in 3.1. Use 'density' instead.\n",
            "  alternative=\"'density'\", removal=\"3.1\")\n"
          ],
          "name": "stderr"
        },
        {
          "output_type": "stream",
          "text": [
            "The mu 9333.859852635065 and Sigma 4981.017499809046 for the curve\n"
          ],
          "name": "stdout"
        },
        {
          "output_type": "display_data",
          "data": {
            "image/png": "[encoded data removed]",
            "text/plain": [
              "<Figure size 504x504 with 1 Axes>"
            ]
          },
          "metadata": {
            "tags": []
          }
        },
        {
          "output_type": "display_data",
          "data": {
            "image/png": "[encoded data removed]",
            "text/plain": [
              "<Figure size 504x504 with 1 Axes>"
            ]
          },
          "metadata": {
            "tags": []
          }
        }
      ]
    },
    {
      "metadata": {
        "id": "iI8ah1PSSd4x",
        "colab_type": "code",
        "outputId": "76cae361-8dcd-4e75-c9dd-24bcabb82b3f",
        "colab": {
          "base_uri": "https://localhost:8080/",
          "height": 85
        }
      },
      "cell_type": "code",
      "source": [
        "# looking at the columns of the dataset\n",
        "\n",
        "data.columns"
      ],
      "execution_count": 0,
      "outputs": [
        {
          "output_type": "execute_result",
          "data": {
            "text/plain": [
              "Index(['User_ID', 'Product_ID', 'Gender', 'Age', 'Occupation', 'City_Category',\n",
              "       'Stay_In_Current_City_Years', 'Marital_Status', 'Product_Category_1',\n",
              "       'Product_Category_2', 'Product_Category_3', 'Purchase'],\n",
              "      dtype='object')"
            ]
          },
          "metadata": {
            "tags": []
          },
          "execution_count": 32
        }
      ]
    },
    {
      "metadata": {
        "id": "Ra7DEIIETFIP",
        "colab_type": "code",
        "outputId": "1940e2dc-0ff4-4478-b6c5-74c4aef0fe33",
        "colab": {
          "base_uri": "https://localhost:8080/",
          "height": 34
        }
      },
      "cell_type": "code",
      "source": [
        "# removing unwanted columns\n",
        "\n",
        "# saving the attributes User_ID and Product_ID before deleting them\n",
        "User_ID = data['User_ID']\n",
        "Product_ID = data['Product_ID']\n",
        "\n",
        "data = data.drop(['User_ID', 'Product_ID'], axis = 1)\n",
        "\n",
        "# checking the new shape of data\n",
        "data.shape"
      ],
      "execution_count": 0,
      "outputs": [
        {
          "output_type": "execute_result",
          "data": {
            "text/plain": [
              "(537577, 10)"
            ]
          },
          "metadata": {
            "tags": []
          },
          "execution_count": 33
        }
      ]
    },
    {
      "metadata": {
        "id": "D046jC2Vu_V4",
        "colab_type": "code",
        "outputId": "e9eb9aa3-5d57-40b7-fe50-0e3cf7b9a2df",
        "colab": {
          "base_uri": "https://localhost:8080/",
          "height": 204
        }
      },
      "cell_type": "code",
      "source": [
        "# filling the missing values\n",
        "\n",
        "data['Product_Category_2'].fillna(0, inplace = True)\n",
        "data['Product_Category_3'].fillna(0, inplace = True)\n",
        "\n",
        "data.isnull().sum()"
      ],
      "execution_count": 0,
      "outputs": [
        {
          "output_type": "execute_result",
          "data": {
            "text/plain": [
              "Gender                        0\n",
              "Age                           0\n",
              "Occupation                    0\n",
              "City_Category                 0\n",
              "Stay_In_Current_City_Years    0\n",
              "Marital_Status                0\n",
              "Product_Category_1            0\n",
              "Product_Category_2            0\n",
              "Product_Category_3            0\n",
              "Purchase                      0\n",
              "dtype: int64"
            ]
          },
          "metadata": {
            "tags": []
          },
          "execution_count": 34
        }
      ]
    },
    {
      "metadata": {
        "id": "4OYJQbwWW-nV",
        "colab_type": "code",
        "outputId": "3ede5981-f2c2-41e9-9ac1-f0578a985ab5",
        "colab": {
          "base_uri": "https://localhost:8080/",
          "height": 34
        }
      },
      "cell_type": "code",
      "source": [
        "# making dummies of variables\n",
        "# performing one hot encoding\n",
        "\n",
        "\n",
        "data = pd.get_dummies(data)\n",
        "\n",
        "# checking the shape of new dataset\n",
        "data.shape"
      ],
      "execution_count": 0,
      "outputs": [
        {
          "output_type": "execute_result",
          "data": {
            "text/plain": [
              "(537577, 19)"
            ]
          },
          "metadata": {
            "tags": []
          },
          "execution_count": 35
        }
      ]
    },
    {
      "metadata": {
        "id": "kXTC-jHRdVJM",
        "colab_type": "code",
        "outputId": "821637db-0b07-4ca0-f75a-b984ce832dea",
        "colab": {
          "base_uri": "https://localhost:8080/",
          "height": 241
        }
      },
      "cell_type": "code",
      "source": [
        "\n",
        "\n",
        "data.head()"
      ],
      "execution_count": 0,
      "outputs": [
        {
          "output_type": "execute_result",
          "data": {
            "text/html": [
              "<div>\n",
              "<style scoped>\n",
              "    .dataframe tbody tr th:only-of-type {\n",
              "        vertical-align: middle;\n",
              "    }\n",
              "\n",
              "    .dataframe tbody tr th {\n",
              "        vertical-align: top;\n",
              "    }\n",
              "\n",
              "    .dataframe thead th {\n",
              "        text-align: right;\n",
              "    }\n",
              "</style>\n",
              "<table border=\"1\" class=\"dataframe\">\n",
              "  <thead>\n",
              "    <tr style=\"text-align: right;\">\n",
              "      <th></th>\n",
              "      <th>Occupation</th>\n",
              "      <th>Stay_In_Current_City_Years</th>\n",
              "      <th>Marital_Status</th>\n",
              "      <th>Product_Category_1</th>\n",
              "      <th>Product_Category_2</th>\n",
              "      <th>Product_Category_3</th>\n",
              "      <th>Purchase</th>\n",
              "      <th>Gender_F</th>\n",
              "      <th>Gender_M</th>\n",
              "      <th>Age_0-17</th>\n",
              "      <th>Age_18-25</th>\n",
              "      <th>Age_26-35</th>\n",
              "      <th>Age_36-45</th>\n",
              "      <th>Age_46-50</th>\n",
              "      <th>Age_51-55</th>\n",
              "      <th>Age_55+</th>\n",
              "      <th>City_Category_A</th>\n",
              "      <th>City_Category_B</th>\n",
              "      <th>City_Category_C</th>\n",
              "    </tr>\n",
              "  </thead>\n",
              "  <tbody>\n",
              "    <tr>\n",
              "      <th>0</th>\n",
              "      <td>10</td>\n",
              "      <td>2</td>\n",
              "      <td>0</td>\n",
              "      <td>3</td>\n",
              "      <td>0.0</td>\n",
              "      <td>0.0</td>\n",
              "      <td>8370</td>\n",
              "      <td>1</td>\n",
              "      <td>0</td>\n",
              "      <td>1</td>\n",
              "      <td>0</td>\n",
              "      <td>0</td>\n",
              "      <td>0</td>\n",
              "      <td>0</td>\n",
              "      <td>0</td>\n",
              "      <td>0</td>\n",
              "      <td>1</td>\n",
              "      <td>0</td>\n",
              "      <td>0</td>\n",
              "    </tr>\n",
              "    <tr>\n",
              "      <th>1</th>\n",
              "      <td>10</td>\n",
              "      <td>2</td>\n",
              "      <td>0</td>\n",
              "      <td>1</td>\n",
              "      <td>6.0</td>\n",
              "      <td>14.0</td>\n",
              "      <td>15200</td>\n",
              "      <td>1</td>\n",
              "      <td>0</td>\n",
              "      <td>1</td>\n",
              "      <td>0</td>\n",
              "      <td>0</td>\n",
              "      <td>0</td>\n",
              "      <td>0</td>\n",
              "      <td>0</td>\n",
              "      <td>0</td>\n",
              "      <td>1</td>\n",
              "      <td>0</td>\n",
              "      <td>0</td>\n",
              "    </tr>\n",
              "    <tr>\n",
              "      <th>2</th>\n",
              "      <td>10</td>\n",
              "      <td>2</td>\n",
              "      <td>0</td>\n",
              "      <td>12</td>\n",
              "      <td>0.0</td>\n",
              "      <td>0.0</td>\n",
              "      <td>1422</td>\n",
              "      <td>1</td>\n",
              "      <td>0</td>\n",
              "      <td>1</td>\n",
              "      <td>0</td>\n",
              "      <td>0</td>\n",
              "      <td>0</td>\n",
              "      <td>0</td>\n",
              "      <td>0</td>\n",
              "      <td>0</td>\n",
              "      <td>1</td>\n",
              "      <td>0</td>\n",
              "      <td>0</td>\n",
              "    </tr>\n",
              "    <tr>\n",
              "      <th>3</th>\n",
              "      <td>10</td>\n",
              "      <td>2</td>\n",
              "      <td>0</td>\n",
              "      <td>12</td>\n",
              "      <td>14.0</td>\n",
              "      <td>0.0</td>\n",
              "      <td>1057</td>\n",
              "      <td>1</td>\n",
              "      <td>0</td>\n",
              "      <td>1</td>\n",
              "      <td>0</td>\n",
              "      <td>0</td>\n",
              "      <td>0</td>\n",
              "      <td>0</td>\n",
              "      <td>0</td>\n",
              "      <td>0</td>\n",
              "      <td>1</td>\n",
              "      <td>0</td>\n",
              "      <td>0</td>\n",
              "    </tr>\n",
              "    <tr>\n",
              "      <th>4</th>\n",
              "      <td>16</td>\n",
              "      <td>4</td>\n",
              "      <td>0</td>\n",
              "      <td>8</td>\n",
              "      <td>0.0</td>\n",
              "      <td>0.0</td>\n",
              "      <td>7969</td>\n",
              "      <td>0</td>\n",
              "      <td>1</td>\n",
              "      <td>0</td>\n",
              "      <td>0</td>\n",
              "      <td>0</td>\n",
              "      <td>0</td>\n",
              "      <td>0</td>\n",
              "      <td>0</td>\n",
              "      <td>1</td>\n",
              "      <td>0</td>\n",
              "      <td>0</td>\n",
              "      <td>1</td>\n",
              "    </tr>\n",
              "  </tbody>\n",
              "</table>\n",
              "</div>"
            ],
            "text/plain": [
              "   Occupation  Stay_In_Current_City_Years  Marital_Status  Product_Category_1  \\\n",
              "0          10                           2               0                   3   \n",
              "1          10                           2               0                   1   \n",
              "2          10                           2               0                  12   \n",
              "3          10                           2               0                  12   \n",
              "4          16                           4               0                   8   \n",
              "\n",
              "   Product_Category_2  Product_Category_3  Purchase  Gender_F  Gender_M  \\\n",
              "0                 0.0                 0.0      8370         1         0   \n",
              "1                 6.0                14.0     15200         1         0   \n",
              "2                 0.0                 0.0      1422         1         0   \n",
              "3                14.0                 0.0      1057         1         0   \n",
              "4                 0.0                 0.0      7969         0         1   \n",
              "\n",
              "   Age_0-17  Age_18-25  Age_26-35  Age_36-45  Age_46-50  Age_51-55  Age_55+  \\\n",
              "0         1          0          0          0          0          0        0   \n",
              "1         1          0          0          0          0          0        0   \n",
              "2         1          0          0          0          0          0        0   \n",
              "3         1          0          0          0          0          0        0   \n",
              "4         0          0          0          0          0          0        1   \n",
              "\n",
              "   City_Category_A  City_Category_B  City_Category_C  \n",
              "0                1                0                0  \n",
              "1                1                0                0  \n",
              "2                1                0                0  \n",
              "3                1                0                0  \n",
              "4                0                0                1  "
            ]
          },
          "metadata": {
            "tags": []
          },
          "execution_count": 36
        }
      ]
    },
    {
      "metadata": {
        "id": "o9Bfe1vbW30v",
        "colab_type": "code",
        "outputId": "4d7e4a6f-6282-48c7-d2e3-a254b9ace7be",
        "colab": {
          "base_uri": "https://localhost:8080/",
          "height": 51
        }
      },
      "cell_type": "code",
      "source": [
        "# splitting the data into dependent and independents sets\n",
        "\n",
        "y = data['Purchase']\n",
        "\n",
        "# now removing the purchase column from the dataset\n",
        "data = data.drop(['Purchase'], axis = 1)\n",
        "\n",
        "x = data\n",
        "\n",
        "# checking the shapes of x and y\n",
        "print(\"Shape of x: \", x.shape)\n",
        "print(\"Shape of y: \", y.shape)"
      ],
      "execution_count": 0,
      "outputs": [
        {
          "output_type": "stream",
          "text": [
            "Shape of x:  (537577, 18)\n",
            "Shape of y:  (537577,)\n"
          ],
          "name": "stdout"
        }
      ]
    },
    {
      "metadata": {
        "id": "YmJE0NqiecF6",
        "colab_type": "code",
        "outputId": "1d712296-a4f0-4d79-af94-2cfd60f19706",
        "colab": {
          "base_uri": "https://localhost:8080/",
          "height": 85
        }
      },
      "cell_type": "code",
      "source": [
        "# splitting into training and testing\n",
        "\n",
        "from sklearn.model_selection import train_test_split\n",
        "\n",
        "x_train, x_test, y_train, y_test = train_test_split(x, y, test_size = 0.3, random_state = 15)\n",
        "\n",
        "print(\"Shape of x_train: \", x_train.shape)\n",
        "print(\"Shape of x_test: \", x_test.shape)\n",
        "print(\"Shape of y_train: \", y_train.shape)\n",
        "print(\"Shape of y_test: \",y_test.shape)"
      ],
      "execution_count": 0,
      "outputs": [
        {
          "output_type": "stream",
          "text": [
            "Shape of x_train:  (376303, 18)\n",
            "Shape of x_test:  (161274, 18)\n",
            "Shape of y_train:  (376303,)\n",
            "Shape of y_test:  (161274,)\n"
          ],
          "name": "stdout"
        }
      ]
    },
    {
      "metadata": {
        "id": "pmlZ5LjI1OEe",
        "colab_type": "code",
        "outputId": "00729859-ec5a-474e-aacf-b8726bde178a",
        "colab": {
          "base_uri": "https://localhost:8080/",
          "height": 139
        }
      },
      "cell_type": "code",
      "source": [
        "# standardization\n",
        "\n",
        "from sklearn.preprocessing import StandardScaler\n",
        "\n",
        "sc = StandardScaler()\n",
        "x_train = sc.fit_transform(x_train)\n",
        "x_test = sc.transform(x_test)"
      ],
      "execution_count": 0,
      "outputs": [
        {
          "output_type": "stream",
          "text": [
            "/usr/local/lib/python3.6/dist-packages/sklearn/preprocessing/data.py:645: DataConversionWarning: Data with input dtype uint8, int64, float64 were all converted to float64 by StandardScaler.\n",
            "  return self.partial_fit(X, y)\n",
            "/usr/local/lib/python3.6/dist-packages/sklearn/base.py:464: DataConversionWarning: Data with input dtype uint8, int64, float64 were all converted to float64 by StandardScaler.\n",
            "  return self.fit(X, **fit_params).transform(X)\n",
            "/usr/local/lib/python3.6/dist-packages/ipykernel_launcher.py:6: DataConversionWarning: Data with input dtype uint8, int64, float64 were all converted to float64 by StandardScaler.\n",
            "  \n"
          ],
          "name": "stderr"
        }
      ]
    },
    {
      "metadata": {
        "id": "Bh-WUDSSzLb3",
        "colab_type": "text"
      },
      "cell_type": "markdown",
      "source": [
        "**Modelling**"
      ]
    },
    {
      "metadata": {
        "id": "RCUn19U3zCLO",
        "colab_type": "code",
        "outputId": "01284ef1-2da9-40ef-b7da-ffba22da95f8",
        "colab": {
          "base_uri": "https://localhost:8080/",
          "height": 51
        }
      },
      "cell_type": "code",
      "source": [
        "# predictive analytics\n",
        "# regression analysis\n",
        "# Linear Regression\n",
        "\n",
        "from sklearn.linear_model import Ridge\n",
        "from sklearn.metrics import r2_score\n",
        "from sklearn.metrics import mean_squared_error\n",
        "\n",
        "from math import *\n",
        "\n",
        "model = Ridge()\n",
        "model.fit(x_train, y_train)\n",
        "\n",
        "y_pred = model.predict(x_test)\n",
        "\n",
        "\n",
        "# finding the mean_squared error\n",
        "mse = mean_squared_error(y_test, y_pred)\n",
        "print(\"RMSE Error:\", np.sqrt(mse))\n",
        "\n",
        "# finding the r2 score or the variance\n",
        "r2 = r2_score(y_test, y_pred)\n",
        "print(\"R2 Score:\", r2)"
      ],
      "execution_count": 0,
      "outputs": [
        {
          "output_type": "stream",
          "text": [
            "RMSE Error: 4626.681093165721\n",
            "R2 Score: 0.13771549779099967\n"
          ],
          "name": "stdout"
        }
      ]
    },
    {
      "metadata": {
        "id": "E7ytgfUw07tV",
        "colab_type": "code",
        "outputId": "ac9504da-1961-48cb-8648-23147a1ba14c",
        "colab": {
          "base_uri": "https://localhost:8080/",
          "height": 51
        }
      },
      "cell_type": "code",
      "source": [
        "# predictive analytics\n",
        "# regression analysis\n",
        "# Linear Regression\n",
        "\n",
        "from sklearn.linear_model import ElasticNet\n",
        "from sklearn.metrics import r2_score\n",
        "from sklearn.metrics import mean_squared_error\n",
        "\n",
        "from math import *\n",
        "\n",
        "model = ElasticNet()\n",
        "model.fit(x_train, y_train)\n",
        "\n",
        "y_pred = model.predict(x_test)\n",
        "\n",
        "\n",
        "# finding the mean_squared error\n",
        "mse = mean_squared_error(y_test, y_pred)\n",
        "print(\"RMSE Error:\", np.sqrt(mse))\n",
        "\n",
        "# finding the r2 score or the variance\n",
        "r2 = r2_score(y_test, y_pred)\n",
        "print(\"R2 Score:\", r2)"
      ],
      "execution_count": 0,
      "outputs": [
        {
          "output_type": "stream",
          "text": [
            "RMSE Error: 4653.771496238752\n",
            "R2 Score: 0.12758814188315337\n"
          ],
          "name": "stdout"
        }
      ]
    },
    {
      "metadata": {
        "id": "XeZdmKQZ2QP2",
        "colab_type": "code",
        "outputId": "1e6fb901-1ea9-4df5-b983-2f8d9c0ae6ef",
        "colab": {
          "base_uri": "https://localhost:8080/",
          "height": 51
        }
      },
      "cell_type": "code",
      "source": [
        "# predictive analytics\n",
        "# regression analysis\n",
        "# Linear Regression\n",
        "\n",
        "from sklearn.linear_model import Lasso\n",
        "from sklearn.metrics import r2_score\n",
        "from sklearn.metrics import mean_squared_error\n",
        "\n",
        "from math import *\n",
        "\n",
        "model = Lasso()\n",
        "model.fit(x_train, y_train)\n",
        "\n",
        "y_pred = model.predict(x_test)\n",
        "\n",
        "\n",
        "# finding the mean_squared error\n",
        "mse = mean_squared_error(y_test, y_pred)\n",
        "print(\"RMSE Error:\", np.sqrt(mse))\n",
        "\n",
        "# finding the r2 score or the variance\n",
        "r2 = r2_score(y_test, y_pred)\n",
        "print(\"R2 Score:\", r2)"
      ],
      "execution_count": 0,
      "outputs": [
        {
          "output_type": "stream",
          "text": [
            "RMSE Error: 4626.692739073761\n",
            "R2 Score: 0.1377111568396987\n"
          ],
          "name": "stdout"
        }
      ]
    },
    {
      "metadata": {
        "id": "ivReHtsG2gPC",
        "colab_type": "code",
        "outputId": "3d80f278-b14a-4c56-f5ee-c928bea448ab",
        "colab": {
          "base_uri": "https://localhost:8080/",
          "height": 51
        }
      },
      "cell_type": "code",
      "source": [
        "# predictive analytics\n",
        "# regression analysis\n",
        "# Linear Regression\n",
        "\n",
        "from sklearn.linear_model import ElasticNet\n",
        "from sklearn.metrics import r2_score\n",
        "from sklearn.metrics import mean_squared_error\n",
        "\n",
        "from math import *\n",
        "\n",
        "model = ElasticNet()\n",
        "model.fit(x_train, y_train)\n",
        "\n",
        "y_pred = model.predict(x_test)\n",
        "\n",
        "\n",
        "# finding the mean_squared error\n",
        "mse = mean_squared_error(y_test, y_pred)\n",
        "print(\"RMSE Error:\", np.sqrt(mse))\n",
        "\n",
        "# finding the r2 score or the variance\n",
        "r2 = r2_score(y_test, y_pred)\n",
        "print(\"R2 Score:\", r2)"
      ],
      "execution_count": 0,
      "outputs": [
        {
          "output_type": "stream",
          "text": [
            "RMSE Error: 4653.771496238752\n",
            "R2 Score: 0.12758814188315337\n"
          ],
          "name": "stdout"
        }
      ]
    },
    {
      "metadata": {
        "id": "Uf5raHLD3FyF",
        "colab_type": "code",
        "outputId": "7a6c1351-f7f9-499e-9b65-3b038e663d7b",
        "colab": {
          "base_uri": "https://localhost:8080/",
          "height": 51
        }
      },
      "cell_type": "code",
      "source": [
        "# predictive analytics\n",
        "# regression analysis\n",
        "# Linear Regression\n",
        "\n",
        "from sklearn.ensemble import GradientBoostingRegressor\n",
        "from sklearn.metrics import r2_score\n",
        "from sklearn.metrics import mean_squared_error\n",
        "\n",
        "from math import *\n",
        "\n",
        "model = GradientBoostingRegressor(n_estimators = 100, max_depth = 5, min_samples_split = 2, learning_rate = 0.1)\n",
        "model.fit(x_train, y_train)\n",
        "\n",
        "y_pred = model.predict(x_test)\n",
        "\n",
        "\n",
        "# finding the mean_squared error\n",
        "mse = mean_squared_error(y_test, y_pred)\n",
        "print(\"RMSE Error:\", np.sqrt(mse))\n",
        "\n",
        "# finding the r2 score or the variance\n",
        "r2 = r2_score(y_test, y_pred)\n",
        "print(\"R2 Score:\", r2)"
      ],
      "execution_count": 0,
      "outputs": [
        {
          "output_type": "stream",
          "text": [
            "RMSE Error: 2941.136838215152\n",
            "R2 Score: 0.6515488428688831\n"
          ],
          "name": "stdout"
        }
      ]
    },
    {
      "metadata": {
        "id": "m2gialn_3qaK",
        "colab_type": "code",
        "colab": {}
      },
      "cell_type": "code",
      "source": [
        ""
      ],
      "execution_count": 0,
      "outputs": []
    }
  ]
}